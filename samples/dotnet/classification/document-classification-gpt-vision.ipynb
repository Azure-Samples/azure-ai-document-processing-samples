{
    "cells": [
        {
            "cell_type": "markdown",
            "metadata": {},
            "source": [
                "# Document Classification with Azure OpenAI's GPT-4o Vision Capabilities\n",
                "\n",
                "This sample demonstrates how to classify a document using Azure OpenAI's GPT-4o model with vision capabilities.\n",
                "\n",
                "![Data Classification](../../../images/classification-openai.png)\n",
                "\n",
                "This is achieved by the following process:\n",
                "\n",
                "- Define a list of classifications, with descriptions and keywords.\n",
                "- Construct a system prompt that defines the instruction for classifying document pages.\n",
                "- Construct a user prompt that includes the defined classifications, and each document page as an base64 encoded image.\n",
                "- Use the Azure OpenAI chat completions API with the GPT-4o model to generate a classification for each document page as a structured output.\n",
                "\n",
                "## Objectives\n",
                "\n",
                "By the end of this sample, you will have learned how to:\n",
                "\n",
                "- Convert a document into a set of base64 encoded images for processing by GPT-4o.\n",
                "- Use prompt engineering techniques to instruct GPT-4o to classify a document's pages into predefined categories.\n",
                "\n",
                "## Useful Tips\n",
                "\n",
                "- Combine this technique with a [page extraction](../extraction/README.md) approach to ensure that you extract the most relevant data from a document's pages."
            ]
        },
        {
            "cell_type": "markdown",
            "metadata": {},
            "source": [
                "## Setup"
            ]
        },
        {
            "cell_type": "markdown",
            "metadata": {},
            "source": [
                "### Import modules\n",
                "\n",
                "This sample takes advantage of the following .NET dependencies:\n",
                "\n",
                "- **pdf2image-dotnet** for converting a PDF file into a set of images per page.\n",
                "- **Azure.AI.OpenAI** to interface with the Azure OpenAI chat completions API to generate structured classification outputs using the GPT-4o model.\n",
                "- **Azure.Identity** to securely authenticate with deployed Azure Services using Microsoft Entra ID credentials.\n",
                "\n",
                "The following local components are also used:\n",
                "\n",
                "- [**Classification**](../modules/samples/models/Classification.csx) to define the classifications.\n",
                "- [**OpenAIStructuredOutputsHelpers**](../modules/samples/helpers/OpenAIStructuredOutputsHelpers.csx) to generate valid OpenAI JSON schemas for structured outputs, and use them with the OpenAI API `ResponseFormat` parameter to return a structured output in the response.\n",
                "- [**AccuracyEvaluator**](../modules/samples/evaluation/AccuracyEvaluator.csx) to evaluate the output of the classification process with expected results.\n",
                "- [**OpenAIConfidence**](../modules/samples/confidence/OpenAIConfidence.csx) to calculate the confidence of the classification process based on the `logprobs` response from the OpenAI API request using the `Microsoft.ML.Tokenizers` and `Microsoft.ML.Tokenizers.Data.O200kBase` libraries (the latter is required for tokenizers used for the GPT-4o model).\n",
                "- [**DocumentProcessingResult**](../modules/samples/models/DocumentProcessingResult.csx) to store the results of the classification process as a file.\n",
                "- [**AppSettings**](../modules/samples/AppSettings.csx) to access environment variables from the `.env` file."
            ]
        },
        {
            "cell_type": "code",
            "execution_count": 1,
            "metadata": {
                "polyglot_notebook": {
                    "kernelName": "csharp"
                },
                "vscode": {
                    "languageId": "polyglot-notebook"
                }
            },
            "outputs": [
                {
                    "data": {
                        "text/html": [
                            "<div><div></div><div></div><div><strong>Installed Packages</strong><ul><li><span>Azure.AI.OpenAI, 2.1.0</span></li><li><span>Azure.Identity, 1.13.2</span></li><li><span>DotNetEnv, 3.1.1</span></li><li><span>Microsoft.ML.Tokenizers, 1.0.2</span></li><li><span>Microsoft.ML.Tokenizers.Data.O200kBase, 1.0.2</span></li><li><span>pdf2image-dotnet, 1.0.0</span></li></ul></div></div>"
                        ]
                    },
                    "metadata": {},
                    "output_type": "display_data"
                }
            ],
            "source": [
                "#r \"nuget: Azure.Identity, 1.13.2\"\n",
                "#r \"nuget: Azure.AI.OpenAI, 2.1.0\"\n",
                "#r \"nuget: DotNetEnv, 3.1.1\"\n",
                "#r \"nuget: Microsoft.ML.Tokenizers, 1.0.2\"\n",
                "#r \"nuget: Microsoft.ML.Tokenizers.Data.O200kBase, 1.0.2\"\n",
                "#r \"nuget: pdf2image-dotnet, 1.0.0\"\n",
                "\n",
                "#!import ../modules/samples/AppSettings.csx\n",
                "#!import ../modules/samples/helpers/OpenAIStructuredOutputsHelpers.csx\n",
                "#!import ../modules/samples/helpers/StopwatchContext.csx\n",
                "#!import ../modules/samples/models/Classification.csx\n",
                "#!import ../modules/samples/models/DocumentProcessingResult.csx\n",
                "#!import ../modules/samples/evaluation/AccuracyEvaluator.csx\n",
                "#!import ../modules/samples/confidence/OpenAIConfidence.csx\n",
                "\n",
                "using System;\n",
                "using System.IO;\n",
                "using System.Text.Json;\n",
                "using Azure.Core;\n",
                "using Azure.Identity;\n",
                "using Azure.AI.OpenAI;\n",
                "using Azure.AI.OpenAI.Chat;\n",
                "using OpenAI;\n",
                "using OpenAI.Chat;\n",
                "using DotNetEnv;\n",
                "using Pdf2Image;"
            ]
        },
        {
            "cell_type": "markdown",
            "metadata": {},
            "source": [
                "### Configure the Azure services\n",
                "\n",
                "To use Azure OpenAI, the SDK is used to create a client instance using a deployed endpoint and authentication credentials.\n",
                "\n",
                "For this sample, the credentials of the Azure CLI are used to authenticate with the deployed services."
            ]
        },
        {
            "cell_type": "code",
            "execution_count": 2,
            "metadata": {
                "polyglot_notebook": {
                    "kernelName": "csharp"
                },
                "vscode": {
                    "languageId": "polyglot-notebook"
                }
            },
            "outputs": [],
            "source": [
                "string workingDir = Path.GetFullPath(\"../../../\");\n",
                "AppSettings settings = new AppSettings(new Dictionary<string, string>(Env.Load(Path.Combine(workingDir, \".env\"))));\n",
                "string samplePath = Path.Combine(workingDir, \"samples/dotnet/classification/\");\n",
                "string sampleName = \"document-classification-gpt-vision\";\n",
                "\n",
                "DefaultAzureCredential credential = new DefaultAzureCredential(\n",
                "    new DefaultAzureCredentialOptions { \n",
                "        ExcludeWorkloadIdentityCredential = true,\n",
                "        ExcludeAzureDeveloperCliCredential = true,\n",
                "        ExcludeEnvironmentCredential = true,\n",
                "        ExcludeManagedIdentityCredential = true,\n",
                "        ExcludeAzurePowerShellCredential = true,\n",
                "        ExcludeSharedTokenCacheCredential = true,\n",
                "        ExcludeInteractiveBrowserCredential = true\n",
                "    }\n",
                ");\n",
                "\n",
                "AzureOpenAIClient openaiClient = new AzureOpenAIClient(\n",
                "    new Uri(settings.OpenAIEndpoint),\n",
                "    credential\n",
                ");"
            ]
        },
        {
            "cell_type": "markdown",
            "metadata": {},
            "source": [
                "### Establish the expected output\n",
                "\n",
                "To compare the accuracy of the classification process, the expected output of the classification process has been defined in the following code block based on each page of a [Vehicle Insurance Policy](../../assets/vehicle_insurance/policy_1.pdf).\n",
                "\n",
                "The expected output has been defined by a human evaluating the document.\n",
                "\n",
                "> **Note**: Only the `PageNumber` and `Classification` are used in the accuracy evaluation."
            ]
        },
        {
            "cell_type": "code",
            "execution_count": 3,
            "metadata": {
                "polyglot_notebook": {
                    "kernelName": "csharp"
                },
                "vscode": {
                    "languageId": "polyglot-notebook"
                }
            },
            "outputs": [],
            "source": [
                "string path = Path.Combine(workingDir, \"samples/assets/vehicle_insurance/\");\n",
                "string pdfFName = \"policy_1.pdf\";\n",
                "string pdfFPath = Path.Combine(path, pdfFName);\n",
                "\n",
                "ClassificationsModel expected = new ClassificationsModel()\n",
                "{\n",
                "    Classifications = new List<ClassificationModel>()\n",
                "    {\n",
                "        new ClassificationModel() { Classification = \"Insurance Policy\", ImageRangeStart = 1, ImageRangeEnd = 5 },\n",
                "        new ClassificationModel() { Classification = \"Insurance Certificate\", ImageRangeStart = 6, ImageRangeEnd = 6 },\n",
                "        new ClassificationModel() { Classification = \"Terms and Conditions\", ImageRangeStart = 7, ImageRangeEnd = 13 }\n",
                "    }\n",
                "};\n",
                "\n",
                "AccuracyEvaluator<ClassificationsModel> classificationEvaluator = new AccuracyEvaluator<ClassificationsModel>(matchKeys: new List<string>() { \"Classification\", \"ImageRangeStart\" }, ignoreKeys: new List<string>() { });"
            ]
        },
        {
            "cell_type": "markdown",
            "metadata": {},
            "source": [
                "## Define classifications\n",
                "\n",
                "The following code block defines the classifications for a document. Each classification has a name, description, and keywords that will be used to classify the document's pages.\n",
                "\n",
                "> **Note**, the classifications have been defined based on expected content in a specific type of document, in this example, [a Vehicle Insurance Policy](../../assets/vehicle_insurance/policy_1.pdf)."
            ]
        },
        {
            "cell_type": "code",
            "execution_count": 4,
            "metadata": {
                "polyglot_notebook": {
                    "kernelName": "csharp"
                },
                "vscode": {
                    "languageId": "polyglot-notebook"
                }
            },
            "outputs": [],
            "source": [
                "List<ClassificationDefinitionModel> classifications = new List<ClassificationDefinitionModel>()\n",
                "{\n",
                "    new ClassificationDefinitionModel() { \n",
                "        Classification = \"Insurance Policy\", \n",
                "        Description = \"Specific information related to an insurance policy, such as coverage, limits, premiums, and terms, often used for reference or clarification purposes.\",\n",
                "        Keywords = new List<string>() {\n",
                "            \"welcome letter\",\n",
                "            \"personal details\",\n",
                "            \"vehicle details\",\n",
                "            \"insured driver details\",\n",
                "            \"policy details\",\n",
                "            \"incident/conviction history\",\n",
                "            \"schedule of insurance\",\n",
                "            \"vehicle damage excesses\"\n",
                "        }\n",
                "    },\n",
                "    new ClassificationDefinitionModel() { \n",
                "        Classification = \"Insurance Certificate\", \n",
                "        Description = \"A document that serves as proof of insurance coverage, often required for legal, regulatory, or contractual purposes.\",\n",
                "        Keywords = new List<string>() {\n",
                "            \"certificate of vehicle insurance\",\n",
                "            \"effective date of insurance\",\n",
                "            \"entitlement to drive\",\n",
                "            \"limitations of use\"\n",
                "        }\n",
                "    },\n",
                "    new ClassificationDefinitionModel() { \n",
                "        Classification = \"Terms and Conditions\", \n",
                "        Description = \"The rules, requirements, or obligations that govern an agreement or contract, often related to insurance policies, financial products, or legal documents.\",\n",
                "        Keywords = new List<string>() {\n",
                "            \"terms and conditions\",\n",
                "            \"legal statements\",\n",
                "            \"payment instructions\",\n",
                "            \"legal obligations\",\n",
                "            \"covered for\",\n",
                "            \"claim settlement\",\n",
                "            \"costs to pay\",\n",
                "            \"legal responsibility\",\n",
                "            \"personal accident coverage\",\n",
                "            \"medical expense coverage\",\n",
                "            \"personal liability coverage\",\n",
                "            \"windscreen damage coverage\",\n",
                "            \"uninsured motorist protection\",\n",
                "            \"renewal instructions\",\n",
                "            \"cancellation instructions\"\n",
                "        }\n",
                "    }\n",
                "};"
            ]
        },
        {
            "cell_type": "markdown",
            "metadata": {},
            "source": [
                "## Classify the document pages\n",
                "\n",
                "The following code block runs the classification process using Azure OpenAI's GPT-4o model using vision capabilities.\n",
                "\n",
                "It performs the following steps:\n",
                "\n",
                "1. Get the document bytes from the provided file path. _Note: In this example, we are processing a local document, however, you can use any document storage location of your choice, such as Azure Blob Storage._\n",
                "2. Use `pdf2image-dotnet` to convert the document to a list of images per page as base64 strings.\n",
                "3. Use Azure OpenAI's GPT-4o model and the classification definitions to provide a classification for each page of the document."
            ]
        },
        {
            "cell_type": "code",
            "execution_count": 5,
            "metadata": {
                "polyglot_notebook": {
                    "kernelName": "csharp"
                },
                "vscode": {
                    "languageId": "polyglot-notebook"
                }
            },
            "outputs": [],
            "source": [
                "StringBuilder systemPromptBuilder = new StringBuilder();\n",
                "systemPromptBuilder.AppendLine(\"You are an AI assistant that helps detect the boundaries of sub-section or sub-documents using the provided classifications.\");\n",
                "systemPromptBuilder.AppendLine(\"## Classifications\");\n",
                "systemPromptBuilder.AppendLine(JsonSerializer.Serialize(classifications));\n",
                "\n",
                "string systemPrompt = systemPromptBuilder.ToString();"
            ]
        },
        {
            "cell_type": "code",
            "execution_count": 6,
            "metadata": {
                "polyglot_notebook": {
                    "kernelName": "csharp"
                },
                "vscode": {
                    "languageId": "polyglot-notebook"
                }
            },
            "outputs": [],
            "source": [
                "List<ChatMessageContentPart> userContent = new List<ChatMessageContentPart>();"
            ]
        },
        {
            "cell_type": "code",
            "execution_count": 7,
            "metadata": {
                "polyglot_notebook": {
                    "kernelName": "csharp"
                },
                "vscode": {
                    "languageId": "polyglot-notebook"
                }
            },
            "outputs": [],
            "source": [
                "StringBuilder userTextPromptBuilder = new StringBuilder();\n",
                "userTextPromptBuilder.AppendLine(\"Classify insurance documents in the provided page images.\");\n",
                "userTextPromptBuilder.AppendLine(\"- A single classification may span multiple page images.\");\n",
                "userTextPromptBuilder.AppendLine(\"- A single page image may contain multiple classifications.\");\n",
                "userTextPromptBuilder.AppendLine(\"- If a page image does not contain a classification, ignore it.\");\n",
                "\n",
                "string userTextPrompt = userTextPromptBuilder.ToString();\n",
                "\n",
                "userContent.Add(ChatMessageContentPart.CreateTextPart(userTextPrompt));"
            ]
        },
        {
            "cell_type": "code",
            "execution_count": 8,
            "metadata": {
                "polyglot_notebook": {
                    "kernelName": "csharp"
                },
                "vscode": {
                    "languageId": "polyglot-notebook"
                }
            },
            "outputs": [],
            "source": [
                "StopwatchContext imageSw;\n",
                "\n",
                "using (imageSw = new StopwatchContext())\n",
                "{\n",
                "    var pdfBytes = File.ReadAllBytes(pdfFPath);\n",
                "    var pages = await Pdf2ImageConverter.FromBytesAsync(pdfBytes);\n",
                "\n",
                "    for (int i = 0; i < pages.Count; i++)\n",
                "    {\n",
                "        var pageData = BinaryData.FromBytes(pages[i]);\n",
                "        userContent.Add(ChatMessageContentPart.CreateTextPart($\"Page {i + 1}\"));\n",
                "        userContent.Add(ChatMessageContentPart.CreateImagePart(pageData, \"image/png\"));\n",
                "    }\n",
                "}"
            ]
        },
        {
            "cell_type": "code",
            "execution_count": 9,
            "metadata": {
                "polyglot_notebook": {
                    "kernelName": "csharp"
                },
                "vscode": {
                    "languageId": "polyglot-notebook"
                }
            },
            "outputs": [],
            "source": [
                "ParsedChatCompletion<ClassificationsModel> completion;\n",
                "\n",
                "StopwatchContext oaiSw;\n",
                "\n",
                "using (oaiSw = new StopwatchContext())\n",
                "{\n",
                "    completion = await openaiClient\n",
                "        .GetChatClient(settings.GPT4OModelDeploymentName)\n",
                "        .CompleteChatAsync(\n",
                "            [\n",
                "                new SystemChatMessage(systemPrompt),\n",
                "                new UserChatMessage(userContent)\n",
                "            ],\n",
                "            new ChatCompletionOptions\n",
                "            {   \n",
                "                ResponseFormat = CreateJsonSchemaFormat<ClassificationsModel>(\"classificationsModel\", jsonSchemaIsStrict: true),\n",
                "                MaxOutputTokenCount = 4096,\n",
                "                Temperature = 0.1f,\n",
                "                TopP = 0.1f,\n",
                "                IncludeLogProbabilities = true\n",
                "            }\n",
                "        );\n",
                "}"
            ]
        },
        {
            "cell_type": "markdown",
            "metadata": {},
            "source": [
                "## Calculate the accuracy\n",
                "\n",
                "The following code block calculates the accuracy of the classification process by comparing the actual classifications with the predicted classifications."
            ]
        },
        {
            "cell_type": "code",
            "execution_count": 10,
            "metadata": {
                "polyglot_notebook": {
                    "kernelName": "csharp"
                },
                "vscode": {
                    "languageId": "polyglot-notebook"
                }
            },
            "outputs": [],
            "source": [
                "var documentClassifications = completion.Parsed;\n",
                "\n",
                "var accuracy = classificationEvaluator.Evaluate(expected, documentClassifications);"
            ]
        },
        {
            "cell_type": "markdown",
            "metadata": {},
            "source": [
                "## Visualize the outputs\n",
                "\n",
                "To provide context for the execution of the code, the following code blocks visualize the outputs of the classification process.\n",
                "\n",
                "This includes:\n",
                "\n",
                "- The accuracy of the classification process comparing the expected output with the output generated by Azure OpenAI's GPT-4o model.\n",
                "- The confidence score of the classification process based on the log probability of the predicted classification.\n",
                "- The execution time of the end-to-end process.\n",
                "- The total number of tokens consumed by the GPT-4o model.\n",
                "- The classification results for each page of the document.\n",
                "\n",
                "### Understanding Accuracy vs Confidence\n",
                "\n",
                "When using AI to classify data, both confidence and accuracy are essential for different but complementary reasons.\n",
                "\n",
                "- **Accuracy** measures how close the AI model's output is to a ground truth or expected output. It reflects how well the model's predictions align with reality.\n",
                "  - Accuracy ensures consistency in the classification process, which is crucial for downstream tasks using the data.\n",
                "- **Confidence** represents the AI model's internal assessment of how certain it is about its predictions.\n",
                "  - Confidence indicates that the model is certain about its predictions, which can be a useful indicator for human reviewers to step in for manual verification.\n",
                "\n",
                "High accuracy and high confidence are ideal, but in practice, there is often a trade-off between the two. While accuracy cannot always be self-assessed, confidence scores can and should be used to prioritize manual verification of low-confidence predictions."
            ]
        },
        {
            "cell_type": "code",
            "execution_count": 11,
            "metadata": {
                "polyglot_notebook": {
                    "kernelName": "csharp"
                },
                "vscode": {
                    "languageId": "polyglot-notebook"
                }
            },
            "outputs": [],
            "source": [
                "var confidence = OpenAIConfidence<ClassificationsModel>.EvaluateConfidence(documentClassifications, completion.Origin);"
            ]
        },
        {
            "cell_type": "code",
            "execution_count": 12,
            "metadata": {
                "polyglot_notebook": {
                    "kernelName": "csharp"
                },
                "vscode": {
                    "languageId": "polyglot-notebook"
                }
            },
            "outputs": [],
            "source": [
                "// Gets the total execution time of the classification process.\n",
                "var totalElapsed = imageSw.Elapsed + oaiSw.Elapsed;\n",
                "\n",
                "// Gets the prompt tokens and completion tokens from the completion response.\n",
                "var promptTokens = completion.Usage.InputTokenCount;\n",
                "var completionTokens = completion.Usage.OutputTokenCount;"
            ]
        },
        {
            "cell_type": "code",
            "execution_count": 13,
            "metadata": {
                "polyglot_notebook": {
                    "kernelName": "csharp"
                },
                "vscode": {
                    "languageId": "polyglot-notebook"
                }
            },
            "outputs": [],
            "source": [
                "// Save the output of the data classification result\n",
                "var classificationResult = new DataProcessingResult<ClassificationsModel>(\n",
                "    documentClassifications,\n",
                "    accuracy,\n",
                "    confidence,\n",
                "    promptTokens,\n",
                "    completionTokens,\n",
                "    totalElapsed\n",
                ");\n",
                "\n",
                "var classificationResultJson = JsonSerializer.Serialize(classificationResult, new JsonSerializerOptions { WriteIndented = true });\n",
                "var classificationResultFPath = Path.Combine(samplePath, $\"{sampleName}.{pdfFName}.json\");\n",
                "\n",
                "await File.WriteAllTextAsync(classificationResultFPath, classificationResultJson);"
            ]
        },
        {
            "cell_type": "code",
            "execution_count": 14,
            "metadata": {
                "polyglot_notebook": {
                    "kernelName": "csharp"
                },
                "vscode": {
                    "languageId": "polyglot-notebook"
                }
            },
            "outputs": [
                {
                    "data": {
                        "text/html": [
                            "<details open=\"open\" class=\"dni-treeview\"><summary><span class=\"dni-code-hint\"><code>{ Accuracy = 100.00%, Confidence = 96.44%, ExecutionTime = 22.03 seconds, ImagePreprocessingTime = 8.27 seconds, OpenAIExecutionTime = 13.76 seconds, PromptTokens = 10496, CompletionTokens = 58 }</code></span></summary><div><table><thead><tr></tr></thead><tbody><tr><td>Accuracy</td><td><div class=\"dni-plaintext\"><pre>100.00%</pre></div></td></tr><tr><td>Confidence</td><td><div class=\"dni-plaintext\"><pre>96.44%</pre></div></td></tr><tr><td>ExecutionTime</td><td><div class=\"dni-plaintext\"><pre>22.03 seconds</pre></div></td></tr><tr><td>ImagePreprocessingTime</td><td><div class=\"dni-plaintext\"><pre>8.27 seconds</pre></div></td></tr><tr><td>OpenAIExecutionTime</td><td><div class=\"dni-plaintext\"><pre>13.76 seconds</pre></div></td></tr><tr><td>PromptTokens</td><td><div class=\"dni-plaintext\"><pre>10496</pre></div></td></tr><tr><td>CompletionTokens</td><td><div class=\"dni-plaintext\"><pre>58</pre></div></td></tr></tbody></table></div></details><style>\r\n",
                            ".dni-code-hint {\r\n",
                            "    font-style: italic;\r\n",
                            "    overflow: hidden;\r\n",
                            "    white-space: nowrap;\r\n",
                            "}\r\n",
                            ".dni-treeview {\r\n",
                            "    white-space: nowrap;\r\n",
                            "}\r\n",
                            ".dni-treeview td {\r\n",
                            "    vertical-align: top;\r\n",
                            "    text-align: start;\r\n",
                            "}\r\n",
                            "details.dni-treeview {\r\n",
                            "    padding-left: 1em;\r\n",
                            "}\r\n",
                            "table td {\r\n",
                            "    text-align: start;\r\n",
                            "}\r\n",
                            "table tr { \r\n",
                            "    vertical-align: top; \r\n",
                            "    margin: 0em 0px;\r\n",
                            "}\r\n",
                            "table tr td pre \r\n",
                            "{ \r\n",
                            "    vertical-align: top !important; \r\n",
                            "    margin: 0em 0px !important;\r\n",
                            "} \r\n",
                            "table th {\r\n",
                            "    text-align: start;\r\n",
                            "}\r\n",
                            "</style>"
                        ]
                    },
                    "metadata": {},
                    "output_type": "display_data"
                },
                {
                    "data": {
                        "text/html": [
                            "<table><thead><tr><th><i>key</i></th><th><i>type</i></th><th>value</th></tr></thead><tbody><tr><td><div class=\"dni-plaintext\"><pre>Classifications</pre></div></td><td><span><a href=\"https://docs.microsoft.com/dotnet/api/system.collections.generic.list-1?view=net-7.0\">System.Collections.Generic.List&lt;System.Object&gt;</a></span></td><td><table><thead><tr><th><i>index</i></th><th>value</th></tr></thead><tbody><tr><td>0</td><td><table><thead><tr><th><i>key</i></th><th>value</th></tr></thead><tbody><tr><td><div class=\"dni-plaintext\"><pre>Classification</pre></div></td><td><table><thead><tr><th><i>key</i></th><th><i>type</i></th><th>value</th></tr></thead><tbody><tr><td><div class=\"dni-plaintext\"><pre>confidence</pre></div></td><td><span><a href=\"https://docs.microsoft.com/dotnet/api/system.double?view=net-7.0\">System.Double</a></span></td><td><div class=\"dni-plaintext\"><pre>0.9991068948863359</pre></div></td></tr><tr><td><div class=\"dni-plaintext\"><pre>value</pre></div></td><td><span><a href=\"https://docs.microsoft.com/dotnet/api/system.string?view=net-7.0\">System.String</a></span></td><td><div class=\"dni-plaintext\"><pre>Insurance Policy</pre></div></td></tr></tbody></table></td></tr><tr><td><div class=\"dni-plaintext\"><pre>ImageRangeStart</pre></div></td><td><table><thead><tr><th><i>key</i></th><th><i>type</i></th><th>value</th></tr></thead><tbody><tr><td><div class=\"dni-plaintext\"><pre>confidence</pre></div></td><td><span><a href=\"https://docs.microsoft.com/dotnet/api/system.double?view=net-7.0\">System.Double</a></span></td><td><div class=\"dni-plaintext\"><pre>0.9998931248191417</pre></div></td></tr><tr><td><div class=\"dni-plaintext\"><pre>value</pre></div></td><td><span><a href=\"https://docs.microsoft.com/dotnet/api/system.string?view=net-7.0\">System.String</a></span></td><td><div class=\"dni-plaintext\"><pre>1</pre></div></td></tr></tbody></table></td></tr><tr><td><div class=\"dni-plaintext\"><pre>ImageRangeEnd</pre></div></td><td><table><thead><tr><th><i>key</i></th><th><i>type</i></th><th>value</th></tr></thead><tbody><tr><td><div class=\"dni-plaintext\"><pre>confidence</pre></div></td><td><span><a href=\"https://docs.microsoft.com/dotnet/api/system.double?view=net-7.0\">System.Double</a></span></td><td><div class=\"dni-plaintext\"><pre>0.6936893779323026</pre></div></td></tr><tr><td><div class=\"dni-plaintext\"><pre>value</pre></div></td><td><span><a href=\"https://docs.microsoft.com/dotnet/api/system.string?view=net-7.0\">System.String</a></span></td><td><div class=\"dni-plaintext\"><pre>5</pre></div></td></tr></tbody></table></td></tr></tbody></table></td></tr><tr><td>1</td><td><table><thead><tr><th><i>key</i></th><th>value</th></tr></thead><tbody><tr><td><div class=\"dni-plaintext\"><pre>Classification</pre></div></td><td><table><thead><tr><th><i>key</i></th><th><i>type</i></th><th>value</th></tr></thead><tbody><tr><td><div class=\"dni-plaintext\"><pre>confidence</pre></div></td><td><span><a href=\"https://docs.microsoft.com/dotnet/api/system.double?view=net-7.0\">System.Double</a></span></td><td><div class=\"dni-plaintext\"><pre>0.998090270354434</pre></div></td></tr><tr><td><div class=\"dni-plaintext\"><pre>value</pre></div></td><td><span><a href=\"https://docs.microsoft.com/dotnet/api/system.string?view=net-7.0\">System.String</a></span></td><td><div class=\"dni-plaintext\"><pre>Insurance Certificate</pre></div></td></tr></tbody></table></td></tr><tr><td><div class=\"dni-plaintext\"><pre>ImageRangeStart</pre></div></td><td><table><thead><tr><th><i>key</i></th><th><i>type</i></th><th>value</th></tr></thead><tbody><tr><td><div class=\"dni-plaintext\"><pre>confidence</pre></div></td><td><span><a href=\"https://docs.microsoft.com/dotnet/api/system.double?view=net-7.0\">System.Double</a></span></td><td><div class=\"dni-plaintext\"><pre>0.9999534372472745</pre></div></td></tr><tr><td><div class=\"dni-plaintext\"><pre>value</pre></div></td><td><span><a href=\"https://docs.microsoft.com/dotnet/api/system.string?view=net-7.0\">System.String</a></span></td><td><div class=\"dni-plaintext\"><pre>6</pre></div></td></tr></tbody></table></td></tr><tr><td><div class=\"dni-plaintext\"><pre>ImageRangeEnd</pre></div></td><td><table><thead><tr><th><i>key</i></th><th><i>type</i></th><th>value</th></tr></thead><tbody><tr><td><div class=\"dni-plaintext\"><pre>confidence</pre></div></td><td><span><a href=\"https://docs.microsoft.com/dotnet/api/system.double?view=net-7.0\">System.Double</a></span></td><td><div class=\"dni-plaintext\"><pre>0.9899174946204887</pre></div></td></tr><tr><td><div class=\"dni-plaintext\"><pre>value</pre></div></td><td><span><a href=\"https://docs.microsoft.com/dotnet/api/system.string?view=net-7.0\">System.String</a></span></td><td><div class=\"dni-plaintext\"><pre>6</pre></div></td></tr></tbody></table></td></tr></tbody></table></td></tr><tr><td>2</td><td><table><thead><tr><th><i>key</i></th><th>value</th></tr></thead><tbody><tr><td><div class=\"dni-plaintext\"><pre>Classification</pre></div></td><td><table><thead><tr><th><i>key</i></th><th><i>type</i></th><th>value</th></tr></thead><tbody><tr><td><div class=\"dni-plaintext\"><pre>confidence</pre></div></td><td><span><a href=\"https://docs.microsoft.com/dotnet/api/system.double?view=net-7.0\">System.Double</a></span></td><td><div class=\"dni-plaintext\"><pre>0.9999549495338071</pre></div></td></tr><tr><td><div class=\"dni-plaintext\"><pre>value</pre></div></td><td><span><a href=\"https://docs.microsoft.com/dotnet/api/system.string?view=net-7.0\">System.String</a></span></td><td><div class=\"dni-plaintext\"><pre>Terms and Conditions</pre></div></td></tr></tbody></table></td></tr><tr><td><div class=\"dni-plaintext\"><pre>ImageRangeStart</pre></div></td><td><table><thead><tr><th><i>key</i></th><th><i>type</i></th><th>value</th></tr></thead><tbody><tr><td><div class=\"dni-plaintext\"><pre>confidence</pre></div></td><td><span><a href=\"https://docs.microsoft.com/dotnet/api/system.double?view=net-7.0\">System.Double</a></span></td><td><div class=\"dni-plaintext\"><pre>0.999909215726114</pre></div></td></tr><tr><td><div class=\"dni-plaintext\"><pre>value</pre></div></td><td><span><a href=\"https://docs.microsoft.com/dotnet/api/system.string?view=net-7.0\">System.String</a></span></td><td><div class=\"dni-plaintext\"><pre>7</pre></div></td></tr></tbody></table></td></tr><tr><td><div class=\"dni-plaintext\"><pre>ImageRangeEnd</pre></div></td><td><table><thead><tr><th><i>key</i></th><th><i>type</i></th><th>value</th></tr></thead><tbody><tr><td><div class=\"dni-plaintext\"><pre>confidence</pre></div></td><td><span><a href=\"https://docs.microsoft.com/dotnet/api/system.double?view=net-7.0\">System.Double</a></span></td><td><div class=\"dni-plaintext\"><pre>0.9988262991267038</pre></div></td></tr><tr><td><div class=\"dni-plaintext\"><pre>value</pre></div></td><td><span><a href=\"https://docs.microsoft.com/dotnet/api/system.string?view=net-7.0\">System.String</a></span></td><td><div class=\"dni-plaintext\"><pre>13</pre></div></td></tr></tbody></table></td></tr></tbody></table></td></tr></tbody></table></td></tr><tr><td><div class=\"dni-plaintext\"><pre>_overall</pre></div></td><td><span><a href=\"https://docs.microsoft.com/dotnet/api/system.double?view=net-7.0\">System.Double</a></span></td><td><div class=\"dni-plaintext\"><pre>0.9643712293607335</pre></div></td></tr></tbody></table><style>\r\n",
                            ".dni-code-hint {\r\n",
                            "    font-style: italic;\r\n",
                            "    overflow: hidden;\r\n",
                            "    white-space: nowrap;\r\n",
                            "}\r\n",
                            ".dni-treeview {\r\n",
                            "    white-space: nowrap;\r\n",
                            "}\r\n",
                            ".dni-treeview td {\r\n",
                            "    vertical-align: top;\r\n",
                            "    text-align: start;\r\n",
                            "}\r\n",
                            "details.dni-treeview {\r\n",
                            "    padding-left: 1em;\r\n",
                            "}\r\n",
                            "table td {\r\n",
                            "    text-align: start;\r\n",
                            "}\r\n",
                            "table tr { \r\n",
                            "    vertical-align: top; \r\n",
                            "    margin: 0em 0px;\r\n",
                            "}\r\n",
                            "table tr td pre \r\n",
                            "{ \r\n",
                            "    vertical-align: top !important; \r\n",
                            "    margin: 0em 0px !important;\r\n",
                            "} \r\n",
                            "table th {\r\n",
                            "    text-align: start;\r\n",
                            "}\r\n",
                            "</style>"
                        ]
                    },
                    "metadata": {},
                    "output_type": "display_data"
                }
            ],
            "source": [
                "// Display the outputs of the classification process.\n",
                "var output = new\n",
                "{\n",
                "    Accuracy = $\"{float.Parse(accuracy[\"overall\"].ToString()) * 100:0.00}%\",\n",
                "    Confidence = $\"{float.Parse(confidence[\"_overall\"].ToString()) * 100:0.00}%\",\n",
                "    ExecutionTime = $\"{totalElapsed.TotalSeconds:0.00} seconds\",\n",
                "    ImagePreprocessingTime = $\"{imageSw.Elapsed.TotalSeconds:0.00} seconds\",\n",
                "    OpenAIExecutionTime = $\"{oaiSw.Elapsed.TotalSeconds:0.00} seconds\",\n",
                "    PromptTokens = promptTokens,\n",
                "    CompletionTokens = completionTokens,\n",
                "};\n",
                "\n",
                "display(output);\n",
                "display(confidence);"
            ]
        }
    ],
    "metadata": {
        "kernelspec": {
            "display_name": ".NET (C#)",
            "language": "C#",
            "name": ".net-csharp"
        },
        "language_info": {
            "name": "C#"
        },
        "polyglot_notebook": {
            "kernelInfo": {
                "defaultKernelName": "csharp",
                "items": [
                    {
                        "aliases": [],
                        "name": "csharp"
                    }
                ]
            }
        }
    },
    "nbformat": 4,
    "nbformat_minor": 2
}
