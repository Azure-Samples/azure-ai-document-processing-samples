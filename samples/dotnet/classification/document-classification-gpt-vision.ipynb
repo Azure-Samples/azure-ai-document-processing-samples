{
    "cells": [
        {
            "cell_type": "markdown",
            "metadata": {},
            "source": [
                "# Document Classification with Azure OpenAI's GPT-4o Vision Capabilities\n",
                "\n",
                "This sample demonstrates how to classify a document using Azure OpenAI's GPT-4o model with vision capabilities.\n",
                "\n",
                "![Data Classification](../../../images/classification-openai.png)\n",
                "\n",
                "This is achieved by the following process:\n",
                "\n",
                "- Define a list of classifications, with descriptions and keywords.\n",
                "- Construct a system prompt that defines the instruction for classifying document pages.\n",
                "- Construct a user prompt that includes the defined classifications, and each document page as an base64 encoded image.\n",
                "- Use the Azure OpenAI chat completions API with the GPT-4o model to generate a classification for each document page as a structured output.\n",
                "\n",
                "## Objectives\n",
                "\n",
                "By the end of this sample, you will have learned how to:\n",
                "\n",
                "- Convert a document into a set of base64 encoded images for processing by GPT-4o.\n",
                "- Use prompt engineering techniques to instruct GPT-4o to classify a document's pages into predefined categories.\n",
                "\n",
                "## Useful Tips\n",
                "\n",
                "- Combine this technique with a [page extraction](../extraction/README.md) approach to ensure that you extract the most relevant data from a document's pages."
            ]
        },
        {
            "cell_type": "markdown",
            "metadata": {},
            "source": [
                "## Setup\n",
                "\n",
                "### Import modules and reference NuGet packages\n",
                "\n",
                "This sample uses several .NET libraries including:\n",
                "\n",
                "- **Azure.Identity** for authentication with Azure services.\n",
                "- **Azure.AI.OpenAI** to call the OpenAI chat completions API.\n",
                "- A PDF processing library (to be implemented) for converting PDF pages to images.\n",
                "\n",
                "The notebook also uses local helper classes for classification models, confidence evaluation, and timing."
            ]
        },
        {
            "cell_type": "code",
            "execution_count": null,
            "id": "24538649",
            "metadata": {
                "dotnet_interactive": {
                    "language": "csharp"
                },
                "polyglot_notebook": {
                    "kernelName": "csharp"
                },
                "vscode": {
                    "languageId": "polyglot-notebook"
                }
            },
            "outputs": [],
            "source": [
                "using System;\n",
                "using System.IO;\n",
                "using System.Collections.Generic;\n",
                "using System.Text;\n",
                "using Azure.Identity;\n",
                "using Azure.AI.OpenAI;\n",
                "using System.Threading.Tasks;\n",
                "using System.Text.Json;\n",
                "\n",
                "// TODO: add using for any PDF conversion library and helper methods (for example, a custom PDF2Image method).\n",
                "\n",
                "// Assume we have local classes equivalent to the Python ones\n",
                "public class Classification\n",
                "{\n",
                "    public int? PageNumber { get; set; }\n",
                "    public string ClassificationName { get; set; }\n",
                "    public double? Similarity { get; set; }\n",
                "}\n",
                "\n",
                "public class Classifications\n",
                "{\n",
                "    public List<Classification> Items { get; set; } = new List<Classification>();\n",
                "    \n",
                "    // Serialize to JSON\n",
                "    public string ToJson() => JsonSerializer.Serialize(this, new JsonSerializerOptions { WriteIndented = true });\n",
                "}\n",
                "\n",
                "// A stub for evaluating accuracy\n",
                "public class AccuracyEvaluator\n",
                "{\n",
                "    public double Evaluate(Classifications expected, Classifications actual)\n",
                "    {\n",
                "        // TODO: implement comparison logic\n",
                "        return 1.0; // stub example returning 100% accuracy\n",
                "    }\n",
                "}\n"
            ]
        },
        {
            "cell_type": "markdown",
            "id": "79e0a742",
            "metadata": {},
            "source": []
        },
        {
            "cell_type": "markdown",
            "metadata": {},
            "source": [
                "### Configure Azure Services and Read Environment Settings\n",
                "\n",
                "This cell sets the working directory and configures credentials for accessing Azure OpenAI using Azure.Identity. Adjust the settings as needed."
            ]
        },
        {
            "cell_type": "code",
            "execution_count": null,
            "id": "04b6c59d",
            "metadata": {
                "dotnet_interactive": {
                    "language": "csharp"
                },
                "polyglot_notebook": {
                    "kernelName": "csharp"
                },
                "vscode": {
                    "languageId": "polyglot-notebook"
                }
            },
            "outputs": [],
            "source": [
                "string workingDir = Path.GetFullPath(Path.Combine(Environment.CurrentDirectory, \"..\", \"..\", \"..\"));\n",
                "\n",
                "// Read settings from .env or configuration file (you can use a NuGet package like DotNetEnv)\n",
                "// For demonstration, we will use hardcoded settings.\n",
                "var settings = new {\n",
                "    OpenAIEndpoint = \"https://your-openai-endpoint.azure.com/\",\n",
                "    Gpt4oModelDeploymentName = \"gpt-4o-deployment-name\"\n",
                "};\n",
                "\n",
                "// Configure credentials\n",
                "var credential = new DefaultAzureCredential(new DefaultAzureCredentialOptions {\n",
                "    ExcludeInteractiveBrowserCredential = true\n",
                "    // Other exclusions can be added if needed\n",
                "});\n",
                "\n",
                "// Create a token credential and initialize the OpenAI client\n",
                "var openAiClient = new OpenAIClient(new Uri(settings.OpenAIEndpoint), credential);\n",
                "\n",
                "Console.WriteLine($\"Working directory: {workingDir}\");"
            ]
        },
        {
            "cell_type": "markdown",
            "metadata": {},
            "source": [
                "## Establish the expected output\n",
                "\n",
                "Define the expected classifications (e.g. for a Vehicle Insurance Policy). Only `PageNumber` and `ClassificationName` are used for accuracy evaluation."
            ]
        },
        {
            "cell_type": "code",
            "execution_count": null,
            "id": "c76e0f3b",
            "metadata": {
                "dotnet_interactive": {
                    "language": "csharp"
                },
                "polyglot_notebook": {
                    "kernelName": "csharp"
                },
                "vscode": {
                    "languageId": "polyglot-notebook"
                }
            },
            "outputs": [],
            "source": [
                "var expected = new Classifications();\n",
                "\n",
                "for (int i = 1; i <= 13; i++)\n",
                "{\n",
                "    // For pages 1-5: Insurance Policy; page 6: Insurance Certificate; pages 7-13: Terms and Conditions\n",
                "    if (i <= 5) \n",
                "        expected.Items.Add(new Classification { PageNumber = i, ClassificationName = \"Insurance Policy\", Similarity = 1 });\n",
                "    else if (i == 6)\n",
                "        expected.Items.Add(new Classification { PageNumber = i, ClassificationName = \"Insurance Certificate\", Similarity = 1 });\n",
                "    else\n",
                "        expected.Items.Add(new Classification { PageNumber = i, ClassificationName = \"Terms and Conditions\", Similarity = 1 });\n",
                "}\n",
                "\n",
                "var evaluator = new AccuracyEvaluator();"
            ]
        },
        {
            "cell_type": "markdown",
            "metadata": {},
            "source": [
                "## Define Classifications\n",
                "\n",
                "Define a list of classifications with descriptions and keywords. This list will be sent to the model as part of the prompt."
            ]
        },
        {
            "cell_type": "code",
            "execution_count": null,
            "id": "2934cd15",
            "metadata": {
                "dotnet_interactive": {
                    "language": "csharp"
                },
                "polyglot_notebook": {
                    "kernelName": "csharp"
                },
                "vscode": {
                    "languageId": "polyglot-notebook"
                }
            },
            "outputs": [],
            "source": [
                "var classifications = new List<dynamic> {\n",
                "    new {\n",
                "        classification = \"Insurance Policy\",\n",
                "        description = \"Information such as coverage, limits, premiums, and terms.\",\n",
                "        keywords = new[] { \"welcome letter\", \"personal details\", \"vehicle details\", \"policy details\" }\n",
                "    },\n",
                "    new {\n",
                "        classification = \"Insurance Certificate\",\n",
                "        description = \"Proof of insurance coverage.\",\n",
                "        keywords = new[] { \"certificate of vehicle insurance\", \"effective date\", \"entitlement\" }\n",
                "    },\n",
                "    new {\n",
                "        classification = \"Terms and Conditions\",\n",
                "        description = \"Rules and obligations in a contract.\",\n",
                "        keywords = new[] { \"terms and conditions\", \"legal statements\", \"payment instructions\" }\n",
                "    }\n",
                "};\n",
                "\n",
                "// Serialize classifications to JSON string to include in the prompt\n",
                "string classificationsJson = JsonSerializer.Serialize(classifications, new JsonSerializerOptions { WriteIndented = true });\n",
                "Console.WriteLine(\"Classifications JSON:\\n\" + classificationsJson);"
            ]
        },
        {
            "cell_type": "markdown",
            "metadata": {},
            "source": [
                "## Classify the Document Pages\n",
                "\n",
                "The following code block outlines the process:\n",
                "\n",
                "1. Read the PDF file and convert each page into a Base64 encoded PNG image (implementation required).\n",
                "2. Build a system prompt and user prompt (including the classifications and images).\n",
                "3. Call the Azure OpenAI chat completions API with the GPT-4o model to obtain classifications."
            ]
        },
        {
            "cell_type": "code",
            "execution_count": null,
            "id": "3b40e876",
            "metadata": {
                "dotnet_interactive": {
                    "language": "csharp"
                },
                "polyglot_notebook": {
                    "kernelName": "csharp"
                },
                "vscode": {
                    "languageId": "polyglot-notebook"
                }
            },
            "outputs": [],
            "source": [
                "// Define the system prompt\n",
                "string systemPrompt = @\"Using the classifications provided, classify each page of the following document into one of the classifications.\n",
                "\n",
                "- If a page contains multiple classifications, choose the most relevant one.\n",
                "- If a page does not fit any of the classifications, use the classification 'Unclassified'.\";\n",
                "\n",
                "// Build the user prompt by including the classifications JSON\n",
                "string userTextPrompt = $\"Classifications:\\n\\n{classificationsJson}\";\n",
                "\n",
                "// Placeholder: Read PDF file bytes (adjust the path as needed)\n",
                "string pdfPath = Path.Combine(workingDir, \"samples\", \"assets\", \"vehicle_insurance\", \"policy_1.pdf\");\n",
                "byte[] pdfBytes = File.ReadAllBytes(pdfPath);\n",
                "\n",
                "// TODO: Implement a method ConvertPdfToImages that returns a List<byte[]> where each byte[] is an image in PNG format\n",
                "List<byte[]> pageImages = new List<byte[]>();\n",
                "// For now, assume a stub that returns an empty list or sample images\n",
                "\n",
                "// Simulate encoding each page to a Base64 string\n",
                "var userContent = new List<dynamic>();\n",
                "\n",
                "userContent.Add(new { type = \"text\", text = userTextPrompt });\n",
                "\n",
                "foreach (var imageBytes in pageImages)\n",
                "{\n",
                "    string base64Data = Convert.ToBase64String(imageBytes);\n",
                "    userContent.Add(new {\n",
                "        type = \"image_url\",\n",
                "        image_url = new { url = $\"data:image/png;base64,{base64Data}\" }\n",
                "    });\n",
                "}\n",
                "\n",
                "// Display prompt information for debugging\n",
                "Console.WriteLine(\"System Prompt:\\n\" + systemPrompt);\n",
                "Console.WriteLine(\"User Content:\\n\" + JsonSerializer.Serialize(userContent, new JsonSerializerOptions { WriteIndented = true }));"
            ]
        },
        {
            "cell_type": "markdown",
            "metadata": {},
            "source": [
                "### Call Azure OpenAI API to Get Classifications\n",
                "\n",
                "This cell calls the GPT-4o model using the constructed prompts. In practice, you will need to implement structured response handling (for example, using a Pydantic-like model in .NET)."
            ]
        },
        {
            "cell_type": "code",
            "execution_count": null,
            "id": "abb98dcf",
            "metadata": {
                "dotnet_interactive": {
                    "language": "csharp"
                },
                "polyglot_notebook": {
                    "kernelName": "csharp"
                },
                "vscode": {
                    "languageId": "polyglot-notebook"
                }
            },
            "outputs": [],
            "source": [
                "// NOTE: This is a stub implementation. You will need to build the request payload and parse the response accordingly.\n",
                "\n",
                "async Task<dynamic> ClassifyDocumentAsync()\n",
                "{\n",
                "    // Build messages\n",
                "    var messages = new List<dynamic> {\n",
                "        new { role = \"system\", content = systemPrompt },\n",
                "        new { role = \"user\", content = userContent }\n",
                "    };\n",
                "\n",
                "    // Call the OpenAI chat completions API\n",
                "    // Replace with actual method invocation and parsing logic\n",
                "    // For demonstration, we return a stub object\n",
                "    await Task.Delay(1000); // simulate network call\n",
                "    return new {\n",
                "        choices = new[] {\n",
                "            new {\n",
                "                message = new { parsed = new Classifications() },\n",
                "                usage = new { prompt_tokens = 8000, completion_tokens = 200 },\n",
                "                logprobs = (object)null\n",
                "            }\n",
                "        }\n",
                "    };\n",
                "}\n",
                "\n",
                "var classificationResponse = await ClassifyDocumentAsync();\n",
                "\n",
                "// Retrieve the classifications from the response (stub)\n",
                "var documentClassifications = (classificationResponse.choices[0].message.parsed as Classifications) ?? new Classifications();\n",
                "\n",
                "Console.WriteLine(\"Document Classifications:\\n\" + documentClassifications.ToJson());"
            ]
        },
        {
            "cell_type": "markdown",
            "metadata": {},
            "source": [
                "## Evaluate the Results\n",
                "\n",
                "Calculate the accuracy using the evaluator and (optionally) evaluate the confidence. Also record timing statistics."
            ]
        },
        {
            "cell_type": "code",
            "execution_count": null,
            "id": "16c88521",
            "metadata": {
                "dotnet_interactive": {
                    "language": "csharp"
                },
                "polyglot_notebook": {
                    "kernelName": "csharp"
                },
                "vscode": {
                    "languageId": "polyglot-notebook"
                }
            },
            "outputs": [],
            "source": [
                "// For demonstration, we use a stub elapsed time.\n",
                "double imageProcessingTime = 1.8; // in seconds\n",
                "double openAiTime = 24.9; // in seconds\n",
                "double totalTime = imageProcessingTime + openAiTime;\n",
                "\n",
                "// Evaluate accuracy (stub - always returns 100%)\n",
                "double accuracy = evaluator.Evaluate(expected, documentClassifications);\n",
                "\n",
                "// TODO: Implement evaluation of confidence based on the API's logprobs if available\n",
                "double confidence = 0.9963; // stub confidence value\n",
                "\n",
                "Console.WriteLine($\"Accuracy: {accuracy * 100:0.00}%\");\n",
                "Console.WriteLine($\"Confidence: {confidence * 100:0.00}%\");\n",
                "Console.WriteLine($\"Total Execution Time: {totalTime:0.00} seconds\");\n",
                "Console.WriteLine($\"Image Processing Time: {imageProcessingTime:0.00} seconds\");\n",
                "Console.WriteLine($\"OpenAI Execution Time: {openAiTime:0.00} seconds\");\n",
                "Console.WriteLine($\"Prompt Tokens: 8000\");\n",
                "Console.WriteLine($\"Completion Tokens: 200\");"
            ]
        },
        {
            "cell_type": "markdown",
            "metadata": {},
            "source": [
                "## Visualize the Outputs\n",
                "\n",
                "You can enhance this notebook by adding charts or tables using .NET libraries if desired."
            ]
        }
    ],
    "metadata": {
        "kernelspec": {
            "display_name": ".NET (C#)",
            "language": "C#",
            "name": ".net-csharp"
        },
        "language_info": {
            "name": "C#"
        },
        "polyglot_notebook": {
            "kernelInfo": {
                "defaultKernelName": "csharp",
                "items": [
                    {
                        "aliases": [],
                        "name": "csharp"
                    },
                    {
                        "aliases": [],
                        "name": "interactive"
                    }
                ]
            }
        }
    },
    "nbformat": 4,
    "nbformat_minor": 5
}
