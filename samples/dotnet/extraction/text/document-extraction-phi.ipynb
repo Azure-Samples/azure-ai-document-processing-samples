{
 "cells": [
  {
   "cell_type": "markdown",
   "metadata": {},
   "source": [
    "# Document Extraction with Azure AI Document Intelligence and Microsoft Phi-4 (Text Only)\n",
    "\n",
    "This sample demonstrates how to extract structured data from any document using Azure AI Document Intelligence and Microsoft's Phi-4 model.\n",
    "\n",
    "![Data Extraction](../../../../images/extraction-document-intelligence-phi.png)\n",
    "\n",
    "This is achieved by the following process:\n",
    "\n",
    "- Analyze a document using Azure AI Document Intelligence's `prebuilt-layout` model to extract the structure as Markdown.\n",
    "- Construct a system prompt that defines the instruction for extracting structured data from documents.\n",
    "- Construct a user prompt that includes specific extraction instruction for the type of document, the expected JSON schema, and the Markdown content of the document\n",
    "- Use the chat completions API with the Phi-4 model to generate a structured output from the content.\n",
    "\n",
    "## Objectives\n",
    "\n",
    "By the end of this sample, you will have learned how to:\n",
    "\n",
    "- Convert a document to Markdown format using Azure AI Document Intelligence.\n",
    "- Use prompt engineering techniques to instruct Phi-4 to extract structured data from a type of document using example JSON structures.\n",
    "- Use the analysis result from Azure AI Document Intelligence to determine the confidence of the extracted structured output.\n",
    "\n",
    "## Useful Tips\n",
    "\n",
    "- Combine this technique with a [page classification](../../classification/README.md) approach to reduce the number of pages to extract from to only those that match your criteria for extraction."
   ]
  },
  {
   "cell_type": "markdown",
   "metadata": {},
   "source": [
    "## Setup"
   ]
  },
  {
   "cell_type": "markdown",
   "metadata": {},
   "source": [
    "### Import modules\n",
    "\n",
    "This sample takes advantage of the following .NET dependencies:\n",
    "\n",
    "- **Azure.AI.DocumentIntelligence** to interface with the Azure AI Document Intelligence API for analyzing documents.\n",
    "- **Azure.AI.Inference** to interface with a deployed Phi-4 serverless endpoint in Azure AI Foundry.\n",
    "- **Azure.Identity** to securely authenticate with deployed Azure Services using Microsoft Entra ID credentials.\n",
    "\n",
    "The following local components are also used:\n",
    "\n",
    "- [**Invoice**](../../modules/samples/models/Invoice.csx) to provide the expected structured output JSON schema for invoice documents.\n",
    "- [**OpenAIStructuredOutputsHelpers**](../../modules/samples/helpers/OpenAIStructuredOutputsHelpers.csx) to generate structured outputs from the OpenAI API and provide parsing functions for the response output.\n",
    "- [**AccuracyEvaluator**](../../modules/samples/evaluation/AccuracyEvaluator.csx) to evaluate the output of the classification process with expected results.\n",
    "- [**DocumentIntelligenceConfidence**](../../modules/samples/confidence/DocumentIntelligenceConfidence.csx) to calculate the confidence of the classification process based on the analysis result from the Azure AI Document Intelligence API request.\n",
    "- [**DocumentProcessingResult**](../../modules/samples/models/DocumentProcessingResult.csx) to store the results of the classification process as a file.\n",
    "- [**AppSettings**](../../modules/samples/AppSettings.csx) to access environment variables from the `.env` file."
   ]
  },
  {
   "cell_type": "code",
   "execution_count": 1,
   "metadata": {
    "polyglot_notebook": {
     "kernelName": "csharp"
    },
    "vscode": {
     "languageId": "polyglot-notebook"
    }
   },
   "outputs": [
    {
     "data": {
      "text/html": [
       "<div><div></div><div></div><div><strong>Installed Packages</strong><ul><li><span>Azure.AI.DocumentIntelligence, 1.0.0</span></li><li><span>Azure.AI.Inference, 1.0.0-beta.4</span></li><li><span>Azure.AI.OpenAI, 2.1.0</span></li><li><span>Azure.Identity, 1.13.2</span></li><li><span>DotNetEnv, 3.1.1</span></li></ul></div></div>"
      ]
     },
     "metadata": {},
     "output_type": "display_data"
    }
   ],
   "source": [
    "#r \"nuget: Azure.Identity, 1.13.2\"\n",
    "#r \"nuget: Azure.AI.OpenAI, 2.1.0\"\n",
    "#r \"nuget: Azure.AI.Inference, 1.0.0-beta.4\"\n",
    "#r \"nuget: Azure.AI.DocumentIntelligence, 1.0.0\"\n",
    "#r \"nuget: DotNetEnv, 3.1.1\"\n",
    "\n",
    "#!import ../../modules/samples/AppSettings.csx\n",
    "#!import ../../modules/samples/helpers/AzureInferenceHelpers.csx\n",
    "#!import ../../modules/samples/helpers/OpenAIStructuredOutputsHelpers.csx\n",
    "#!import ../../modules/samples/helpers/StopwatchContext.csx\n",
    "#!import ../../modules/samples/models/Invoice.csx\n",
    "#!import ../../modules/samples/models/DocumentProcessingResult.csx\n",
    "#!import ../../modules/samples/evaluation/AccuracyEvaluator.csx\n",
    "#!import ../../modules/samples/confidence/DocumentIntelligenceConfidence.csx\n",
    "\n",
    "using System;\n",
    "using System.IO;\n",
    "using System.Text.Json;\n",
    "using Azure;\n",
    "using Azure.Core;\n",
    "using Azure.Identity;\n",
    "using Azure.AI.Inference;\n",
    "using Azure.AI.DocumentIntelligence;\n",
    "using DotNetEnv;"
   ]
  },
  {
   "cell_type": "markdown",
   "metadata": {},
   "source": [
    "### Configure the Azure services\n",
    "\n",
    "To use Azure AI Document Intelligence and Azure OpenAI, their SDKs are used to create a client instance using a deployed endpoint and authentication credentials.\n",
    "\n",
    "For this sample, the credentials of the Azure CLI are used to authenticate with the deployed services."
   ]
  },
  {
   "cell_type": "code",
   "execution_count": 2,
   "metadata": {
    "polyglot_notebook": {
     "kernelName": "csharp"
    },
    "vscode": {
     "languageId": "polyglot-notebook"
    }
   },
   "outputs": [],
   "source": [
    "string workingDir = Path.GetFullPath(\"../../../../\");\n",
    "AppSettings settings = new AppSettings(new Dictionary<string, string>(Env.Load(Path.Combine(workingDir, \".env\"))));\n",
    "string samplePath = Path.Combine(workingDir, \"samples/dotnet/extraction/text/\");\n",
    "string sampleName = \"document-extraction-phi\";\n",
    "\n",
    "DefaultAzureCredential credential = new DefaultAzureCredential(\n",
    "    new DefaultAzureCredentialOptions { \n",
    "        ExcludeWorkloadIdentityCredential = true,\n",
    "        ExcludeAzureDeveloperCliCredential = true,\n",
    "        ExcludeEnvironmentCredential = true,\n",
    "        ExcludeManagedIdentityCredential = true,\n",
    "        ExcludeAzurePowerShellCredential = true,\n",
    "        ExcludeSharedTokenCacheCredential = true,\n",
    "        ExcludeInteractiveBrowserCredential = true\n",
    "    }\n",
    ");\n",
    "\n",
    "ChatCompletionsClient inferenceClient = new ChatCompletionsClient(\n",
    "    new Uri(settings.PhiEndpoint),\n",
    "    new AzureKeyCredential(settings.PhiPrimaryKey)\n",
    ");\n",
    "\n",
    "var documentIntelligenceClient = new DocumentIntelligenceClient(\n",
    "    new Uri(settings.AIServicesEndpoint),\n",
    "    credential\n",
    ");"
   ]
  },
  {
   "cell_type": "markdown",
   "metadata": {},
   "source": [
    "### Establish the expected output\n",
    "\n",
    "To compare the accuracy of the extraction process, the expected output of the extraction process has been defined in the following code block based on the details of an [Invoice](../../../assets/invoices/invoice_1.pdf).\n",
    "\n",
    "> **Note**: More invoice examples can be found in the [assets folder](../../../assets/invoices). These examples include the PDF file and an associated JSON metadata file that provides the expected structured output. You can add your own scenarios by following the same structure.\n",
    "\n",
    "The expected output has been defined by a human evaluating the document."
   ]
  },
  {
   "cell_type": "code",
   "execution_count": 3,
   "metadata": {
    "polyglot_notebook": {
     "kernelName": "csharp"
    },
    "vscode": {
     "languageId": "polyglot-notebook"
    }
   },
   "outputs": [],
   "source": [
    "string path = Path.Combine(workingDir, \"samples/assets/invoices/\");\n",
    "string metadataFName = \"invoice_1.json\"; // Change this to the file you want to evaluate\n",
    "string metadataFPath = Path.Combine(path, metadataFName);\n",
    "\n",
    "Dictionary<string, JsonElement> data = JsonSerializer.Deserialize<Dictionary<string, JsonElement>>(File.ReadAllText(metadataFPath));\n",
    "\n",
    "Invoice expected = data[\"0_expected\"].Deserialize<Invoice>(\n",
    "    new JsonSerializerOptions(JsonSerializerDefaults.Web)\n",
    "    {\n",
    "        PropertyNamingPolicy = JsonNamingPolicy.SnakeCaseLower\n",
    "    }\n",
    ");\n",
    "string pdfFName = data[\"fname\"].GetString();\n",
    "string pdfFPath = Path.Combine(path, pdfFName);\n",
    "\n",
    "AccuracyEvaluator<Invoice> invoiceEvaluator = new AccuracyEvaluator<Invoice>(matchKeys: new List<string>() { \"ProductCode\", \"Description\" });"
   ]
  },
  {
   "cell_type": "markdown",
   "metadata": {},
   "source": [
    "## Extract data from the document\n",
    "\n",
    "The following code block executes the data extraction process using Azure AI Document Intelligence and Microsoft's Phi-4 model.\n",
    "\n",
    "It performs the following steps:\n",
    "\n",
    "1. Get the document bytes from the provided file path. _Note: In this example, we are processing a local document, however, you can use any document storage location of your choice, such as Azure Blob Storage._\n",
    "2. Use Azure AI Document Intelligence to analyze the structure of the document and convert it to Markdown format using the pre-built layout model.\n",
    "3. Using a Phi-4 Serverless Endpoint model deployment in Azure AI Foundry and prompt engineering techniques, extract a structured data transfer object (DTO) from the content of the Markdown."
   ]
  },
  {
   "cell_type": "code",
   "execution_count": 4,
   "metadata": {
    "polyglot_notebook": {
     "kernelName": "csharp"
    },
    "vscode": {
     "languageId": "polyglot-notebook"
    }
   },
   "outputs": [],
   "source": [
    "AnalyzeResult result;\n",
    "\n",
    "StopwatchContext diSw;\n",
    "\n",
    "using (diSw = new StopwatchContext())\n",
    "{\n",
    "    var pollerResult = await documentIntelligenceClient.AnalyzeDocumentAsync(\n",
    "        WaitUntil.Completed,\n",
    "        options: new AnalyzeDocumentOptions(\n",
    "            modelId: \"prebuilt-layout\",\n",
    "            bytesSource: BinaryData.FromBytes(File.ReadAllBytes(pdfFPath)))\n",
    "        {\n",
    "            OutputContentFormat = DocumentContentFormat.Markdown\n",
    "        }\n",
    "    );\n",
    "\n",
    "    result = pollerResult.Value;\n",
    "}\n",
    "\n",
    "string markdown = result.Content;"
   ]
  },
  {
   "cell_type": "code",
   "execution_count": 5,
   "metadata": {
    "polyglot_notebook": {
     "kernelName": "csharp"
    },
    "vscode": {
     "languageId": "polyglot-notebook"
    }
   },
   "outputs": [],
   "source": [
    "string systemPrompt = \"You are an AI assistant that extracts data from documents.\";"
   ]
  },
  {
   "cell_type": "code",
   "execution_count": 6,
   "metadata": {
    "polyglot_notebook": {
     "kernelName": "csharp"
    },
    "vscode": {
     "languageId": "polyglot-notebook"
    }
   },
   "outputs": [],
   "source": [
    "List<ChatMessageContentItem> userContent = new List<ChatMessageContentItem>();"
   ]
  },
  {
   "cell_type": "code",
   "execution_count": 7,
   "metadata": {
    "polyglot_notebook": {
     "kernelName": "csharp"
    },
    "vscode": {
     "languageId": "polyglot-notebook"
    }
   },
   "outputs": [],
   "source": [
    "StringBuilder userTextPromptBuilder = new StringBuilder();\n",
    "userTextPromptBuilder.AppendLine(\"Extract the data from this invoice.\");\n",
    "userTextPromptBuilder.AppendLine(\"- If a value is not present, provide null.\");\n",
    "userTextPromptBuilder.AppendLine(\"- Dates should be in the format YYYY-MM-DD.\");\n",
    "userTextPromptBuilder.AppendLine($\"- Strictly use the following JSON schema: {typeof(Invoice).ModelJsonSchema()}\");\n",
    "userTextPromptBuilder.AppendLine(\"- ONLY return the JSON object. DO NOT return as a JSON markdown code block. DO NOT include any other detail in your response.\");\n",
    "\n",
    "string userTextPrompt = userTextPromptBuilder.ToString();\n",
    "\n",
    "userContent.Add(new ChatMessageTextContentItem(userTextPrompt));\n",
    "userContent.Add(new ChatMessageTextContentItem(markdown));"
   ]
  },
  {
   "cell_type": "code",
   "execution_count": 8,
   "metadata": {
    "polyglot_notebook": {
     "kernelName": "csharp"
    },
    "vscode": {
     "languageId": "polyglot-notebook"
    }
   },
   "outputs": [],
   "source": [
    "ParsedChatCompletions<Invoice> completion;\n",
    "\n",
    "StopwatchContext phiSw;\n",
    "\n",
    "using (phiSw = new StopwatchContext())\n",
    "{\n",
    "    completion = await inferenceClient\n",
    "        .CompleteAsync(new ChatCompletionsOptions()\n",
    "        {\n",
    "            Messages = new List<ChatRequestMessage>()\n",
    "            {\n",
    "                new ChatRequestSystemMessage(systemPrompt),\n",
    "                new ChatRequestUserMessage(userContent)\n",
    "            },\n",
    "            Temperature = 0.1f,\n",
    "            NucleusSamplingFactor = 0.1f,\n",
    "        });\n",
    "}"
   ]
  },
  {
   "cell_type": "markdown",
   "metadata": {},
   "source": [
    "## Visualize the outputs\n",
    "\n",
    "To provide context for the execution of the code, the following code blocks visualize the outputs of the data extraction process.\n",
    "\n",
    "This includes:\n",
    "\n",
    "- The Markdown representation of the document structure as determined by Azure AI Document Intelligence.\n",
    "- The accuracy of the structured data extraction comparing the expected output with the output generated by Microsoft's Phi-4 model.\n",
    "- The confidence score of the structured data extraction by comparing against the Azure AI Document Intelligence analysis.\n",
    "- The execution time of the end-to-end process.\n",
    "- The total number of tokens consumed by the Phi-4 model.\n",
    "\n",
    "### Understanding Accuracy vs Confidence\n",
    "\n",
    "When using AI to extract structured data, both confidence and accuracy are essential for different but complementary reasons.\n",
    "\n",
    "- **Accuracy** measures how close the AI model's output is to a ground truth or expected output. It reflects how well the model's predictions align with reality.\n",
    "  - Accuracy ensures consistency in the extraction process, which is crucial for downstream tasks using the data.\n",
    "- **Confidence** represents the AI model's internal assessment of how certain it is about its predictions.\n",
    "  - Confidence indicates that the model is certain about its predictions, which can be a useful indicator for human reviewers to step in for manual verification.\n",
    "\n",
    "High accuracy and high confidence are ideal, but in practice, there is often a trade-off between the two. While accuracy cannot always be self-assessed, confidence scores can and should be used to prioritize manual verification of low-confidence predictions."
   ]
  },
  {
   "cell_type": "code",
   "execution_count": 9,
   "metadata": {
    "polyglot_notebook": {
     "kernelName": "csharp"
    },
    "vscode": {
     "languageId": "polyglot-notebook"
    }
   },
   "outputs": [
    {
     "data": {
      "text/plain": [
       "NEXGEN\n",
       "\n",
       "Innovation drives progress\n",
       "\n",
       "\n",
       "# INVOICE\n",
       "\n",
       "\n",
       "<table>\n",
       "<tr>\n",
       "<th>Customer:</th>\n",
       "<th colspan=\"2\">Sharp Consulting</th>\n",
       "<th colspan=\"2\">Address:</th>\n",
       "<th colspan=\"3\">73 Regal Way, Leeds, LS1 5AB, UK</th>\n",
       "</tr>\n",
       "<tr>\n",
       "<td>Delv. Date:</td>\n",
       "<td>5/16/2024</td>\n",
       "<td colspan=\"2\">Invoice Number:</td>\n",
       "<td colspan=\"2\">3847193</td>\n",
       "<td>Purchase Order:</td>\n",
       "<td>15931</td>\n",
       "</tr>\n",
       "</table>\n",
       "\n",
       "\n",
       "<table>\n",
       "<tr>\n",
       "<th>Item Code</th>\n",
       "<th>Item Desc.</th>\n",
       "<th>Unit Price</th>\n",
       "<th>Quantity</th>\n",
       "<th>Total</th>\n",
       "</tr>\n",
       "<tr>\n",
       "<td>MA197</td>\n",
       "<td>STRETCHWRAP ROLL</td>\n",
       "<td>16.62</td>\n",
       "<td>5</td>\n",
       "<td>83.10</td>\n",
       "</tr>\n",
       "<tr>\n",
       "<td>ST4086</td>\n",
       "<td>BALLPOINT PEN MED.</td>\n",
       "<td>2.49</td>\n",
       "<td>10</td>\n",
       "<td>24.90</td>\n",
       "</tr>\n",
       "<tr>\n",
       "<td>JF9912413BF</td>\n",
       "<td>BUBBLE FILM ROLL CL.</td>\n",
       "<td>15.46</td>\n",
       "<td>12</td>\n",
       "<td>185.52</td>\n",
       "</tr>\n",
       "<tr>\n",
       "<td></td>\n",
       "<td></td>\n",
       "<td></td>\n",
       "<td></td>\n",
       "<td></td>\n",
       "</tr>\n",
       "<tr>\n",
       "<td></td>\n",
       "<td></td>\n",
       "<td></td>\n",
       "<td></td>\n",
       "<td></td>\n",
       "</tr>\n",
       "<tr>\n",
       "<td></td>\n",
       "<td></td>\n",
       "<td></td>\n",
       "<td></td>\n",
       "<td></td>\n",
       "</tr>\n",
       "<tr>\n",
       "<td></td>\n",
       "<td></td>\n",
       "<td></td>\n",
       "<td></td>\n",
       "<td></td>\n",
       "</tr>\n",
       "<tr>\n",
       "<td></td>\n",
       "<td></td>\n",
       "<td></td>\n",
       "<td></td>\n",
       "<td></td>\n",
       "</tr>\n",
       "<tr>\n",
       "<td></td>\n",
       "<td></td>\n",
       "<td></td>\n",
       "<td></td>\n",
       "<td></td>\n",
       "</tr>\n",
       "</table>\n",
       "\n",
       "\n",
       "NOTES\n",
       "\n",
       "\n",
       "<table>\n",
       "<tr>\n",
       "<th>Total Pcs .:</th>\n",
       "<th>27</th>\n",
       "<th>Total Price:</th>\n",
       "<th>293.52</th>\n",
       "</tr>\n",
       "<tr>\n",
       "<td colspan=\"4\">Payable on or before 5/24/2024</td>\n",
       "</tr>\n",
       "<tr>\n",
       "<td>Cust. Sig.</td>\n",
       "<td>Sfr</td>\n",
       "<td>Drivr. Sig.</td>\n",
       "<td></td>\n",
       "</tr>\n",
       "<tr>\n",
       "<td>Cust. Name:</td>\n",
       "<td>Sarah H</td>\n",
       "<td>Drivr. Name:</td>\n",
       "<td>James T</td>\n",
       "</tr>\n",
       "</table>\n",
       "\n",
       "\n",
       "<!-- PageBreak -->\n",
       "\n",
       "\n",
       "<table>\n",
       "<tr>\n",
       "<td colspan=\"6\">NEXGEN Innovation drives progress</td>\n",
       "</tr>\n",
       "<tr>\n",
       "<td></td>\n",
       "<td colspan=\"5\">RETURNS</td>\n",
       "</tr>\n",
       "<tr>\n",
       "<td>Customer:</td>\n",
       "<td>Sharp Consulting</td>\n",
       "<td colspan=\"2\">Address:</td>\n",
       "<td colspan=\"2\">73 Regal Way, Leeds, LS1 5AB, UK</td>\n",
       "</tr>\n",
       "<tr>\n",
       "<td>Coll. Date:</td>\n",
       "<td>5/16/2024</td>\n",
       "<td></td>\n",
       "<td></td>\n",
       "<td colspan=\"2\"></td>\n",
       "</tr>\n",
       "<tr>\n",
       "<td>Item Code</td>\n",
       "<td>Item Desc.</td>\n",
       "<td>Pcs.</td>\n",
       "<td colspan=\"3\">Reason</td>\n",
       "</tr>\n",
       "<tr>\n",
       "<td>MA145</td>\n",
       "<td>POSTAL TUBE BROWN</td>\n",
       "<td>1</td>\n",
       "<td colspan=\"3\">This item was provided in previous order</td>\n",
       "</tr>\n",
       "<tr>\n",
       "<td>JF7902</td>\n",
       "<td>MAILBOX 25PK</td>\n",
       "<td>1 7</td>\n",
       "<td colspan=\"3\">as replacement</td>\n",
       "</tr>\n",
       "<tr>\n",
       "<td></td>\n",
       "<td></td>\n",
       "<td></td>\n",
       "<td colspan=\"3\">Not required</td>\n",
       "</tr>\n",
       "<tr>\n",
       "<td></td>\n",
       "<td></td>\n",
       "<td></td>\n",
       "<td colspan=\"3\"></td>\n",
       "</tr>\n",
       "<tr>\n",
       "<td colspan=\"6\"></td>\n",
       "</tr>\n",
       "<tr>\n",
       "<td>NOTES</td>\n",
       "<td></td>\n",
       "<td colspan=\"4\"></td>\n",
       "</tr>\n",
       "<tr>\n",
       "<td></td>\n",
       "<td></td>\n",
       "<td colspan=\"4\"></td>\n",
       "</tr>\n",
       "<tr>\n",
       "<td></td>\n",
       "<td colspan=\"5\"></td>\n",
       "</tr>\n",
       "<tr>\n",
       "<td></td>\n",
       "<td colspan=\"5\"></td>\n",
       "</tr>\n",
       "<tr>\n",
       "<td colspan=\"2\"></td>\n",
       "<td></td>\n",
       "<td colspan=\"3\"></td>\n",
       "</tr>\n",
       "<tr>\n",
       "<td></td>\n",
       "<td></td>\n",
       "<td colspan=\"4\"></td>\n",
       "</tr>\n",
       "<tr>\n",
       "<td>Total Pcs .:</td>\n",
       "<td>2</td>\n",
       "<td></td>\n",
       "<td colspan=\"3\"></td>\n",
       "</tr>\n",
       "<tr>\n",
       "<td colspan=\"6\"></td>\n",
       "</tr>\n",
       "<tr>\n",
       "<td>Cust. Sig.</td>\n",
       "<td>8</td>\n",
       "<td></td>\n",
       "<td colspan=\"2\">Drivr. Sig.</td>\n",
       "<td>&amp;</td>\n",
       "</tr>\n",
       "<tr>\n",
       "<td>Cust. Name:</td>\n",
       "<td>Sarah H</td>\n",
       "<td></td>\n",
       "<td colspan=\"2\">Drivr. Name:</td>\n",
       "<td>James T</td>\n",
       "</tr>\n",
       "</table>\n"
      ]
     },
     "metadata": {},
     "output_type": "display_data"
    }
   ],
   "source": [
    "// Displays the output of the Azure AI Document Intelligence pre-built layout analysis in Markdown format.\n",
    "display(markdown);"
   ]
  },
  {
   "cell_type": "code",
   "execution_count": 10,
   "metadata": {
    "polyglot_notebook": {
     "kernelName": "csharp"
    },
    "vscode": {
     "languageId": "polyglot-notebook"
    }
   },
   "outputs": [],
   "source": [
    "// Gets the parsed Invoice object from the completion response.\n",
    "var invoice = completion.Parsed;"
   ]
  },
  {
   "cell_type": "code",
   "execution_count": 11,
   "metadata": {
    "polyglot_notebook": {
     "kernelName": "csharp"
    },
    "vscode": {
     "languageId": "polyglot-notebook"
    }
   },
   "outputs": [],
   "source": [
    "// Determines the accuracy of the extracted data against the expected values.\n",
    "var accuracy = invoiceEvaluator.Evaluate(expected, invoice);"
   ]
  },
  {
   "cell_type": "code",
   "execution_count": 12,
   "metadata": {
    "polyglot_notebook": {
     "kernelName": "csharp"
    },
    "vscode": {
     "languageId": "polyglot-notebook"
    }
   },
   "outputs": [],
   "source": [
    "// Determines the confidence of the extracted data using the Document Intelligence response.\n",
    "var confidence = DocumentIntelligenceConfidence<Invoice>.EvaluateConfidence(invoice, result);"
   ]
  },
  {
   "cell_type": "code",
   "execution_count": 13,
   "metadata": {
    "polyglot_notebook": {
     "kernelName": "csharp"
    },
    "vscode": {
     "languageId": "polyglot-notebook"
    }
   },
   "outputs": [],
   "source": [
    "// Gets the total execution time of the data extraction process.\n",
    "var totalElapsed = diSw.Elapsed + phiSw.Elapsed;\n",
    "\n",
    "// Gets the prompt tokens and completion tokens from the completion response.\n",
    "var promptTokens = completion.Usage.PromptTokens;\n",
    "var completionTokens = completion.Usage.CompletionTokens;"
   ]
  },
  {
   "cell_type": "code",
   "execution_count": 14,
   "metadata": {
    "polyglot_notebook": {
     "kernelName": "csharp"
    },
    "vscode": {
     "languageId": "polyglot-notebook"
    }
   },
   "outputs": [],
   "source": [
    "// Save the output of the data extraction result\n",
    "var extractionResult = new DataProcessingResult<Invoice>(\n",
    "    invoice,\n",
    "    accuracy,\n",
    "    confidence,\n",
    "    promptTokens,\n",
    "    completionTokens,\n",
    "    totalElapsed\n",
    ");\n",
    "\n",
    "var extractionResultJson = JsonSerializer.Serialize(extractionResult, new JsonSerializerOptions { WriteIndented = true });\n",
    "var extractionResultFPath = Path.Combine(samplePath, $\"{sampleName}.{pdfFName}.json\");\n",
    "\n",
    "await File.WriteAllTextAsync(extractionResultFPath, extractionResultJson);"
   ]
  },
  {
   "cell_type": "code",
   "execution_count": 15,
   "metadata": {
    "polyglot_notebook": {
     "kernelName": "csharp"
    },
    "vscode": {
     "languageId": "polyglot-notebook"
    }
   },
   "outputs": [
    {
     "data": {
      "text/html": [
       "<details open=\"open\" class=\"dni-treeview\"><summary><span class=\"dni-code-hint\"><code>{ Accuracy = 95.95%, Confidence = 52.28%, ExecutionTime = 22.21 seconds, DocumentIntelligenceExecutionTime = 6.31 seconds, PhiExecutionTime = 15.91 seconds, PromptTokens = 3328, CompletionTokens = 554 }</code></span></summary><div><table><thead><tr></tr></thead><tbody><tr><td>Accuracy</td><td><div class=\"dni-plaintext\"><pre>95.95%</pre></div></td></tr><tr><td>Confidence</td><td><div class=\"dni-plaintext\"><pre>52.28%</pre></div></td></tr><tr><td>ExecutionTime</td><td><div class=\"dni-plaintext\"><pre>22.21 seconds</pre></div></td></tr><tr><td>DocumentIntelligenceExecutionTime</td><td><div class=\"dni-plaintext\"><pre>6.31 seconds</pre></div></td></tr><tr><td>PhiExecutionTime</td><td><div class=\"dni-plaintext\"><pre>15.91 seconds</pre></div></td></tr><tr><td>PromptTokens</td><td><div class=\"dni-plaintext\"><pre>3328</pre></div></td></tr><tr><td>CompletionTokens</td><td><div class=\"dni-plaintext\"><pre>554</pre></div></td></tr></tbody></table></div></details><style>\r\n",
       ".dni-code-hint {\r\n",
       "    font-style: italic;\r\n",
       "    overflow: hidden;\r\n",
       "    white-space: nowrap;\r\n",
       "}\r\n",
       ".dni-treeview {\r\n",
       "    white-space: nowrap;\r\n",
       "}\r\n",
       ".dni-treeview td {\r\n",
       "    vertical-align: top;\r\n",
       "    text-align: start;\r\n",
       "}\r\n",
       "details.dni-treeview {\r\n",
       "    padding-left: 1em;\r\n",
       "}\r\n",
       "table td {\r\n",
       "    text-align: start;\r\n",
       "}\r\n",
       "table tr { \r\n",
       "    vertical-align: top; \r\n",
       "    margin: 0em 0px;\r\n",
       "}\r\n",
       "table tr td pre \r\n",
       "{ \r\n",
       "    vertical-align: top !important; \r\n",
       "    margin: 0em 0px !important;\r\n",
       "} \r\n",
       "table th {\r\n",
       "    text-align: start;\r\n",
       "}\r\n",
       "</style>"
      ]
     },
     "metadata": {},
     "output_type": "display_data"
    },
    {
     "data": {
      "text/html": [
       "<table><thead><tr><th><i>key</i></th><th><i>type</i></th><th>value</th></tr></thead><tbody><tr><td><div class=\"dni-plaintext\"><pre>CustomerName</pre></div></td><td><span><a href=\"https://docs.microsoft.com/dotnet/api/system.collections.generic.dictionary-2?view=net-7.0\">System.Collections.Generic.Dictionary&lt;System.String,System.Object&gt;</a></span></td><td><table><thead><tr><th><i>key</i></th><th><i>type</i></th><th>value</th></tr></thead><tbody><tr><td><div class=\"dni-plaintext\"><pre>confidence</pre></div></td><td><span><a href=\"https://docs.microsoft.com/dotnet/api/system.single?view=net-7.0\">System.Single</a></span></td><td><div class=\"dni-plaintext\"><pre>0.994</pre></div></td></tr><tr><td><div class=\"dni-plaintext\"><pre>lines</pre></div></td><td><span><a href=\"https://docs.microsoft.com/dotnet/api/system.collections.generic.list-1?view=net-7.0\">System.Collections.Generic.List&lt;System.ValueTuple&lt;System.Collections.Generic.List&lt;Azure.AI.DocumentIntelligence.DocumentWord&gt;,System.Single&gt;&gt;</a></span></td><td><table><thead><tr><th><i>index</i></th><th>value</th></tr></thead><tbody><tr><td>0</td><td><details class=\"dni-treeview\"><summary><span class=\"dni-code-hint\"><code>(System.Collections.Generic.List`1[Azure.AI.DocumentIntelligence.DocumentWord], 0.995)</code></span></summary><div><table><thead><tr></tr></thead><tbody><tr><td>Item1</td><td><table><thead><tr><th><i>index</i></th><th>value</th></tr></thead><tbody><tr><td>0</td><td><details class=\"dni-treeview\"><summary><span class=\"dni-code-hint\"><code>Azure.AI.DocumentIntelligence.DocumentWord</code></span></summary><div><table><thead><tr></tr></thead><tbody><tr><td>Content</td><td>Sharp</td></tr><tr><td>Polygon</td><td>[ 1.8255, 2.0364, 2.2135, 2.0364, 2.2134, 2.185, 1.8255, 2.1829 ]</td></tr><tr><td>Span</td><td>Azure.AI.DocumentIntelligence.DocumentSpan</td></tr><tr><td>Confidence</td><td>0.998</td></tr></tbody></table></div></details></td></tr><tr><td>1</td><td><details class=\"dni-treeview\"><summary><span class=\"dni-code-hint\"><code>Azure.AI.DocumentIntelligence.DocumentWord</code></span></summary><div><table><thead><tr></tr></thead><tbody><tr><td>Content</td><td>Consulting</td></tr><tr><td>Polygon</td><td>[ 2.2526, 2.0363, 2.9848, 2.038, 2.9848, 2.1901, 2.2525, 2.1852 ]</td></tr><tr><td>Span</td><td>Azure.AI.DocumentIntelligence.DocumentSpan</td></tr><tr><td>Confidence</td><td>0.995</td></tr></tbody></table></div></details></td></tr></tbody></table></td></tr><tr><td>Item2</td><td><div class=\"dni-plaintext\"><pre>0.995</pre></div></td></tr></tbody></table></div></details></td></tr><tr><td>1</td><td><details class=\"dni-treeview\"><summary><span class=\"dni-code-hint\"><code>(System.Collections.Generic.List`1[Azure.AI.DocumentIntelligence.DocumentWord], 0.994)</code></span></summary><div><table><thead><tr></tr></thead><tbody><tr><td>Item1</td><td><table><thead><tr><th><i>index</i></th><th>value</th></tr></thead><tbody><tr><td>0</td><td><details class=\"dni-treeview\"><summary><span class=\"dni-code-hint\"><code>Azure.AI.DocumentIntelligence.DocumentWord</code></span></summary><div><table><thead><tr></tr></thead><tbody><tr><td>Content</td><td>Sharp</td></tr><tr><td>Polygon</td><td>[ 1.8195, 2.0358, 2.2084, 2.0354, 2.2082, 2.1878, 1.8195, 2.1858 ]</td></tr><tr><td>Span</td><td>Azure.AI.DocumentIntelligence.DocumentSpan</td></tr><tr><td>Confidence</td><td>0.998</td></tr></tbody></table></div></details></td></tr><tr><td>1</td><td><details class=\"dni-treeview\"><summary><span class=\"dni-code-hint\"><code>Azure.AI.DocumentIntelligence.DocumentWord</code></span></summary><div><table><thead><tr></tr></thead><tbody><tr><td>Content</td><td>Consulting</td></tr><tr><td>Polygon</td><td>[ 2.251, 2.0354, 2.9734, 2.0353, 2.9734, 2.1933, 2.2509, 2.1879 ]</td></tr><tr><td>Span</td><td>Azure.AI.DocumentIntelligence.DocumentSpan</td></tr><tr><td>Confidence</td><td>0.994</td></tr></tbody></table></div></details></td></tr></tbody></table></td></tr><tr><td>Item2</td><td><div class=\"dni-plaintext\"><pre>0.994</pre></div></td></tr></tbody></table></div></details></td></tr></tbody></table></td></tr><tr><td><div class=\"dni-plaintext\"><pre>value</pre></div></td><td><span><a href=\"https://docs.microsoft.com/dotnet/api/system.string?view=net-7.0\">System.String</a></span></td><td><div class=\"dni-plaintext\"><pre>Sharp Consulting</pre></div></td></tr></tbody></table></td></tr><tr><td><div class=\"dni-plaintext\"><pre>CustomerTaxId</pre></div></td><td><span><a href=\"https://docs.microsoft.com/dotnet/api/system.collections.generic.dictionary-2?view=net-7.0\">System.Collections.Generic.Dictionary&lt;System.String,System.Object&gt;</a></span></td><td><table><thead><tr><th><i>key</i></th><th><i>type</i></th><th>value</th></tr></thead><tbody><tr><td><div class=\"dni-plaintext\"><pre>confidence</pre></div></td><td><span><a href=\"https://docs.microsoft.com/dotnet/api/system.single?view=net-7.0\">System.Single</a></span></td><td><div class=\"dni-plaintext\"><pre>0</pre></div></td></tr><tr><td><div class=\"dni-plaintext\"><pre>lines</pre></div></td><td><span><a href=\"https://docs.microsoft.com/dotnet/api/system.collections.generic.list-1?view=net-7.0\">System.Collections.Generic.List&lt;System.ValueTuple&lt;System.Collections.Generic.List&lt;Azure.AI.DocumentIntelligence.DocumentWord&gt;,System.Single&gt;&gt;</a></span></td><td><i>(empty)</i></td></tr><tr><td><div class=\"dni-plaintext\"><pre>value</pre></div></td><td><span><a href=\"https://docs.microsoft.com/dotnet/api/system.string?view=net-7.0\">System.String</a></span></td><td><div class=\"dni-plaintext\"><pre></pre></div></td></tr></tbody></table></td></tr><tr><td><div class=\"dni-plaintext\"><pre>CustomerAddress</pre></div></td><td><span><a href=\"https://docs.microsoft.com/dotnet/api/system.collections.generic.dictionary-2?view=net-7.0\">System.Collections.Generic.Dictionary&lt;System.String,System.Object&gt;</a></span></td><td><table><thead><tr><th><i>key</i></th><th>value</th></tr></thead><tbody><tr><td><div class=\"dni-plaintext\"><pre>Street</pre></div></td><td><table><thead><tr><th><i>key</i></th><th><i>type</i></th><th>value</th></tr></thead><tbody><tr><td><div class=\"dni-plaintext\"><pre>confidence</pre></div></td><td><span><a href=\"https://docs.microsoft.com/dotnet/api/system.single?view=net-7.0\">System.Single</a></span></td><td><div class=\"dni-plaintext\"><pre>0.987</pre></div></td></tr><tr><td><div class=\"dni-plaintext\"><pre>lines</pre></div></td><td><span><a href=\"https://docs.microsoft.com/dotnet/api/system.collections.generic.list-1?view=net-7.0\">System.Collections.Generic.List&lt;System.ValueTuple&lt;System.Collections.Generic.List&lt;Azure.AI.DocumentIntelligence.DocumentWord&gt;,System.Single&gt;&gt;</a></span></td><td><table><thead><tr><th><i>index</i></th><th>value</th></tr></thead><tbody><tr><td>0</td><td><details class=\"dni-treeview\"><summary><span class=\"dni-code-hint\"><code>(System.Collections.Generic.List`1[Azure.AI.DocumentIntelligence.DocumentWord], 0.987)</code></span></summary><div><table><thead><tr></tr></thead><tbody><tr><td>Item1</td><td><table><thead><tr><th><i>index</i></th><th>value</th></tr></thead><tbody><tr><td>0</td><td>Azure.AI.DocumentIntelligence.DocumentWord</td></tr><tr><td>1</td><td>Azure.AI.DocumentIntelligence.DocumentWord</td></tr><tr><td>2</td><td>Azure.AI.DocumentIntelligence.DocumentWord</td></tr><tr><td>3</td><td>Azure.AI.DocumentIntelligence.DocumentWord</td></tr><tr><td>4</td><td>Azure.AI.DocumentIntelligence.DocumentWord</td></tr><tr><td>5</td><td>Azure.AI.DocumentIntelligence.DocumentWord</td></tr><tr><td>6</td><td>Azure.AI.DocumentIntelligence.DocumentWord</td></tr></tbody></table></td></tr><tr><td>Item2</td><td><div class=\"dni-plaintext\"><pre>0.987</pre></div></td></tr></tbody></table></div></details></td></tr><tr><td>1</td><td><details class=\"dni-treeview\"><summary><span class=\"dni-code-hint\"><code>(System.Collections.Generic.List`1[Azure.AI.DocumentIntelligence.DocumentWord], 0.987)</code></span></summary><div><table><thead><tr></tr></thead><tbody><tr><td>Item1</td><td><table><thead><tr><th><i>index</i></th><th>value</th></tr></thead><tbody><tr><td>0</td><td>Azure.AI.DocumentIntelligence.DocumentWord</td></tr><tr><td>1</td><td>Azure.AI.DocumentIntelligence.DocumentWord</td></tr><tr><td>2</td><td>Azure.AI.DocumentIntelligence.DocumentWord</td></tr><tr><td>3</td><td>Azure.AI.DocumentIntelligence.DocumentWord</td></tr><tr><td>4</td><td>Azure.AI.DocumentIntelligence.DocumentWord</td></tr><tr><td>5</td><td>Azure.AI.DocumentIntelligence.DocumentWord</td></tr><tr><td>6</td><td>Azure.AI.DocumentIntelligence.DocumentWord</td></tr></tbody></table></td></tr><tr><td>Item2</td><td><div class=\"dni-plaintext\"><pre>0.987</pre></div></td></tr></tbody></table></div></details></td></tr></tbody></table></td></tr><tr><td><div class=\"dni-plaintext\"><pre>value</pre></div></td><td><span><a href=\"https://docs.microsoft.com/dotnet/api/system.string?view=net-7.0\">System.String</a></span></td><td><div class=\"dni-plaintext\"><pre>73 Regal Way</pre></div></td></tr></tbody></table></td></tr><tr><td><div class=\"dni-plaintext\"><pre>City</pre></div></td><td><table><thead><tr><th><i>key</i></th><th><i>type</i></th><th>value</th></tr></thead><tbody><tr><td><div class=\"dni-plaintext\"><pre>confidence</pre></div></td><td><span><a href=\"https://docs.microsoft.com/dotnet/api/system.single?view=net-7.0\">System.Single</a></span></td><td><div class=\"dni-plaintext\"><pre>0.987</pre></div></td></tr><tr><td><div class=\"dni-plaintext\"><pre>lines</pre></div></td><td><span><a href=\"https://docs.microsoft.com/dotnet/api/system.collections.generic.list-1?view=net-7.0\">System.Collections.Generic.List&lt;System.ValueTuple&lt;System.Collections.Generic.List&lt;Azure.AI.DocumentIntelligence.DocumentWord&gt;,System.Single&gt;&gt;</a></span></td><td><table><thead><tr><th><i>index</i></th><th>value</th></tr></thead><tbody><tr><td>0</td><td><details class=\"dni-treeview\"><summary><span class=\"dni-code-hint\"><code>(System.Collections.Generic.List`1[Azure.AI.DocumentIntelligence.DocumentWord], 0.987)</code></span></summary><div><table><thead><tr></tr></thead><tbody><tr><td>Item1</td><td><table><thead><tr><th><i>index</i></th><th>value</th></tr></thead><tbody><tr><td>0</td><td>Azure.AI.DocumentIntelligence.DocumentWord</td></tr><tr><td>1</td><td>Azure.AI.DocumentIntelligence.DocumentWord</td></tr><tr><td>2</td><td>Azure.AI.DocumentIntelligence.DocumentWord</td></tr><tr><td>3</td><td>Azure.AI.DocumentIntelligence.DocumentWord</td></tr><tr><td>4</td><td>Azure.AI.DocumentIntelligence.DocumentWord</td></tr><tr><td>5</td><td>Azure.AI.DocumentIntelligence.DocumentWord</td></tr><tr><td>6</td><td>Azure.AI.DocumentIntelligence.DocumentWord</td></tr></tbody></table></td></tr><tr><td>Item2</td><td><div class=\"dni-plaintext\"><pre>0.987</pre></div></td></tr></tbody></table></div></details></td></tr><tr><td>1</td><td><details class=\"dni-treeview\"><summary><span class=\"dni-code-hint\"><code>(System.Collections.Generic.List`1[Azure.AI.DocumentIntelligence.DocumentWord], 0.987)</code></span></summary><div><table><thead><tr></tr></thead><tbody><tr><td>Item1</td><td><table><thead><tr><th><i>index</i></th><th>value</th></tr></thead><tbody><tr><td>0</td><td>Azure.AI.DocumentIntelligence.DocumentWord</td></tr><tr><td>1</td><td>Azure.AI.DocumentIntelligence.DocumentWord</td></tr><tr><td>2</td><td>Azure.AI.DocumentIntelligence.DocumentWord</td></tr><tr><td>3</td><td>Azure.AI.DocumentIntelligence.DocumentWord</td></tr><tr><td>4</td><td>Azure.AI.DocumentIntelligence.DocumentWord</td></tr><tr><td>5</td><td>Azure.AI.DocumentIntelligence.DocumentWord</td></tr><tr><td>6</td><td>Azure.AI.DocumentIntelligence.DocumentWord</td></tr></tbody></table></td></tr><tr><td>Item2</td><td><div class=\"dni-plaintext\"><pre>0.987</pre></div></td></tr></tbody></table></div></details></td></tr></tbody></table></td></tr><tr><td><div class=\"dni-plaintext\"><pre>value</pre></div></td><td><span><a href=\"https://docs.microsoft.com/dotnet/api/system.string?view=net-7.0\">System.String</a></span></td><td><div class=\"dni-plaintext\"><pre>Leeds</pre></div></td></tr></tbody></table></td></tr><tr><td><div class=\"dni-plaintext\"><pre>State</pre></div></td><td><table><thead><tr><th><i>key</i></th><th><i>type</i></th><th>value</th></tr></thead><tbody><tr><td><div class=\"dni-plaintext\"><pre>confidence</pre></div></td><td><span><a href=\"https://docs.microsoft.com/dotnet/api/system.single?view=net-7.0\">System.Single</a></span></td><td><div class=\"dni-plaintext\"><pre>0</pre></div></td></tr><tr><td><div class=\"dni-plaintext\"><pre>lines</pre></div></td><td><span><a href=\"https://docs.microsoft.com/dotnet/api/system.collections.generic.list-1?view=net-7.0\">System.Collections.Generic.List&lt;System.ValueTuple&lt;System.Collections.Generic.List&lt;Azure.AI.DocumentIntelligence.DocumentWord&gt;,System.Single&gt;&gt;</a></span></td><td><i>(empty)</i></td></tr><tr><td><div class=\"dni-plaintext\"><pre>value</pre></div></td><td><span><a href=\"https://docs.microsoft.com/dotnet/api/system.string?view=net-7.0\">System.String</a></span></td><td><div class=\"dni-plaintext\"><pre></pre></div></td></tr></tbody></table></td></tr><tr><td><div class=\"dni-plaintext\"><pre>PostalCode</pre></div></td><td><table><thead><tr><th><i>key</i></th><th><i>type</i></th><th>value</th></tr></thead><tbody><tr><td><div class=\"dni-plaintext\"><pre>confidence</pre></div></td><td><span><a href=\"https://docs.microsoft.com/dotnet/api/system.single?view=net-7.0\">System.Single</a></span></td><td><div class=\"dni-plaintext\"><pre>0.987</pre></div></td></tr><tr><td><div class=\"dni-plaintext\"><pre>lines</pre></div></td><td><span><a href=\"https://docs.microsoft.com/dotnet/api/system.collections.generic.list-1?view=net-7.0\">System.Collections.Generic.List&lt;System.ValueTuple&lt;System.Collections.Generic.List&lt;Azure.AI.DocumentIntelligence.DocumentWord&gt;,System.Single&gt;&gt;</a></span></td><td><table><thead><tr><th><i>index</i></th><th>value</th></tr></thead><tbody><tr><td>0</td><td><details class=\"dni-treeview\"><summary><span class=\"dni-code-hint\"><code>(System.Collections.Generic.List`1[Azure.AI.DocumentIntelligence.DocumentWord], 0.987)</code></span></summary><div><table><thead><tr></tr></thead><tbody><tr><td>Item1</td><td><table><thead><tr><th><i>index</i></th><th>value</th></tr></thead><tbody><tr><td>0</td><td>Azure.AI.DocumentIntelligence.DocumentWord</td></tr><tr><td>1</td><td>Azure.AI.DocumentIntelligence.DocumentWord</td></tr><tr><td>2</td><td>Azure.AI.DocumentIntelligence.DocumentWord</td></tr><tr><td>3</td><td>Azure.AI.DocumentIntelligence.DocumentWord</td></tr><tr><td>4</td><td>Azure.AI.DocumentIntelligence.DocumentWord</td></tr><tr><td>5</td><td>Azure.AI.DocumentIntelligence.DocumentWord</td></tr><tr><td>6</td><td>Azure.AI.DocumentIntelligence.DocumentWord</td></tr></tbody></table></td></tr><tr><td>Item2</td><td><div class=\"dni-plaintext\"><pre>0.987</pre></div></td></tr></tbody></table></div></details></td></tr><tr><td>1</td><td><details class=\"dni-treeview\"><summary><span class=\"dni-code-hint\"><code>(System.Collections.Generic.List`1[Azure.AI.DocumentIntelligence.DocumentWord], 0.987)</code></span></summary><div><table><thead><tr></tr></thead><tbody><tr><td>Item1</td><td><table><thead><tr><th><i>index</i></th><th>value</th></tr></thead><tbody><tr><td>0</td><td>Azure.AI.DocumentIntelligence.DocumentWord</td></tr><tr><td>1</td><td>Azure.AI.DocumentIntelligence.DocumentWord</td></tr><tr><td>2</td><td>Azure.AI.DocumentIntelligence.DocumentWord</td></tr><tr><td>3</td><td>Azure.AI.DocumentIntelligence.DocumentWord</td></tr><tr><td>4</td><td>Azure.AI.DocumentIntelligence.DocumentWord</td></tr><tr><td>5</td><td>Azure.AI.DocumentIntelligence.DocumentWord</td></tr><tr><td>6</td><td>Azure.AI.DocumentIntelligence.DocumentWord</td></tr></tbody></table></td></tr><tr><td>Item2</td><td><div class=\"dni-plaintext\"><pre>0.987</pre></div></td></tr></tbody></table></div></details></td></tr></tbody></table></td></tr><tr><td><div class=\"dni-plaintext\"><pre>value</pre></div></td><td><span><a href=\"https://docs.microsoft.com/dotnet/api/system.string?view=net-7.0\">System.String</a></span></td><td><div class=\"dni-plaintext\"><pre>LS1 5AB</pre></div></td></tr></tbody></table></td></tr><tr><td><div class=\"dni-plaintext\"><pre>Country</pre></div></td><td><table><thead><tr><th><i>key</i></th><th><i>type</i></th><th>value</th></tr></thead><tbody><tr><td><div class=\"dni-plaintext\"><pre>confidence</pre></div></td><td><span><a href=\"https://docs.microsoft.com/dotnet/api/system.single?view=net-7.0\">System.Single</a></span></td><td><div class=\"dni-plaintext\"><pre>0.987</pre></div></td></tr><tr><td><div class=\"dni-plaintext\"><pre>lines</pre></div></td><td><span><a href=\"https://docs.microsoft.com/dotnet/api/system.collections.generic.list-1?view=net-7.0\">System.Collections.Generic.List&lt;System.ValueTuple&lt;System.Collections.Generic.List&lt;Azure.AI.DocumentIntelligence.DocumentWord&gt;,System.Single&gt;&gt;</a></span></td><td><table><thead><tr><th><i>index</i></th><th>value</th></tr></thead><tbody><tr><td>0</td><td><details class=\"dni-treeview\"><summary><span class=\"dni-code-hint\"><code>(System.Collections.Generic.List`1[Azure.AI.DocumentIntelligence.DocumentWord], 0.987)</code></span></summary><div><table><thead><tr></tr></thead><tbody><tr><td>Item1</td><td><table><thead><tr><th><i>index</i></th><th>value</th></tr></thead><tbody><tr><td>0</td><td>Azure.AI.DocumentIntelligence.DocumentWord</td></tr><tr><td>1</td><td>Azure.AI.DocumentIntelligence.DocumentWord</td></tr><tr><td>2</td><td>Azure.AI.DocumentIntelligence.DocumentWord</td></tr><tr><td>3</td><td>Azure.AI.DocumentIntelligence.DocumentWord</td></tr><tr><td>4</td><td>Azure.AI.DocumentIntelligence.DocumentWord</td></tr><tr><td>5</td><td>Azure.AI.DocumentIntelligence.DocumentWord</td></tr><tr><td>6</td><td>Azure.AI.DocumentIntelligence.DocumentWord</td></tr></tbody></table></td></tr><tr><td>Item2</td><td><div class=\"dni-plaintext\"><pre>0.987</pre></div></td></tr></tbody></table></div></details></td></tr><tr><td>1</td><td><details class=\"dni-treeview\"><summary><span class=\"dni-code-hint\"><code>(System.Collections.Generic.List`1[Azure.AI.DocumentIntelligence.DocumentWord], 0.987)</code></span></summary><div><table><thead><tr></tr></thead><tbody><tr><td>Item1</td><td><table><thead><tr><th><i>index</i></th><th>value</th></tr></thead><tbody><tr><td>0</td><td>Azure.AI.DocumentIntelligence.DocumentWord</td></tr><tr><td>1</td><td>Azure.AI.DocumentIntelligence.DocumentWord</td></tr><tr><td>2</td><td>Azure.AI.DocumentIntelligence.DocumentWord</td></tr><tr><td>3</td><td>Azure.AI.DocumentIntelligence.DocumentWord</td></tr><tr><td>4</td><td>Azure.AI.DocumentIntelligence.DocumentWord</td></tr><tr><td>5</td><td>Azure.AI.DocumentIntelligence.DocumentWord</td></tr><tr><td>6</td><td>Azure.AI.DocumentIntelligence.DocumentWord</td></tr></tbody></table></td></tr><tr><td>Item2</td><td><div class=\"dni-plaintext\"><pre>0.987</pre></div></td></tr></tbody></table></div></details></td></tr></tbody></table></td></tr><tr><td><div class=\"dni-plaintext\"><pre>value</pre></div></td><td><span><a href=\"https://docs.microsoft.com/dotnet/api/system.string?view=net-7.0\">System.String</a></span></td><td><div class=\"dni-plaintext\"><pre>UK</pre></div></td></tr></tbody></table></td></tr></tbody></table></td></tr><tr><td><div class=\"dni-plaintext\"><pre>ShippingAddress</pre></div></td><td><span><a href=\"https://docs.microsoft.com/dotnet/api/system.collections.generic.dictionary-2?view=net-7.0\">System.Collections.Generic.Dictionary&lt;System.String,System.Object&gt;</a></span></td><td><table><thead><tr><th><i>key</i></th><th><i>type</i></th><th>value</th></tr></thead><tbody><tr><td><div class=\"dni-plaintext\"><pre>confidence</pre></div></td><td><span><a href=\"https://docs.microsoft.com/dotnet/api/system.single?view=net-7.0\">System.Single</a></span></td><td><div class=\"dni-plaintext\"><pre>0</pre></div></td></tr><tr><td><div class=\"dni-plaintext\"><pre>lines</pre></div></td><td><span><a href=\"https://docs.microsoft.com/dotnet/api/system.collections.generic.list-1?view=net-7.0\">System.Collections.Generic.List&lt;System.ValueTuple&lt;System.Collections.Generic.List&lt;Azure.AI.DocumentIntelligence.DocumentWord&gt;,System.Single&gt;&gt;</a></span></td><td><i>(empty)</i></td></tr><tr><td><div class=\"dni-plaintext\"><pre>value</pre></div></td><td><span><a href=\"https://docs.microsoft.com/dotnet/api/system.string?view=net-7.0\">System.String</a></span></td><td><div class=\"dni-plaintext\"><pre></pre></div></td></tr></tbody></table></td></tr><tr><td><div class=\"dni-plaintext\"><pre>PurchaseOrder</pre></div></td><td><span><a href=\"https://docs.microsoft.com/dotnet/api/system.collections.generic.dictionary-2?view=net-7.0\">System.Collections.Generic.Dictionary&lt;System.String,System.Object&gt;</a></span></td><td><table><thead><tr><th><i>key</i></th><th><i>type</i></th><th>value</th></tr></thead><tbody><tr><td><div class=\"dni-plaintext\"><pre>confidence</pre></div></td><td><span><a href=\"https://docs.microsoft.com/dotnet/api/system.single?view=net-7.0\">System.Single</a></span></td><td><div class=\"dni-plaintext\"><pre>0.995</pre></div></td></tr><tr><td><div class=\"dni-plaintext\"><pre>lines</pre></div></td><td><span><a href=\"https://docs.microsoft.com/dotnet/api/system.collections.generic.list-1?view=net-7.0\">System.Collections.Generic.List&lt;System.ValueTuple&lt;System.Collections.Generic.List&lt;Azure.AI.DocumentIntelligence.DocumentWord&gt;,System.Single&gt;&gt;</a></span></td><td><table><thead><tr><th><i>index</i></th><th>value</th></tr></thead><tbody><tr><td>0</td><td><details class=\"dni-treeview\"><summary><span class=\"dni-code-hint\"><code>(System.Collections.Generic.List`1[Azure.AI.DocumentIntelligence.DocumentWord], 0.995)</code></span></summary><div><table><thead><tr></tr></thead><tbody><tr><td>Item1</td><td><table><thead><tr><th><i>index</i></th><th>value</th></tr></thead><tbody><tr><td>0</td><td><details class=\"dni-treeview\"><summary><span class=\"dni-code-hint\"><code>Azure.AI.DocumentIntelligence.DocumentWord</code></span></summary><div><table><thead><tr></tr></thead><tbody><tr><td>Content</td><td>15931</td></tr><tr><td>Polygon</td><td>[ 6.1431, 2.3361, 6.5403, 2.3339, 6.5403, 2.4577, 6.1435, 2.4574 ]</td></tr><tr><td>Span</td><td>Azure.AI.DocumentIntelligence.DocumentSpan</td></tr><tr><td>Confidence</td><td>0.995</td></tr></tbody></table></div></details></td></tr></tbody></table></td></tr><tr><td>Item2</td><td><div class=\"dni-plaintext\"><pre>0.995</pre></div></td></tr></tbody></table></div></details></td></tr></tbody></table></td></tr><tr><td><div class=\"dni-plaintext\"><pre>value</pre></div></td><td><span><a href=\"https://docs.microsoft.com/dotnet/api/system.string?view=net-7.0\">System.String</a></span></td><td><div class=\"dni-plaintext\"><pre>15931</pre></div></td></tr></tbody></table></td></tr><tr><td><div class=\"dni-plaintext\"><pre>InvoiceId</pre></div></td><td><span><a href=\"https://docs.microsoft.com/dotnet/api/system.collections.generic.dictionary-2?view=net-7.0\">System.Collections.Generic.Dictionary&lt;System.String,System.Object&gt;</a></span></td><td><table><thead><tr><th><i>key</i></th><th><i>type</i></th><th>value</th></tr></thead><tbody><tr><td><div class=\"dni-plaintext\"><pre>confidence</pre></div></td><td><span><a href=\"https://docs.microsoft.com/dotnet/api/system.single?view=net-7.0\">System.Single</a></span></td><td><div class=\"dni-plaintext\"><pre>0.998</pre></div></td></tr><tr><td><div class=\"dni-plaintext\"><pre>lines</pre></div></td><td><span><a href=\"https://docs.microsoft.com/dotnet/api/system.collections.generic.list-1?view=net-7.0\">System.Collections.Generic.List&lt;System.ValueTuple&lt;System.Collections.Generic.List&lt;Azure.AI.DocumentIntelligence.DocumentWord&gt;,System.Single&gt;&gt;</a></span></td><td><table><thead><tr><th><i>index</i></th><th>value</th></tr></thead><tbody><tr><td>0</td><td><details class=\"dni-treeview\"><summary><span class=\"dni-code-hint\"><code>(System.Collections.Generic.List`1[Azure.AI.DocumentIntelligence.DocumentWord], 0.998)</code></span></summary><div><table><thead><tr></tr></thead><tbody><tr><td>Item1</td><td><table><thead><tr><th><i>index</i></th><th>value</th></tr></thead><tbody><tr><td>0</td><td><details class=\"dni-treeview\"><summary><span class=\"dni-code-hint\"><code>Azure.AI.DocumentIntelligence.DocumentWord</code></span></summary><div><table><thead><tr></tr></thead><tbody><tr><td>Content</td><td>3847193</td></tr><tr><td>Polygon</td><td>[ 4.0104, 2.3292, 4.5942, 2.3299, 4.5942, 2.4624, 4.011, 2.4616 ]</td></tr><tr><td>Span</td><td>Azure.AI.DocumentIntelligence.DocumentSpan</td></tr><tr><td>Confidence</td><td>0.998</td></tr></tbody></table></div></details></td></tr></tbody></table></td></tr><tr><td>Item2</td><td><div class=\"dni-plaintext\"><pre>0.998</pre></div></td></tr></tbody></table></div></details></td></tr></tbody></table></td></tr><tr><td><div class=\"dni-plaintext\"><pre>value</pre></div></td><td><span><a href=\"https://docs.microsoft.com/dotnet/api/system.string?view=net-7.0\">System.String</a></span></td><td><div class=\"dni-plaintext\"><pre>3847193</pre></div></td></tr></tbody></table></td></tr><tr><td><div class=\"dni-plaintext\"><pre>InvoiceDate</pre></div></td><td><span><a href=\"https://docs.microsoft.com/dotnet/api/system.collections.generic.dictionary-2?view=net-7.0\">System.Collections.Generic.Dictionary&lt;System.String,System.Object&gt;</a></span></td><td><table><thead><tr><th><i>key</i></th><th><i>type</i></th><th>value</th></tr></thead><tbody><tr><td><div class=\"dni-plaintext\"><pre>confidence</pre></div></td><td><span><a href=\"https://docs.microsoft.com/dotnet/api/system.single?view=net-7.0\">System.Single</a></span></td><td><div class=\"dni-plaintext\"><pre>0</pre></div></td></tr><tr><td><div class=\"dni-plaintext\"><pre>lines</pre></div></td><td><span><a href=\"https://docs.microsoft.com/dotnet/api/system.collections.generic.list-1?view=net-7.0\">System.Collections.Generic.List&lt;System.ValueTuple&lt;System.Collections.Generic.List&lt;Azure.AI.DocumentIntelligence.DocumentWord&gt;,System.Single&gt;&gt;</a></span></td><td><i>(empty)</i></td></tr><tr><td><div class=\"dni-plaintext\"><pre>value</pre></div></td><td><span><a href=\"https://docs.microsoft.com/dotnet/api/system.string?view=net-7.0\">System.String</a></span></td><td><div class=\"dni-plaintext\"><pre>2024-05-16</pre></div></td></tr></tbody></table></td></tr><tr><td><div class=\"dni-plaintext\"><pre>DueDate</pre></div></td><td><span><a href=\"https://docs.microsoft.com/dotnet/api/system.collections.generic.dictionary-2?view=net-7.0\">System.Collections.Generic.Dictionary&lt;System.String,System.Object&gt;</a></span></td><td><table><thead><tr><th><i>key</i></th><th><i>type</i></th><th>value</th></tr></thead><tbody><tr><td><div class=\"dni-plaintext\"><pre>confidence</pre></div></td><td><span><a href=\"https://docs.microsoft.com/dotnet/api/system.single?view=net-7.0\">System.Single</a></span></td><td><div class=\"dni-plaintext\"><pre>0</pre></div></td></tr><tr><td><div class=\"dni-plaintext\"><pre>lines</pre></div></td><td><span><a href=\"https://docs.microsoft.com/dotnet/api/system.collections.generic.list-1?view=net-7.0\">System.Collections.Generic.List&lt;System.ValueTuple&lt;System.Collections.Generic.List&lt;Azure.AI.DocumentIntelligence.DocumentWord&gt;,System.Single&gt;&gt;</a></span></td><td><i>(empty)</i></td></tr><tr><td><div class=\"dni-plaintext\"><pre>value</pre></div></td><td><span><a href=\"https://docs.microsoft.com/dotnet/api/system.string?view=net-7.0\">System.String</a></span></td><td><div class=\"dni-plaintext\"><pre>2024-05-24</pre></div></td></tr></tbody></table></td></tr><tr><td><div class=\"dni-plaintext\"><pre>VendorName</pre></div></td><td><span><a href=\"https://docs.microsoft.com/dotnet/api/system.collections.generic.dictionary-2?view=net-7.0\">System.Collections.Generic.Dictionary&lt;System.String,System.Object&gt;</a></span></td><td><table><thead><tr><th><i>key</i></th><th><i>type</i></th><th>value</th></tr></thead><tbody><tr><td><div class=\"dni-plaintext\"><pre>confidence</pre></div></td><td><span><a href=\"https://docs.microsoft.com/dotnet/api/system.single?view=net-7.0\">System.Single</a></span></td><td><div class=\"dni-plaintext\"><pre>0.995</pre></div></td></tr><tr><td><div class=\"dni-plaintext\"><pre>lines</pre></div></td><td><span><a href=\"https://docs.microsoft.com/dotnet/api/system.collections.generic.list-1?view=net-7.0\">System.Collections.Generic.List&lt;System.ValueTuple&lt;System.Collections.Generic.List&lt;Azure.AI.DocumentIntelligence.DocumentWord&gt;,System.Single&gt;&gt;</a></span></td><td><table><thead><tr><th><i>index</i></th><th>value</th></tr></thead><tbody><tr><td>0</td><td><details class=\"dni-treeview\"><summary><span class=\"dni-code-hint\"><code>(System.Collections.Generic.List`1[Azure.AI.DocumentIntelligence.DocumentWord], 0.995)</code></span></summary><div><table><thead><tr></tr></thead><tbody><tr><td>Item1</td><td><table><thead><tr><th><i>index</i></th><th>value</th></tr></thead><tbody><tr><td>0</td><td><details class=\"dni-treeview\"><summary><span class=\"dni-code-hint\"><code>Azure.AI.DocumentIntelligence.DocumentWord</code></span></summary><div><table><thead><tr></tr></thead><tbody><tr><td>Content</td><td>NEXGEN</td></tr><tr><td>Polygon</td><td>[ 1.0195, 1.1129, 2.1002, 1.1142, 2.1002, 1.3302, 1.0195, 1.3319 ]</td></tr><tr><td>Span</td><td>Azure.AI.DocumentIntelligence.DocumentSpan</td></tr><tr><td>Confidence</td><td>0.995</td></tr></tbody></table></div></details></td></tr></tbody></table></td></tr><tr><td>Item2</td><td><div class=\"dni-plaintext\"><pre>0.995</pre></div></td></tr></tbody></table></div></details></td></tr><tr><td>1</td><td><details class=\"dni-treeview\"><summary><span class=\"dni-code-hint\"><code>(System.Collections.Generic.List`1[Azure.AI.DocumentIntelligence.DocumentWord], 0.995)</code></span></summary><div><table><thead><tr></tr></thead><tbody><tr><td>Item1</td><td><table><thead><tr><th><i>index</i></th><th>value</th></tr></thead><tbody><tr><td>0</td><td><details class=\"dni-treeview\"><summary><span class=\"dni-code-hint\"><code>Azure.AI.DocumentIntelligence.DocumentWord</code></span></summary><div><table><thead><tr></tr></thead><tbody><tr><td>Content</td><td>NEXGEN</td></tr><tr><td>Polygon</td><td>[ 1.0154, 1.1132, 2.1002, 1.114, 2.1002, 1.3296, 1.0152, 1.3309 ]</td></tr><tr><td>Span</td><td>Azure.AI.DocumentIntelligence.DocumentSpan</td></tr><tr><td>Confidence</td><td>0.995</td></tr></tbody></table></div></details></td></tr></tbody></table></td></tr><tr><td>Item2</td><td><div class=\"dni-plaintext\"><pre>0.995</pre></div></td></tr></tbody></table></div></details></td></tr></tbody></table></td></tr><tr><td><div class=\"dni-plaintext\"><pre>value</pre></div></td><td><span><a href=\"https://docs.microsoft.com/dotnet/api/system.string?view=net-7.0\">System.String</a></span></td><td><div class=\"dni-plaintext\"><pre>NEXGEN</pre></div></td></tr></tbody></table></td></tr><tr><td><div class=\"dni-plaintext\"><pre>VendorAddress</pre></div></td><td><span><a href=\"https://docs.microsoft.com/dotnet/api/system.collections.generic.dictionary-2?view=net-7.0\">System.Collections.Generic.Dictionary&lt;System.String,System.Object&gt;</a></span></td><td><table><thead><tr><th><i>key</i></th><th><i>type</i></th><th>value</th></tr></thead><tbody><tr><td><div class=\"dni-plaintext\"><pre>confidence</pre></div></td><td><span><a href=\"https://docs.microsoft.com/dotnet/api/system.single?view=net-7.0\">System.Single</a></span></td><td><div class=\"dni-plaintext\"><pre>0</pre></div></td></tr><tr><td><div class=\"dni-plaintext\"><pre>lines</pre></div></td><td><span><a href=\"https://docs.microsoft.com/dotnet/api/system.collections.generic.list-1?view=net-7.0\">System.Collections.Generic.List&lt;System.ValueTuple&lt;System.Collections.Generic.List&lt;Azure.AI.DocumentIntelligence.DocumentWord&gt;,System.Single&gt;&gt;</a></span></td><td><i>(empty)</i></td></tr><tr><td><div class=\"dni-plaintext\"><pre>value</pre></div></td><td><span><a href=\"https://docs.microsoft.com/dotnet/api/system.string?view=net-7.0\">System.String</a></span></td><td><div class=\"dni-plaintext\"><pre></pre></div></td></tr></tbody></table></td></tr><tr><td><div class=\"dni-plaintext\"><pre>VendorTaxId</pre></div></td><td><span><a href=\"https://docs.microsoft.com/dotnet/api/system.collections.generic.dictionary-2?view=net-7.0\">System.Collections.Generic.Dictionary&lt;System.String,System.Object&gt;</a></span></td><td><table><thead><tr><th><i>key</i></th><th><i>type</i></th><th>value</th></tr></thead><tbody><tr><td><div class=\"dni-plaintext\"><pre>confidence</pre></div></td><td><span><a href=\"https://docs.microsoft.com/dotnet/api/system.single?view=net-7.0\">System.Single</a></span></td><td><div class=\"dni-plaintext\"><pre>0</pre></div></td></tr><tr><td><div class=\"dni-plaintext\"><pre>lines</pre></div></td><td><span><a href=\"https://docs.microsoft.com/dotnet/api/system.collections.generic.list-1?view=net-7.0\">System.Collections.Generic.List&lt;System.ValueTuple&lt;System.Collections.Generic.List&lt;Azure.AI.DocumentIntelligence.DocumentWord&gt;,System.Single&gt;&gt;</a></span></td><td><i>(empty)</i></td></tr><tr><td><div class=\"dni-plaintext\"><pre>value</pre></div></td><td><span><a href=\"https://docs.microsoft.com/dotnet/api/system.string?view=net-7.0\">System.String</a></span></td><td><div class=\"dni-plaintext\"><pre></pre></div></td></tr></tbody></table></td></tr><tr><td><div class=\"dni-plaintext\"><pre>RemittanceAddress</pre></div></td><td><span><a href=\"https://docs.microsoft.com/dotnet/api/system.collections.generic.dictionary-2?view=net-7.0\">System.Collections.Generic.Dictionary&lt;System.String,System.Object&gt;</a></span></td><td><table><thead><tr><th><i>key</i></th><th><i>type</i></th><th>value</th></tr></thead><tbody><tr><td><div class=\"dni-plaintext\"><pre>confidence</pre></div></td><td><span><a href=\"https://docs.microsoft.com/dotnet/api/system.single?view=net-7.0\">System.Single</a></span></td><td><div class=\"dni-plaintext\"><pre>0</pre></div></td></tr><tr><td><div class=\"dni-plaintext\"><pre>lines</pre></div></td><td><span><a href=\"https://docs.microsoft.com/dotnet/api/system.collections.generic.list-1?view=net-7.0\">System.Collections.Generic.List&lt;System.ValueTuple&lt;System.Collections.Generic.List&lt;Azure.AI.DocumentIntelligence.DocumentWord&gt;,System.Single&gt;&gt;</a></span></td><td><i>(empty)</i></td></tr><tr><td><div class=\"dni-plaintext\"><pre>value</pre></div></td><td><span><a href=\"https://docs.microsoft.com/dotnet/api/system.string?view=net-7.0\">System.String</a></span></td><td><div class=\"dni-plaintext\"><pre></pre></div></td></tr></tbody></table></td></tr><tr><td><div class=\"dni-plaintext\"><pre>Subtotal</pre></div></td><td><span><a href=\"https://docs.microsoft.com/dotnet/api/system.collections.generic.dictionary-2?view=net-7.0\">System.Collections.Generic.Dictionary&lt;System.String,System.Object&gt;</a></span></td><td><table><thead><tr><th><i>key</i></th><th>value</th></tr></thead><tbody><tr><td><div class=\"dni-plaintext\"><pre>CurrencyCode</pre></div></td><td><table><thead><tr><th><i>key</i></th><th><i>type</i></th><th>value</th></tr></thead><tbody><tr><td><div class=\"dni-plaintext\"><pre>confidence</pre></div></td><td><span><a href=\"https://docs.microsoft.com/dotnet/api/system.single?view=net-7.0\">System.Single</a></span></td><td><div class=\"dni-plaintext\"><pre>0</pre></div></td></tr><tr><td><div class=\"dni-plaintext\"><pre>lines</pre></div></td><td><span><a href=\"https://docs.microsoft.com/dotnet/api/system.collections.generic.list-1?view=net-7.0\">System.Collections.Generic.List&lt;System.ValueTuple&lt;System.Collections.Generic.List&lt;Azure.AI.DocumentIntelligence.DocumentWord&gt;,System.Single&gt;&gt;</a></span></td><td><i>(empty)</i></td></tr><tr><td><div class=\"dni-plaintext\"><pre>value</pre></div></td><td><span><a href=\"https://docs.microsoft.com/dotnet/api/system.string?view=net-7.0\">System.String</a></span></td><td><div class=\"dni-plaintext\"><pre>GBP</pre></div></td></tr></tbody></table></td></tr><tr><td><div class=\"dni-plaintext\"><pre>Amount</pre></div></td><td><table><thead><tr><th><i>key</i></th><th><i>type</i></th><th>value</th></tr></thead><tbody><tr><td><div class=\"dni-plaintext\"><pre>confidence</pre></div></td><td><span><a href=\"https://docs.microsoft.com/dotnet/api/system.single?view=net-7.0\">System.Single</a></span></td><td><div class=\"dni-plaintext\"><pre>0.994</pre></div></td></tr><tr><td><div class=\"dni-plaintext\"><pre>lines</pre></div></td><td><span><a href=\"https://docs.microsoft.com/dotnet/api/system.collections.generic.list-1?view=net-7.0\">System.Collections.Generic.List&lt;System.ValueTuple&lt;System.Collections.Generic.List&lt;Azure.AI.DocumentIntelligence.DocumentWord&gt;,System.Single&gt;&gt;</a></span></td><td><table><thead><tr><th><i>index</i></th><th>value</th></tr></thead><tbody><tr><td>0</td><td><details class=\"dni-treeview\"><summary><span class=\"dni-code-hint\"><code>(System.Collections.Generic.List`1[Azure.AI.DocumentIntelligence.DocumentWord], 0.994)</code></span></summary><div><table><thead><tr></tr></thead><tbody><tr><td>Item1</td><td><table><thead><tr><th><i>index</i></th><th>value</th></tr></thead><tbody><tr><td>0</td><td>Azure.AI.DocumentIntelligence.DocumentWord</td></tr></tbody></table></td></tr><tr><td>Item2</td><td><div class=\"dni-plaintext\"><pre>0.994</pre></div></td></tr></tbody></table></div></details></td></tr></tbody></table></td></tr><tr><td><div class=\"dni-plaintext\"><pre>value</pre></div></td><td><span><a href=\"https://docs.microsoft.com/dotnet/api/system.string?view=net-7.0\">System.String</a></span></td><td><div class=\"dni-plaintext\"><pre>293.52</pre></div></td></tr></tbody></table></td></tr></tbody></table></td></tr><tr><td><div class=\"dni-plaintext\"><pre>TotalDiscount</pre></div></td><td><span><a href=\"https://docs.microsoft.com/dotnet/api/system.collections.generic.dictionary-2?view=net-7.0\">System.Collections.Generic.Dictionary&lt;System.String,System.Object&gt;</a></span></td><td><table><thead><tr><th><i>key</i></th><th><i>type</i></th><th>value</th></tr></thead><tbody><tr><td><div class=\"dni-plaintext\"><pre>confidence</pre></div></td><td><span><a href=\"https://docs.microsoft.com/dotnet/api/system.single?view=net-7.0\">System.Single</a></span></td><td><div class=\"dni-plaintext\"><pre>0</pre></div></td></tr><tr><td><div class=\"dni-plaintext\"><pre>lines</pre></div></td><td><span><a href=\"https://docs.microsoft.com/dotnet/api/system.collections.generic.list-1?view=net-7.0\">System.Collections.Generic.List&lt;System.ValueTuple&lt;System.Collections.Generic.List&lt;Azure.AI.DocumentIntelligence.DocumentWord&gt;,System.Single&gt;&gt;</a></span></td><td><i>(empty)</i></td></tr><tr><td><div class=\"dni-plaintext\"><pre>value</pre></div></td><td><span><a href=\"https://docs.microsoft.com/dotnet/api/system.string?view=net-7.0\">System.String</a></span></td><td><div class=\"dni-plaintext\"><pre></pre></div></td></tr></tbody></table></td></tr><tr><td><div class=\"dni-plaintext\"><pre>TotalTax</pre></div></td><td><span><a href=\"https://docs.microsoft.com/dotnet/api/system.collections.generic.dictionary-2?view=net-7.0\">System.Collections.Generic.Dictionary&lt;System.String,System.Object&gt;</a></span></td><td><table><thead><tr><th><i>key</i></th><th><i>type</i></th><th>value</th></tr></thead><tbody><tr><td><div class=\"dni-plaintext\"><pre>confidence</pre></div></td><td><span><a href=\"https://docs.microsoft.com/dotnet/api/system.single?view=net-7.0\">System.Single</a></span></td><td><div class=\"dni-plaintext\"><pre>0</pre></div></td></tr><tr><td><div class=\"dni-plaintext\"><pre>lines</pre></div></td><td><span><a href=\"https://docs.microsoft.com/dotnet/api/system.collections.generic.list-1?view=net-7.0\">System.Collections.Generic.List&lt;System.ValueTuple&lt;System.Collections.Generic.List&lt;Azure.AI.DocumentIntelligence.DocumentWord&gt;,System.Single&gt;&gt;</a></span></td><td><i>(empty)</i></td></tr><tr><td><div class=\"dni-plaintext\"><pre>value</pre></div></td><td><span><a href=\"https://docs.microsoft.com/dotnet/api/system.string?view=net-7.0\">System.String</a></span></td><td><div class=\"dni-plaintext\"><pre></pre></div></td></tr></tbody></table></td></tr><tr><td><div class=\"dni-plaintext\"><pre>InvoiceTotal</pre></div></td><td><span><a href=\"https://docs.microsoft.com/dotnet/api/system.collections.generic.dictionary-2?view=net-7.0\">System.Collections.Generic.Dictionary&lt;System.String,System.Object&gt;</a></span></td><td><table><thead><tr><th><i>key</i></th><th>value</th></tr></thead><tbody><tr><td><div class=\"dni-plaintext\"><pre>CurrencyCode</pre></div></td><td><table><thead><tr><th><i>key</i></th><th><i>type</i></th><th>value</th></tr></thead><tbody><tr><td><div class=\"dni-plaintext\"><pre>confidence</pre></div></td><td><span><a href=\"https://docs.microsoft.com/dotnet/api/system.single?view=net-7.0\">System.Single</a></span></td><td><div class=\"dni-plaintext\"><pre>0</pre></div></td></tr><tr><td><div class=\"dni-plaintext\"><pre>lines</pre></div></td><td><span><a href=\"https://docs.microsoft.com/dotnet/api/system.collections.generic.list-1?view=net-7.0\">System.Collections.Generic.List&lt;System.ValueTuple&lt;System.Collections.Generic.List&lt;Azure.AI.DocumentIntelligence.DocumentWord&gt;,System.Single&gt;&gt;</a></span></td><td><i>(empty)</i></td></tr><tr><td><div class=\"dni-plaintext\"><pre>value</pre></div></td><td><span><a href=\"https://docs.microsoft.com/dotnet/api/system.string?view=net-7.0\">System.String</a></span></td><td><div class=\"dni-plaintext\"><pre>GBP</pre></div></td></tr></tbody></table></td></tr><tr><td><div class=\"dni-plaintext\"><pre>Amount</pre></div></td><td><table><thead><tr><th><i>key</i></th><th><i>type</i></th><th>value</th></tr></thead><tbody><tr><td><div class=\"dni-plaintext\"><pre>confidence</pre></div></td><td><span><a href=\"https://docs.microsoft.com/dotnet/api/system.single?view=net-7.0\">System.Single</a></span></td><td><div class=\"dni-plaintext\"><pre>0.994</pre></div></td></tr><tr><td><div class=\"dni-plaintext\"><pre>lines</pre></div></td><td><span><a href=\"https://docs.microsoft.com/dotnet/api/system.collections.generic.list-1?view=net-7.0\">System.Collections.Generic.List&lt;System.ValueTuple&lt;System.Collections.Generic.List&lt;Azure.AI.DocumentIntelligence.DocumentWord&gt;,System.Single&gt;&gt;</a></span></td><td><table><thead><tr><th><i>index</i></th><th>value</th></tr></thead><tbody><tr><td>0</td><td><details class=\"dni-treeview\"><summary><span class=\"dni-code-hint\"><code>(System.Collections.Generic.List`1[Azure.AI.DocumentIntelligence.DocumentWord], 0.994)</code></span></summary><div><table><thead><tr></tr></thead><tbody><tr><td>Item1</td><td><table><thead><tr><th><i>index</i></th><th>value</th></tr></thead><tbody><tr><td>0</td><td>Azure.AI.DocumentIntelligence.DocumentWord</td></tr></tbody></table></td></tr><tr><td>Item2</td><td><div class=\"dni-plaintext\"><pre>0.994</pre></div></td></tr></tbody></table></div></details></td></tr></tbody></table></td></tr><tr><td><div class=\"dni-plaintext\"><pre>value</pre></div></td><td><span><a href=\"https://docs.microsoft.com/dotnet/api/system.string?view=net-7.0\">System.String</a></span></td><td><div class=\"dni-plaintext\"><pre>293.52</pre></div></td></tr></tbody></table></td></tr></tbody></table></td></tr><tr><td><div class=\"dni-plaintext\"><pre>PaymentTerm</pre></div></td><td><span><a href=\"https://docs.microsoft.com/dotnet/api/system.collections.generic.dictionary-2?view=net-7.0\">System.Collections.Generic.Dictionary&lt;System.String,System.Object&gt;</a></span></td><td><table><thead><tr><th><i>key</i></th><th><i>type</i></th><th>value</th></tr></thead><tbody><tr><td><div class=\"dni-plaintext\"><pre>confidence</pre></div></td><td><span><a href=\"https://docs.microsoft.com/dotnet/api/system.single?view=net-7.0\">System.Single</a></span></td><td><div class=\"dni-plaintext\"><pre>0.752</pre></div></td></tr><tr><td><div class=\"dni-plaintext\"><pre>lines</pre></div></td><td><span><a href=\"https://docs.microsoft.com/dotnet/api/system.collections.generic.list-1?view=net-7.0\">System.Collections.Generic.List&lt;System.ValueTuple&lt;System.Collections.Generic.List&lt;Azure.AI.DocumentIntelligence.DocumentWord&gt;,System.Single&gt;&gt;</a></span></td><td><table><thead><tr><th><i>index</i></th><th>value</th></tr></thead><tbody><tr><td>0</td><td><details class=\"dni-treeview\"><summary><span class=\"dni-code-hint\"><code>(System.Collections.Generic.List`1[Azure.AI.DocumentIntelligence.DocumentWord], 0.752)</code></span></summary><div><table><thead><tr></tr></thead><tbody><tr><td>Item1</td><td><table><thead><tr><th><i>index</i></th><th>value</th></tr></thead><tbody><tr><td>0</td><td><details class=\"dni-treeview\"><summary><span class=\"dni-code-hint\"><code>Azure.AI.DocumentIntelligence.DocumentWord</code></span></summary><div><table><thead><tr></tr></thead><tbody><tr><td>Content</td><td>Payable</td></tr><tr><td>Polygon</td><td>[ 1.0169, 7.9006, 1.5367, 7.9004, 1.5364, 8.0451, 1.0166, 8.0462 ]</td></tr><tr><td>Span</td><td>Azure.AI.DocumentIntelligence.DocumentSpan</td></tr><tr><td>Confidence</td><td>0.995</td></tr></tbody></table></div></details></td></tr><tr><td>1</td><td><details class=\"dni-treeview\"><summary><span class=\"dni-code-hint\"><code>Azure.AI.DocumentIntelligence.DocumentWord</code></span></summary><div><table><thead><tr></tr></thead><tbody><tr><td>Content</td><td>on</td></tr><tr><td>Polygon</td><td>[ 1.5765, 7.9005, 1.7357, 7.9003, 1.7353, 8.0442, 1.5763, 8.045 ]</td></tr><tr><td>Span</td><td>Azure.AI.DocumentIntelligence.DocumentSpan</td></tr><tr><td>Confidence</td><td>0.999</td></tr></tbody></table></div></details></td></tr><tr><td>2</td><td><details class=\"dni-treeview\"><summary><span class=\"dni-code-hint\"><code>Azure.AI.DocumentIntelligence.DocumentWord</code></span></summary><div><table><thead><tr></tr></thead><tbody><tr><td>Content</td><td>or</td></tr><tr><td>Polygon</td><td>[ 1.7778, 7.9004, 1.8972, 7.9008, 1.8971, 8.042, 1.7775, 8.0437 ]</td></tr><tr><td>Span</td><td>Azure.AI.DocumentIntelligence.DocumentSpan</td></tr><tr><td>Confidence</td><td>0.998</td></tr></tbody></table></div></details></td></tr><tr><td>3</td><td><details class=\"dni-treeview\"><summary><span class=\"dni-code-hint\"><code>Azure.AI.DocumentIntelligence.DocumentWord</code></span></summary><div><table><thead><tr></tr></thead><tbody><tr><td>Content</td><td>before</td></tr><tr><td>Polygon</td><td>[ 1.9253, 7.9007, 2.3538, 7.8985, 2.3534, 8.0418, 1.9252, 8.0419 ]</td></tr><tr><td>Span</td><td>Azure.AI.DocumentIntelligence.DocumentSpan</td></tr><tr><td>Confidence</td><td>0.947</td></tr></tbody></table></div></details></td></tr><tr><td>4</td><td><details class=\"dni-treeview\"><summary><span class=\"dni-code-hint\"><code>Azure.AI.DocumentIntelligence.DocumentWord</code></span></summary><div><table><thead><tr></tr></thead><tbody><tr><td>Content</td><td>5/24/2024</td></tr><tr><td>Polygon</td><td>[ 2.3842, 7.8984, 3.0761, 7.8969, 3.0761, 8.0365, 2.3837, 8.0414 ]</td></tr><tr><td>Span</td><td>Azure.AI.DocumentIntelligence.DocumentSpan</td></tr><tr><td>Confidence</td><td>0.752</td></tr></tbody></table></div></details></td></tr></tbody></table></td></tr><tr><td>Item2</td><td><div class=\"dni-plaintext\"><pre>0.752</pre></div></td></tr></tbody></table></div></details></td></tr></tbody></table></td></tr><tr><td><div class=\"dni-plaintext\"><pre>value</pre></div></td><td><span><a href=\"https://docs.microsoft.com/dotnet/api/system.string?view=net-7.0\">System.String</a></span></td><td><div class=\"dni-plaintext\"><pre>Payable on or before 5/24/2024</pre></div></td></tr></tbody></table></td></tr><tr><td><div class=\"dni-plaintext\"><pre>Items</pre></div></td><td><span><a href=\"https://docs.microsoft.com/dotnet/api/system.collections.generic.list-1?view=net-7.0\">System.Collections.Generic.List&lt;System.Object&gt;</a></span></td><td><table><thead><tr><th><i>index</i></th><th>value</th></tr></thead><tbody><tr><td>0</td><td><table><thead><tr><th><i>key</i></th><th>value</th></tr></thead><tbody><tr><td><div class=\"dni-plaintext\"><pre>ProductCode</pre></div></td><td><table><thead><tr><th><i>key</i></th><th><i>type</i></th><th>value</th></tr></thead><tbody><tr><td><div class=\"dni-plaintext\"><pre>confidence</pre></div></td><td><span><a href=\"https://docs.microsoft.com/dotnet/api/system.single?view=net-7.0\">System.Single</a></span></td><td><div class=\"dni-plaintext\"><pre>0.997</pre></div></td></tr><tr><td><div class=\"dni-plaintext\"><pre>lines</pre></div></td><td><span><a href=\"https://docs.microsoft.com/dotnet/api/system.collections.generic.list-1?view=net-7.0\">System.Collections.Generic.List&lt;System.ValueTuple&lt;System.Collections.Generic.List&lt;Azure.AI.DocumentIntelligence.DocumentWord&gt;,System.Single&gt;&gt;</a></span></td><td><table><thead><tr><th><i>index</i></th><th>value</th></tr></thead><tbody><tr><td>0</td><td><details class=\"dni-treeview\"><summary><span class=\"dni-code-hint\"><code>(System.Collections.Generic.List`1[Azure.AI.DocumentIntelligence.DocumentWord], 0.997)</code></span></summary><div><table><thead><tr></tr></thead><tbody><tr><td>Item1</td><td>[ Azure.AI.DocumentIntelligence.DocumentWord ]</td></tr><tr><td>Item2</td><td>0.997</td></tr></tbody></table></div></details></td></tr></tbody></table></td></tr><tr><td><div class=\"dni-plaintext\"><pre>value</pre></div></td><td><span><a href=\"https://docs.microsoft.com/dotnet/api/system.string?view=net-7.0\">System.String</a></span></td><td><div class=\"dni-plaintext\"><pre>MA197</pre></div></td></tr></tbody></table></td></tr><tr><td><div class=\"dni-plaintext\"><pre>Description</pre></div></td><td><table><thead><tr><th><i>key</i></th><th><i>type</i></th><th>value</th></tr></thead><tbody><tr><td><div class=\"dni-plaintext\"><pre>confidence</pre></div></td><td><span><a href=\"https://docs.microsoft.com/dotnet/api/system.single?view=net-7.0\">System.Single</a></span></td><td><div class=\"dni-plaintext\"><pre>0.986</pre></div></td></tr><tr><td><div class=\"dni-plaintext\"><pre>lines</pre></div></td><td><span><a href=\"https://docs.microsoft.com/dotnet/api/system.collections.generic.list-1?view=net-7.0\">System.Collections.Generic.List&lt;System.ValueTuple&lt;System.Collections.Generic.List&lt;Azure.AI.DocumentIntelligence.DocumentWord&gt;,System.Single&gt;&gt;</a></span></td><td><table><thead><tr><th><i>index</i></th><th>value</th></tr></thead><tbody><tr><td>0</td><td><details class=\"dni-treeview\"><summary><span class=\"dni-code-hint\"><code>(System.Collections.Generic.List`1[Azure.AI.DocumentIntelligence.DocumentWord], 0.989)</code></span></summary><div><table><thead><tr></tr></thead><tbody><tr><td>Item1</td><td>[ Azure.AI.DocumentIntelligence.DocumentWord, Azure.AI.DocumentIntelligence.DocumentWord ]</td></tr><tr><td>Item2</td><td>0.989</td></tr></tbody></table></div></details></td></tr><tr><td>1</td><td><details class=\"dni-treeview\"><summary><span class=\"dni-code-hint\"><code>(System.Collections.Generic.List`1[Azure.AI.DocumentIntelligence.DocumentWord], 0.986)</code></span></summary><div><table><thead><tr></tr></thead><tbody><tr><td>Item1</td><td>[ Azure.AI.DocumentIntelligence.DocumentWord, Azure.AI.DocumentIntelligence.DocumentWord, Azure.AI.DocumentIntelligence.DocumentWord, Azure.AI.DocumentIntelligence.DocumentWord ]</td></tr><tr><td>Item2</td><td>0.986</td></tr></tbody></table></div></details></td></tr></tbody></table></td></tr><tr><td><div class=\"dni-plaintext\"><pre>value</pre></div></td><td><span><a href=\"https://docs.microsoft.com/dotnet/api/system.string?view=net-7.0\">System.String</a></span></td><td><div class=\"dni-plaintext\"><pre>STRETCHWRAP ROLL</pre></div></td></tr></tbody></table></td></tr><tr><td><div class=\"dni-plaintext\"><pre>Quantity</pre></div></td><td><table><thead><tr><th><i>key</i></th><th><i>type</i></th><th>value</th></tr></thead><tbody><tr><td><div class=\"dni-plaintext\"><pre>confidence</pre></div></td><td><span><a href=\"https://docs.microsoft.com/dotnet/api/system.single?view=net-7.0\">System.Single</a></span></td><td><div class=\"dni-plaintext\"><pre>0.996</pre></div></td></tr><tr><td><div class=\"dni-plaintext\"><pre>lines</pre></div></td><td><span><a href=\"https://docs.microsoft.com/dotnet/api/system.collections.generic.list-1?view=net-7.0\">System.Collections.Generic.List&lt;System.ValueTuple&lt;System.Collections.Generic.List&lt;Azure.AI.DocumentIntelligence.DocumentWord&gt;,System.Single&gt;&gt;</a></span></td><td><table><thead><tr><th><i>index</i></th><th>value</th></tr></thead><tbody><tr><td>0</td><td><details class=\"dni-treeview\"><summary><span class=\"dni-code-hint\"><code>(System.Collections.Generic.List`1[Azure.AI.DocumentIntelligence.DocumentWord], 0.996)</code></span></summary><div><table><thead><tr></tr></thead><tbody><tr><td>Item1</td><td>[ Azure.AI.DocumentIntelligence.DocumentWord ]</td></tr><tr><td>Item2</td><td>0.996</td></tr></tbody></table></div></details></td></tr></tbody></table></td></tr><tr><td><div class=\"dni-plaintext\"><pre>value</pre></div></td><td><span><a href=\"https://docs.microsoft.com/dotnet/api/system.string?view=net-7.0\">System.String</a></span></td><td><div class=\"dni-plaintext\"><pre>5</pre></div></td></tr></tbody></table></td></tr><tr><td><div class=\"dni-plaintext\"><pre>Tax</pre></div></td><td><table><thead><tr><th><i>key</i></th><th><i>type</i></th><th>value</th></tr></thead><tbody><tr><td><div class=\"dni-plaintext\"><pre>confidence</pre></div></td><td><span><a href=\"https://docs.microsoft.com/dotnet/api/system.single?view=net-7.0\">System.Single</a></span></td><td><div class=\"dni-plaintext\"><pre>0</pre></div></td></tr><tr><td><div class=\"dni-plaintext\"><pre>lines</pre></div></td><td><span><a href=\"https://docs.microsoft.com/dotnet/api/system.collections.generic.list-1?view=net-7.0\">System.Collections.Generic.List&lt;System.ValueTuple&lt;System.Collections.Generic.List&lt;Azure.AI.DocumentIntelligence.DocumentWord&gt;,System.Single&gt;&gt;</a></span></td><td><i>(empty)</i></td></tr><tr><td><div class=\"dni-plaintext\"><pre>value</pre></div></td><td><span><a href=\"https://docs.microsoft.com/dotnet/api/system.string?view=net-7.0\">System.String</a></span></td><td><div class=\"dni-plaintext\"><pre></pre></div></td></tr></tbody></table></td></tr><tr><td><div class=\"dni-plaintext\"><pre>UnitPrice</pre></div></td><td><table><thead><tr><th><i>key</i></th><th>value</th></tr></thead><tbody><tr><td><div class=\"dni-plaintext\"><pre>CurrencyCode</pre></div></td><td><table><thead><tr><th><i>key</i></th><th><i>type</i></th><th>value</th></tr></thead><tbody><tr><td><div class=\"dni-plaintext\"><pre>confidence</pre></div></td><td><span><a href=\"https://docs.microsoft.com/dotnet/api/system.single?view=net-7.0\">System.Single</a></span></td><td><div class=\"dni-plaintext\"><pre>0</pre></div></td></tr><tr><td><div class=\"dni-plaintext\"><pre>lines</pre></div></td><td><span><a href=\"https://docs.microsoft.com/dotnet/api/system.collections.generic.list-1?view=net-7.0\">System.Collections.Generic.List&lt;System.ValueTuple&lt;System.Collections.Generic.List&lt;Azure.AI.DocumentIntelligence.DocumentWord&gt;,System.Single&gt;&gt;</a></span></td><td><i>(empty)</i></td></tr><tr><td><div class=\"dni-plaintext\"><pre>value</pre></div></td><td><span><a href=\"https://docs.microsoft.com/dotnet/api/system.string?view=net-7.0\">System.String</a></span></td><td><div class=\"dni-plaintext\"><pre>GBP</pre></div></td></tr></tbody></table></td></tr><tr><td><div class=\"dni-plaintext\"><pre>Amount</pre></div></td><td><table><thead><tr><th><i>key</i></th><th><i>type</i></th><th>value</th></tr></thead><tbody><tr><td><div class=\"dni-plaintext\"><pre>confidence</pre></div></td><td><span><a href=\"https://docs.microsoft.com/dotnet/api/system.single?view=net-7.0\">System.Single</a></span></td><td><div class=\"dni-plaintext\"><pre>0.997</pre></div></td></tr><tr><td><div class=\"dni-plaintext\"><pre>lines</pre></div></td><td><span><a href=\"https://docs.microsoft.com/dotnet/api/system.collections.generic.list-1?view=net-7.0\">System.Collections.Generic.List&lt;System.ValueTuple&lt;System.Collections.Generic.List&lt;Azure.AI.DocumentIntelligence.DocumentWord&gt;,System.Single&gt;&gt;</a></span></td><td><table><thead><tr><th><i>index</i></th><th>value</th></tr></thead><tbody><tr><td>0</td><td>(System.Collections.Generic.List`1[Azure.AI.DocumentIntelligence.DocumentWord], 0.997)</td></tr></tbody></table></td></tr><tr><td><div class=\"dni-plaintext\"><pre>value</pre></div></td><td><span><a href=\"https://docs.microsoft.com/dotnet/api/system.string?view=net-7.0\">System.String</a></span></td><td><div class=\"dni-plaintext\"><pre>16.62</pre></div></td></tr></tbody></table></td></tr></tbody></table></td></tr><tr><td><div class=\"dni-plaintext\"><pre>Total</pre></div></td><td><table><thead><tr><th><i>key</i></th><th>value</th></tr></thead><tbody><tr><td><div class=\"dni-plaintext\"><pre>CurrencyCode</pre></div></td><td><table><thead><tr><th><i>key</i></th><th><i>type</i></th><th>value</th></tr></thead><tbody><tr><td><div class=\"dni-plaintext\"><pre>confidence</pre></div></td><td><span><a href=\"https://docs.microsoft.com/dotnet/api/system.single?view=net-7.0\">System.Single</a></span></td><td><div class=\"dni-plaintext\"><pre>0</pre></div></td></tr><tr><td><div class=\"dni-plaintext\"><pre>lines</pre></div></td><td><span><a href=\"https://docs.microsoft.com/dotnet/api/system.collections.generic.list-1?view=net-7.0\">System.Collections.Generic.List&lt;System.ValueTuple&lt;System.Collections.Generic.List&lt;Azure.AI.DocumentIntelligence.DocumentWord&gt;,System.Single&gt;&gt;</a></span></td><td><i>(empty)</i></td></tr><tr><td><div class=\"dni-plaintext\"><pre>value</pre></div></td><td><span><a href=\"https://docs.microsoft.com/dotnet/api/system.string?view=net-7.0\">System.String</a></span></td><td><div class=\"dni-plaintext\"><pre>GBP</pre></div></td></tr></tbody></table></td></tr><tr><td><div class=\"dni-plaintext\"><pre>Amount</pre></div></td><td><table><thead><tr><th><i>key</i></th><th><i>type</i></th><th>value</th></tr></thead><tbody><tr><td><div class=\"dni-plaintext\"><pre>confidence</pre></div></td><td><span><a href=\"https://docs.microsoft.com/dotnet/api/system.single?view=net-7.0\">System.Single</a></span></td><td><div class=\"dni-plaintext\"><pre>0.998</pre></div></td></tr><tr><td><div class=\"dni-plaintext\"><pre>lines</pre></div></td><td><span><a href=\"https://docs.microsoft.com/dotnet/api/system.collections.generic.list-1?view=net-7.0\">System.Collections.Generic.List&lt;System.ValueTuple&lt;System.Collections.Generic.List&lt;Azure.AI.DocumentIntelligence.DocumentWord&gt;,System.Single&gt;&gt;</a></span></td><td><table><thead><tr><th><i>index</i></th><th>value</th></tr></thead><tbody><tr><td>0</td><td>(System.Collections.Generic.List`1[Azure.AI.DocumentIntelligence.DocumentWord], 0.998)</td></tr></tbody></table></td></tr><tr><td><div class=\"dni-plaintext\"><pre>value</pre></div></td><td><span><a href=\"https://docs.microsoft.com/dotnet/api/system.string?view=net-7.0\">System.String</a></span></td><td><div class=\"dni-plaintext\"><pre>83.1</pre></div></td></tr></tbody></table></td></tr></tbody></table></td></tr></tbody></table></td></tr><tr><td>1</td><td><table><thead><tr><th><i>key</i></th><th>value</th></tr></thead><tbody><tr><td><div class=\"dni-plaintext\"><pre>ProductCode</pre></div></td><td><table><thead><tr><th><i>key</i></th><th><i>type</i></th><th>value</th></tr></thead><tbody><tr><td><div class=\"dni-plaintext\"><pre>confidence</pre></div></td><td><span><a href=\"https://docs.microsoft.com/dotnet/api/system.single?view=net-7.0\">System.Single</a></span></td><td><div class=\"dni-plaintext\"><pre>0.997</pre></div></td></tr><tr><td><div class=\"dni-plaintext\"><pre>lines</pre></div></td><td><span><a href=\"https://docs.microsoft.com/dotnet/api/system.collections.generic.list-1?view=net-7.0\">System.Collections.Generic.List&lt;System.ValueTuple&lt;System.Collections.Generic.List&lt;Azure.AI.DocumentIntelligence.DocumentWord&gt;,System.Single&gt;&gt;</a></span></td><td><table><thead><tr><th><i>index</i></th><th>value</th></tr></thead><tbody><tr><td>0</td><td><details class=\"dni-treeview\"><summary><span class=\"dni-code-hint\"><code>(System.Collections.Generic.List`1[Azure.AI.DocumentIntelligence.DocumentWord], 0.997)</code></span></summary><div><table><thead><tr></tr></thead><tbody><tr><td>Item1</td><td>[ Azure.AI.DocumentIntelligence.DocumentWord ]</td></tr><tr><td>Item2</td><td>0.997</td></tr></tbody></table></div></details></td></tr></tbody></table></td></tr><tr><td><div class=\"dni-plaintext\"><pre>value</pre></div></td><td><span><a href=\"https://docs.microsoft.com/dotnet/api/system.string?view=net-7.0\">System.String</a></span></td><td><div class=\"dni-plaintext\"><pre>ST4086</pre></div></td></tr></tbody></table></td></tr><tr><td><div class=\"dni-plaintext\"><pre>Description</pre></div></td><td><table><thead><tr><th><i>key</i></th><th><i>type</i></th><th>value</th></tr></thead><tbody><tr><td><div class=\"dni-plaintext\"><pre>confidence</pre></div></td><td><span><a href=\"https://docs.microsoft.com/dotnet/api/system.single?view=net-7.0\">System.Single</a></span></td><td><div class=\"dni-plaintext\"><pre>0.992</pre></div></td></tr><tr><td><div class=\"dni-plaintext\"><pre>lines</pre></div></td><td><span><a href=\"https://docs.microsoft.com/dotnet/api/system.collections.generic.list-1?view=net-7.0\">System.Collections.Generic.List&lt;System.ValueTuple&lt;System.Collections.Generic.List&lt;Azure.AI.DocumentIntelligence.DocumentWord&gt;,System.Single&gt;&gt;</a></span></td><td><table><thead><tr><th><i>index</i></th><th>value</th></tr></thead><tbody><tr><td>0</td><td><details class=\"dni-treeview\"><summary><span class=\"dni-code-hint\"><code>(System.Collections.Generic.List`1[Azure.AI.DocumentIntelligence.DocumentWord], 0.992)</code></span></summary><div><table><thead><tr></tr></thead><tbody><tr><td>Item1</td><td>[ Azure.AI.DocumentIntelligence.DocumentWord, Azure.AI.DocumentIntelligence.DocumentWord, Azure.AI.DocumentIntelligence.DocumentWord ]</td></tr><tr><td>Item2</td><td>0.992</td></tr></tbody></table></div></details></td></tr></tbody></table></td></tr><tr><td><div class=\"dni-plaintext\"><pre>value</pre></div></td><td><span><a href=\"https://docs.microsoft.com/dotnet/api/system.string?view=net-7.0\">System.String</a></span></td><td><div class=\"dni-plaintext\"><pre>BALLPOINT PEN MED.</pre></div></td></tr></tbody></table></td></tr><tr><td><div class=\"dni-plaintext\"><pre>Quantity</pre></div></td><td><table><thead><tr><th><i>key</i></th><th><i>type</i></th><th>value</th></tr></thead><tbody><tr><td><div class=\"dni-plaintext\"><pre>confidence</pre></div></td><td><span><a href=\"https://docs.microsoft.com/dotnet/api/system.single?view=net-7.0\">System.Single</a></span></td><td><div class=\"dni-plaintext\"><pre>0.998</pre></div></td></tr><tr><td><div class=\"dni-plaintext\"><pre>lines</pre></div></td><td><span><a href=\"https://docs.microsoft.com/dotnet/api/system.collections.generic.list-1?view=net-7.0\">System.Collections.Generic.List&lt;System.ValueTuple&lt;System.Collections.Generic.List&lt;Azure.AI.DocumentIntelligence.DocumentWord&gt;,System.Single&gt;&gt;</a></span></td><td><table><thead><tr><th><i>index</i></th><th>value</th></tr></thead><tbody><tr><td>0</td><td><details class=\"dni-treeview\"><summary><span class=\"dni-code-hint\"><code>(System.Collections.Generic.List`1[Azure.AI.DocumentIntelligence.DocumentWord], 0.998)</code></span></summary><div><table><thead><tr></tr></thead><tbody><tr><td>Item1</td><td>[ Azure.AI.DocumentIntelligence.DocumentWord ]</td></tr><tr><td>Item2</td><td>0.998</td></tr></tbody></table></div></details></td></tr></tbody></table></td></tr><tr><td><div class=\"dni-plaintext\"><pre>value</pre></div></td><td><span><a href=\"https://docs.microsoft.com/dotnet/api/system.string?view=net-7.0\">System.String</a></span></td><td><div class=\"dni-plaintext\"><pre>10</pre></div></td></tr></tbody></table></td></tr><tr><td><div class=\"dni-plaintext\"><pre>Tax</pre></div></td><td><table><thead><tr><th><i>key</i></th><th><i>type</i></th><th>value</th></tr></thead><tbody><tr><td><div class=\"dni-plaintext\"><pre>confidence</pre></div></td><td><span><a href=\"https://docs.microsoft.com/dotnet/api/system.single?view=net-7.0\">System.Single</a></span></td><td><div class=\"dni-plaintext\"><pre>0</pre></div></td></tr><tr><td><div class=\"dni-plaintext\"><pre>lines</pre></div></td><td><span><a href=\"https://docs.microsoft.com/dotnet/api/system.collections.generic.list-1?view=net-7.0\">System.Collections.Generic.List&lt;System.ValueTuple&lt;System.Collections.Generic.List&lt;Azure.AI.DocumentIntelligence.DocumentWord&gt;,System.Single&gt;&gt;</a></span></td><td><i>(empty)</i></td></tr><tr><td><div class=\"dni-plaintext\"><pre>value</pre></div></td><td><span><a href=\"https://docs.microsoft.com/dotnet/api/system.string?view=net-7.0\">System.String</a></span></td><td><div class=\"dni-plaintext\"><pre></pre></div></td></tr></tbody></table></td></tr><tr><td><div class=\"dni-plaintext\"><pre>UnitPrice</pre></div></td><td><table><thead><tr><th><i>key</i></th><th>value</th></tr></thead><tbody><tr><td><div class=\"dni-plaintext\"><pre>CurrencyCode</pre></div></td><td><table><thead><tr><th><i>key</i></th><th><i>type</i></th><th>value</th></tr></thead><tbody><tr><td><div class=\"dni-plaintext\"><pre>confidence</pre></div></td><td><span><a href=\"https://docs.microsoft.com/dotnet/api/system.single?view=net-7.0\">System.Single</a></span></td><td><div class=\"dni-plaintext\"><pre>0</pre></div></td></tr><tr><td><div class=\"dni-plaintext\"><pre>lines</pre></div></td><td><span><a href=\"https://docs.microsoft.com/dotnet/api/system.collections.generic.list-1?view=net-7.0\">System.Collections.Generic.List&lt;System.ValueTuple&lt;System.Collections.Generic.List&lt;Azure.AI.DocumentIntelligence.DocumentWord&gt;,System.Single&gt;&gt;</a></span></td><td><i>(empty)</i></td></tr><tr><td><div class=\"dni-plaintext\"><pre>value</pre></div></td><td><span><a href=\"https://docs.microsoft.com/dotnet/api/system.string?view=net-7.0\">System.String</a></span></td><td><div class=\"dni-plaintext\"><pre>GBP</pre></div></td></tr></tbody></table></td></tr><tr><td><div class=\"dni-plaintext\"><pre>Amount</pre></div></td><td><table><thead><tr><th><i>key</i></th><th><i>type</i></th><th>value</th></tr></thead><tbody><tr><td><div class=\"dni-plaintext\"><pre>confidence</pre></div></td><td><span><a href=\"https://docs.microsoft.com/dotnet/api/system.single?view=net-7.0\">System.Single</a></span></td><td><div class=\"dni-plaintext\"><pre>0.992</pre></div></td></tr><tr><td><div class=\"dni-plaintext\"><pre>lines</pre></div></td><td><span><a href=\"https://docs.microsoft.com/dotnet/api/system.collections.generic.list-1?view=net-7.0\">System.Collections.Generic.List&lt;System.ValueTuple&lt;System.Collections.Generic.List&lt;Azure.AI.DocumentIntelligence.DocumentWord&gt;,System.Single&gt;&gt;</a></span></td><td><table><thead><tr><th><i>index</i></th><th>value</th></tr></thead><tbody><tr><td>0</td><td>(System.Collections.Generic.List`1[Azure.AI.DocumentIntelligence.DocumentWord], 0.992)</td></tr></tbody></table></td></tr><tr><td><div class=\"dni-plaintext\"><pre>value</pre></div></td><td><span><a href=\"https://docs.microsoft.com/dotnet/api/system.string?view=net-7.0\">System.String</a></span></td><td><div class=\"dni-plaintext\"><pre>2.49</pre></div></td></tr></tbody></table></td></tr></tbody></table></td></tr><tr><td><div class=\"dni-plaintext\"><pre>Total</pre></div></td><td><table><thead><tr><th><i>key</i></th><th>value</th></tr></thead><tbody><tr><td><div class=\"dni-plaintext\"><pre>CurrencyCode</pre></div></td><td><table><thead><tr><th><i>key</i></th><th><i>type</i></th><th>value</th></tr></thead><tbody><tr><td><div class=\"dni-plaintext\"><pre>confidence</pre></div></td><td><span><a href=\"https://docs.microsoft.com/dotnet/api/system.single?view=net-7.0\">System.Single</a></span></td><td><div class=\"dni-plaintext\"><pre>0</pre></div></td></tr><tr><td><div class=\"dni-plaintext\"><pre>lines</pre></div></td><td><span><a href=\"https://docs.microsoft.com/dotnet/api/system.collections.generic.list-1?view=net-7.0\">System.Collections.Generic.List&lt;System.ValueTuple&lt;System.Collections.Generic.List&lt;Azure.AI.DocumentIntelligence.DocumentWord&gt;,System.Single&gt;&gt;</a></span></td><td><i>(empty)</i></td></tr><tr><td><div class=\"dni-plaintext\"><pre>value</pre></div></td><td><span><a href=\"https://docs.microsoft.com/dotnet/api/system.string?view=net-7.0\">System.String</a></span></td><td><div class=\"dni-plaintext\"><pre>GBP</pre></div></td></tr></tbody></table></td></tr><tr><td><div class=\"dni-plaintext\"><pre>Amount</pre></div></td><td><table><thead><tr><th><i>key</i></th><th><i>type</i></th><th>value</th></tr></thead><tbody><tr><td><div class=\"dni-plaintext\"><pre>confidence</pre></div></td><td><span><a href=\"https://docs.microsoft.com/dotnet/api/system.single?view=net-7.0\">System.Single</a></span></td><td><div class=\"dni-plaintext\"><pre>0.996</pre></div></td></tr><tr><td><div class=\"dni-plaintext\"><pre>lines</pre></div></td><td><span><a href=\"https://docs.microsoft.com/dotnet/api/system.collections.generic.list-1?view=net-7.0\">System.Collections.Generic.List&lt;System.ValueTuple&lt;System.Collections.Generic.List&lt;Azure.AI.DocumentIntelligence.DocumentWord&gt;,System.Single&gt;&gt;</a></span></td><td><table><thead><tr><th><i>index</i></th><th>value</th></tr></thead><tbody><tr><td>0</td><td>(System.Collections.Generic.List`1[Azure.AI.DocumentIntelligence.DocumentWord], 0.996)</td></tr></tbody></table></td></tr><tr><td><div class=\"dni-plaintext\"><pre>value</pre></div></td><td><span><a href=\"https://docs.microsoft.com/dotnet/api/system.string?view=net-7.0\">System.String</a></span></td><td><div class=\"dni-plaintext\"><pre>24.9</pre></div></td></tr></tbody></table></td></tr></tbody></table></td></tr></tbody></table></td></tr><tr><td>2</td><td><table><thead><tr><th><i>key</i></th><th>value</th></tr></thead><tbody><tr><td><div class=\"dni-plaintext\"><pre>ProductCode</pre></div></td><td><table><thead><tr><th><i>key</i></th><th><i>type</i></th><th>value</th></tr></thead><tbody><tr><td><div class=\"dni-plaintext\"><pre>confidence</pre></div></td><td><span><a href=\"https://docs.microsoft.com/dotnet/api/system.single?view=net-7.0\">System.Single</a></span></td><td><div class=\"dni-plaintext\"><pre>0.995</pre></div></td></tr><tr><td><div class=\"dni-plaintext\"><pre>lines</pre></div></td><td><span><a href=\"https://docs.microsoft.com/dotnet/api/system.collections.generic.list-1?view=net-7.0\">System.Collections.Generic.List&lt;System.ValueTuple&lt;System.Collections.Generic.List&lt;Azure.AI.DocumentIntelligence.DocumentWord&gt;,System.Single&gt;&gt;</a></span></td><td><table><thead><tr><th><i>index</i></th><th>value</th></tr></thead><tbody><tr><td>0</td><td><details class=\"dni-treeview\"><summary><span class=\"dni-code-hint\"><code>(System.Collections.Generic.List`1[Azure.AI.DocumentIntelligence.DocumentWord], 0.995)</code></span></summary><div><table><thead><tr></tr></thead><tbody><tr><td>Item1</td><td>[ Azure.AI.DocumentIntelligence.DocumentWord ]</td></tr><tr><td>Item2</td><td>0.995</td></tr></tbody></table></div></details></td></tr></tbody></table></td></tr><tr><td><div class=\"dni-plaintext\"><pre>value</pre></div></td><td><span><a href=\"https://docs.microsoft.com/dotnet/api/system.string?view=net-7.0\">System.String</a></span></td><td><div class=\"dni-plaintext\"><pre>JF9912413BF</pre></div></td></tr></tbody></table></td></tr><tr><td><div class=\"dni-plaintext\"><pre>Description</pre></div></td><td><table><thead><tr><th><i>key</i></th><th><i>type</i></th><th>value</th></tr></thead><tbody><tr><td><div class=\"dni-plaintext\"><pre>confidence</pre></div></td><td><span><a href=\"https://docs.microsoft.com/dotnet/api/system.single?view=net-7.0\">System.Single</a></span></td><td><div class=\"dni-plaintext\"><pre>0.986</pre></div></td></tr><tr><td><div class=\"dni-plaintext\"><pre>lines</pre></div></td><td><span><a href=\"https://docs.microsoft.com/dotnet/api/system.collections.generic.list-1?view=net-7.0\">System.Collections.Generic.List&lt;System.ValueTuple&lt;System.Collections.Generic.List&lt;Azure.AI.DocumentIntelligence.DocumentWord&gt;,System.Single&gt;&gt;</a></span></td><td><table><thead><tr><th><i>index</i></th><th>value</th></tr></thead><tbody><tr><td>0</td><td><details class=\"dni-treeview\"><summary><span class=\"dni-code-hint\"><code>(System.Collections.Generic.List`1[Azure.AI.DocumentIntelligence.DocumentWord], 0.989)</code></span></summary><div><table><thead><tr></tr></thead><tbody><tr><td>Item1</td><td>[ Azure.AI.DocumentIntelligence.DocumentWord, Azure.AI.DocumentIntelligence.DocumentWord ]</td></tr><tr><td>Item2</td><td>0.989</td></tr></tbody></table></div></details></td></tr><tr><td>1</td><td><details class=\"dni-treeview\"><summary><span class=\"dni-code-hint\"><code>(System.Collections.Generic.List`1[Azure.AI.DocumentIntelligence.DocumentWord], 0.986)</code></span></summary><div><table><thead><tr></tr></thead><tbody><tr><td>Item1</td><td>[ Azure.AI.DocumentIntelligence.DocumentWord, Azure.AI.DocumentIntelligence.DocumentWord, Azure.AI.DocumentIntelligence.DocumentWord, Azure.AI.DocumentIntelligence.DocumentWord ]</td></tr><tr><td>Item2</td><td>0.986</td></tr></tbody></table></div></details></td></tr></tbody></table></td></tr><tr><td><div class=\"dni-plaintext\"><pre>value</pre></div></td><td><span><a href=\"https://docs.microsoft.com/dotnet/api/system.string?view=net-7.0\">System.String</a></span></td><td><div class=\"dni-plaintext\"><pre>BUBBLE FILM ROLL CL.</pre></div></td></tr></tbody></table></td></tr><tr><td><div class=\"dni-plaintext\"><pre>Quantity</pre></div></td><td><table><thead><tr><th><i>key</i></th><th><i>type</i></th><th>value</th></tr></thead><tbody><tr><td><div class=\"dni-plaintext\"><pre>confidence</pre></div></td><td><span><a href=\"https://docs.microsoft.com/dotnet/api/system.single?view=net-7.0\">System.Single</a></span></td><td><div class=\"dni-plaintext\"><pre>0.998</pre></div></td></tr><tr><td><div class=\"dni-plaintext\"><pre>lines</pre></div></td><td><span><a href=\"https://docs.microsoft.com/dotnet/api/system.collections.generic.list-1?view=net-7.0\">System.Collections.Generic.List&lt;System.ValueTuple&lt;System.Collections.Generic.List&lt;Azure.AI.DocumentIntelligence.DocumentWord&gt;,System.Single&gt;&gt;</a></span></td><td><table><thead><tr><th><i>index</i></th><th>value</th></tr></thead><tbody><tr><td>0</td><td><details class=\"dni-treeview\"><summary><span class=\"dni-code-hint\"><code>(System.Collections.Generic.List`1[Azure.AI.DocumentIntelligence.DocumentWord], 0.998)</code></span></summary><div><table><thead><tr></tr></thead><tbody><tr><td>Item1</td><td>[ Azure.AI.DocumentIntelligence.DocumentWord ]</td></tr><tr><td>Item2</td><td>0.998</td></tr></tbody></table></div></details></td></tr></tbody></table></td></tr><tr><td><div class=\"dni-plaintext\"><pre>value</pre></div></td><td><span><a href=\"https://docs.microsoft.com/dotnet/api/system.string?view=net-7.0\">System.String</a></span></td><td><div class=\"dni-plaintext\"><pre>12</pre></div></td></tr></tbody></table></td></tr><tr><td><div class=\"dni-plaintext\"><pre>Tax</pre></div></td><td><table><thead><tr><th><i>key</i></th><th><i>type</i></th><th>value</th></tr></thead><tbody><tr><td><div class=\"dni-plaintext\"><pre>confidence</pre></div></td><td><span><a href=\"https://docs.microsoft.com/dotnet/api/system.single?view=net-7.0\">System.Single</a></span></td><td><div class=\"dni-plaintext\"><pre>0</pre></div></td></tr><tr><td><div class=\"dni-plaintext\"><pre>lines</pre></div></td><td><span><a href=\"https://docs.microsoft.com/dotnet/api/system.collections.generic.list-1?view=net-7.0\">System.Collections.Generic.List&lt;System.ValueTuple&lt;System.Collections.Generic.List&lt;Azure.AI.DocumentIntelligence.DocumentWord&gt;,System.Single&gt;&gt;</a></span></td><td><i>(empty)</i></td></tr><tr><td><div class=\"dni-plaintext\"><pre>value</pre></div></td><td><span><a href=\"https://docs.microsoft.com/dotnet/api/system.string?view=net-7.0\">System.String</a></span></td><td><div class=\"dni-plaintext\"><pre></pre></div></td></tr></tbody></table></td></tr><tr><td><div class=\"dni-plaintext\"><pre>UnitPrice</pre></div></td><td><table><thead><tr><th><i>key</i></th><th>value</th></tr></thead><tbody><tr><td><div class=\"dni-plaintext\"><pre>CurrencyCode</pre></div></td><td><table><thead><tr><th><i>key</i></th><th><i>type</i></th><th>value</th></tr></thead><tbody><tr><td><div class=\"dni-plaintext\"><pre>confidence</pre></div></td><td><span><a href=\"https://docs.microsoft.com/dotnet/api/system.single?view=net-7.0\">System.Single</a></span></td><td><div class=\"dni-plaintext\"><pre>0</pre></div></td></tr><tr><td><div class=\"dni-plaintext\"><pre>lines</pre></div></td><td><span><a href=\"https://docs.microsoft.com/dotnet/api/system.collections.generic.list-1?view=net-7.0\">System.Collections.Generic.List&lt;System.ValueTuple&lt;System.Collections.Generic.List&lt;Azure.AI.DocumentIntelligence.DocumentWord&gt;,System.Single&gt;&gt;</a></span></td><td><i>(empty)</i></td></tr><tr><td><div class=\"dni-plaintext\"><pre>value</pre></div></td><td><span><a href=\"https://docs.microsoft.com/dotnet/api/system.string?view=net-7.0\">System.String</a></span></td><td><div class=\"dni-plaintext\"><pre>GBP</pre></div></td></tr></tbody></table></td></tr><tr><td><div class=\"dni-plaintext\"><pre>Amount</pre></div></td><td><table><thead><tr><th><i>key</i></th><th><i>type</i></th><th>value</th></tr></thead><tbody><tr><td><div class=\"dni-plaintext\"><pre>confidence</pre></div></td><td><span><a href=\"https://docs.microsoft.com/dotnet/api/system.single?view=net-7.0\">System.Single</a></span></td><td><div class=\"dni-plaintext\"><pre>0.998</pre></div></td></tr><tr><td><div class=\"dni-plaintext\"><pre>lines</pre></div></td><td><span><a href=\"https://docs.microsoft.com/dotnet/api/system.collections.generic.list-1?view=net-7.0\">System.Collections.Generic.List&lt;System.ValueTuple&lt;System.Collections.Generic.List&lt;Azure.AI.DocumentIntelligence.DocumentWord&gt;,System.Single&gt;&gt;</a></span></td><td><table><thead><tr><th><i>index</i></th><th>value</th></tr></thead><tbody><tr><td>0</td><td>(System.Collections.Generic.List`1[Azure.AI.DocumentIntelligence.DocumentWord], 0.998)</td></tr></tbody></table></td></tr><tr><td><div class=\"dni-plaintext\"><pre>value</pre></div></td><td><span><a href=\"https://docs.microsoft.com/dotnet/api/system.string?view=net-7.0\">System.String</a></span></td><td><div class=\"dni-plaintext\"><pre>15.46</pre></div></td></tr></tbody></table></td></tr></tbody></table></td></tr><tr><td><div class=\"dni-plaintext\"><pre>Total</pre></div></td><td><table><thead><tr><th><i>key</i></th><th>value</th></tr></thead><tbody><tr><td><div class=\"dni-plaintext\"><pre>CurrencyCode</pre></div></td><td><table><thead><tr><th><i>key</i></th><th><i>type</i></th><th>value</th></tr></thead><tbody><tr><td><div class=\"dni-plaintext\"><pre>confidence</pre></div></td><td><span><a href=\"https://docs.microsoft.com/dotnet/api/system.single?view=net-7.0\">System.Single</a></span></td><td><div class=\"dni-plaintext\"><pre>0</pre></div></td></tr><tr><td><div class=\"dni-plaintext\"><pre>lines</pre></div></td><td><span><a href=\"https://docs.microsoft.com/dotnet/api/system.collections.generic.list-1?view=net-7.0\">System.Collections.Generic.List&lt;System.ValueTuple&lt;System.Collections.Generic.List&lt;Azure.AI.DocumentIntelligence.DocumentWord&gt;,System.Single&gt;&gt;</a></span></td><td><i>(empty)</i></td></tr><tr><td><div class=\"dni-plaintext\"><pre>value</pre></div></td><td><span><a href=\"https://docs.microsoft.com/dotnet/api/system.string?view=net-7.0\">System.String</a></span></td><td><div class=\"dni-plaintext\"><pre>GBP</pre></div></td></tr></tbody></table></td></tr><tr><td><div class=\"dni-plaintext\"><pre>Amount</pre></div></td><td><table><thead><tr><th><i>key</i></th><th><i>type</i></th><th>value</th></tr></thead><tbody><tr><td><div class=\"dni-plaintext\"><pre>confidence</pre></div></td><td><span><a href=\"https://docs.microsoft.com/dotnet/api/system.single?view=net-7.0\">System.Single</a></span></td><td><div class=\"dni-plaintext\"><pre>0.996</pre></div></td></tr><tr><td><div class=\"dni-plaintext\"><pre>lines</pre></div></td><td><span><a href=\"https://docs.microsoft.com/dotnet/api/system.collections.generic.list-1?view=net-7.0\">System.Collections.Generic.List&lt;System.ValueTuple&lt;System.Collections.Generic.List&lt;Azure.AI.DocumentIntelligence.DocumentWord&gt;,System.Single&gt;&gt;</a></span></td><td><table><thead><tr><th><i>index</i></th><th>value</th></tr></thead><tbody><tr><td>0</td><td>(System.Collections.Generic.List`1[Azure.AI.DocumentIntelligence.DocumentWord], 0.996)</td></tr></tbody></table></td></tr><tr><td><div class=\"dni-plaintext\"><pre>value</pre></div></td><td><span><a href=\"https://docs.microsoft.com/dotnet/api/system.string?view=net-7.0\">System.String</a></span></td><td><div class=\"dni-plaintext\"><pre>185.52</pre></div></td></tr></tbody></table></td></tr></tbody></table></td></tr></tbody></table></td></tr></tbody></table></td></tr><tr><td><div class=\"dni-plaintext\"><pre>CustomerSignature</pre></div></td><td><span><a href=\"https://docs.microsoft.com/dotnet/api/system.collections.generic.dictionary-2?view=net-7.0\">System.Collections.Generic.Dictionary&lt;System.String,System.Object&gt;</a></span></td><td><table><thead><tr><th><i>key</i></th><th>value</th></tr></thead><tbody><tr><td><div class=\"dni-plaintext\"><pre>Signatory</pre></div></td><td><table><thead><tr><th><i>key</i></th><th><i>type</i></th><th>value</th></tr></thead><tbody><tr><td><div class=\"dni-plaintext\"><pre>confidence</pre></div></td><td><span><a href=\"https://docs.microsoft.com/dotnet/api/system.single?view=net-7.0\">System.Single</a></span></td><td><div class=\"dni-plaintext\"><pre>0.548</pre></div></td></tr><tr><td><div class=\"dni-plaintext\"><pre>lines</pre></div></td><td><span><a href=\"https://docs.microsoft.com/dotnet/api/system.collections.generic.list-1?view=net-7.0\">System.Collections.Generic.List&lt;System.ValueTuple&lt;System.Collections.Generic.List&lt;Azure.AI.DocumentIntelligence.DocumentWord&gt;,System.Single&gt;&gt;</a></span></td><td><table><thead><tr><th><i>index</i></th><th>value</th></tr></thead><tbody><tr><td>0</td><td><details class=\"dni-treeview\"><summary><span class=\"dni-code-hint\"><code>(System.Collections.Generic.List`1[Azure.AI.DocumentIntelligence.DocumentWord], 0.683)</code></span></summary><div><table><thead><tr></tr></thead><tbody><tr><td>Item1</td><td><table><thead><tr><th><i>index</i></th><th>value</th></tr></thead><tbody><tr><td>0</td><td>Azure.AI.DocumentIntelligence.DocumentWord</td></tr><tr><td>1</td><td>Azure.AI.DocumentIntelligence.DocumentWord</td></tr></tbody></table></td></tr><tr><td>Item2</td><td><div class=\"dni-plaintext\"><pre>0.683</pre></div></td></tr></tbody></table></div></details></td></tr><tr><td>1</td><td><details class=\"dni-treeview\"><summary><span class=\"dni-code-hint\"><code>(System.Collections.Generic.List`1[Azure.AI.DocumentIntelligence.DocumentWord], 0.548)</code></span></summary><div><table><thead><tr></tr></thead><tbody><tr><td>Item1</td><td><table><thead><tr><th><i>index</i></th><th>value</th></tr></thead><tbody><tr><td>0</td><td>Azure.AI.DocumentIntelligence.DocumentWord</td></tr><tr><td>1</td><td>Azure.AI.DocumentIntelligence.DocumentWord</td></tr></tbody></table></td></tr><tr><td>Item2</td><td><div class=\"dni-plaintext\"><pre>0.548</pre></div></td></tr></tbody></table></div></details></td></tr></tbody></table></td></tr><tr><td><div class=\"dni-plaintext\"><pre>value</pre></div></td><td><span><a href=\"https://docs.microsoft.com/dotnet/api/system.string?view=net-7.0\">System.String</a></span></td><td><div class=\"dni-plaintext\"><pre>Sarah H</pre></div></td></tr></tbody></table></td></tr><tr><td><div class=\"dni-plaintext\"><pre>Date</pre></div></td><td><table><thead><tr><th><i>key</i></th><th><i>type</i></th><th>value</th></tr></thead><tbody><tr><td><div class=\"dni-plaintext\"><pre>confidence</pre></div></td><td><span><a href=\"https://docs.microsoft.com/dotnet/api/system.single?view=net-7.0\">System.Single</a></span></td><td><div class=\"dni-plaintext\"><pre>0</pre></div></td></tr><tr><td><div class=\"dni-plaintext\"><pre>lines</pre></div></td><td><span><a href=\"https://docs.microsoft.com/dotnet/api/system.collections.generic.list-1?view=net-7.0\">System.Collections.Generic.List&lt;System.ValueTuple&lt;System.Collections.Generic.List&lt;Azure.AI.DocumentIntelligence.DocumentWord&gt;,System.Single&gt;&gt;</a></span></td><td><i>(empty)</i></td></tr><tr><td><div class=\"dni-plaintext\"><pre>value</pre></div></td><td><span><a href=\"https://docs.microsoft.com/dotnet/api/system.string?view=net-7.0\">System.String</a></span></td><td><div class=\"dni-plaintext\"><pre>2024-05-16</pre></div></td></tr></tbody></table></td></tr><tr><td><div class=\"dni-plaintext\"><pre>HasWrittenSignature</pre></div></td><td><table><thead><tr><th><i>key</i></th><th><i>type</i></th><th>value</th></tr></thead><tbody><tr><td><div class=\"dni-plaintext\"><pre>confidence</pre></div></td><td><span><a href=\"https://docs.microsoft.com/dotnet/api/system.single?view=net-7.0\">System.Single</a></span></td><td><div class=\"dni-plaintext\"><pre>0</pre></div></td></tr><tr><td><div class=\"dni-plaintext\"><pre>lines</pre></div></td><td><span><a href=\"https://docs.microsoft.com/dotnet/api/system.collections.generic.list-1?view=net-7.0\">System.Collections.Generic.List&lt;System.ValueTuple&lt;System.Collections.Generic.List&lt;Azure.AI.DocumentIntelligence.DocumentWord&gt;,System.Single&gt;&gt;</a></span></td><td><i>(empty)</i></td></tr><tr><td><div class=\"dni-plaintext\"><pre>value</pre></div></td><td><span><a href=\"https://docs.microsoft.com/dotnet/api/system.string?view=net-7.0\">System.String</a></span></td><td><div class=\"dni-plaintext\"><pre></pre></div></td></tr></tbody></table></td></tr></tbody></table></td></tr><tr><td><div class=\"dni-plaintext\"><pre>_overall</pre></div></td><td><span><a href=\"https://docs.microsoft.com/dotnet/api/system.single?view=net-7.0\">System.Single</a></span></td><td><div class=\"dni-plaintext\"><pre>0.5228</pre></div></td></tr></tbody></table><style>\r\n",
       ".dni-code-hint {\r\n",
       "    font-style: italic;\r\n",
       "    overflow: hidden;\r\n",
       "    white-space: nowrap;\r\n",
       "}\r\n",
       ".dni-treeview {\r\n",
       "    white-space: nowrap;\r\n",
       "}\r\n",
       ".dni-treeview td {\r\n",
       "    vertical-align: top;\r\n",
       "    text-align: start;\r\n",
       "}\r\n",
       "details.dni-treeview {\r\n",
       "    padding-left: 1em;\r\n",
       "}\r\n",
       "table td {\r\n",
       "    text-align: start;\r\n",
       "}\r\n",
       "table tr { \r\n",
       "    vertical-align: top; \r\n",
       "    margin: 0em 0px;\r\n",
       "}\r\n",
       "table tr td pre \r\n",
       "{ \r\n",
       "    vertical-align: top !important; \r\n",
       "    margin: 0em 0px !important;\r\n",
       "} \r\n",
       "table th {\r\n",
       "    text-align: start;\r\n",
       "}\r\n",
       "</style>"
      ]
     },
     "metadata": {},
     "output_type": "display_data"
    }
   ],
   "source": [
    "// Display the outputs of the extraction process.\n",
    "var output = new\n",
    "{\n",
    "    Accuracy = $\"{float.Parse(accuracy[\"overall\"].ToString()) * 100:0.00}%\",\n",
    "    Confidence = $\"{float.Parse(confidence[\"_overall\"].ToString()) * 100:0.00}%\",\n",
    "    ExecutionTime = $\"{totalElapsed.TotalSeconds:0.00} seconds\",\n",
    "    DocumentIntelligenceExecutionTime = $\"{diSw.Elapsed.TotalSeconds:0.00} seconds\",\n",
    "    PhiExecutionTime = $\"{phiSw.Elapsed.TotalSeconds:0.00} seconds\",\n",
    "    PromptTokens = promptTokens,\n",
    "    CompletionTokens = completionTokens,\n",
    "};\n",
    "\n",
    "display(output);\n",
    "display(confidence);"
   ]
  }
 ],
 "metadata": {
  "kernelspec": {
   "display_name": ".NET (C#)",
   "language": "C#",
   "name": ".net-csharp"
  },
  "language_info": {
   "name": "python"
  },
  "polyglot_notebook": {
   "kernelInfo": {
    "defaultKernelName": "csharp",
    "items": [
     {
      "aliases": [],
      "name": "csharp"
     }
    ]
   }
  }
 },
 "nbformat": 4,
 "nbformat_minor": 2
}
