{
 "cells": [
  {
   "cell_type": "code",
   "execution_count": 1,
   "metadata": {},
   "outputs": [],
   "source": [
    "import sys\n",
    "sys.path.append('../modules/') # Import local modules\n",
    "\n",
    "from IPython.display import display, Markdown\n",
    "import os\n",
    "from dotenv import dotenv_values\n",
    "import json\n",
    "from azure.storage.blob import BlobServiceClient\n",
    "from azure.identity import DefaultAzureCredential\n",
    "from pdf2image import convert_from_bytes\n",
    "\n",
    "from samples.app_settings import AppSettings\n",
    "from samples.utils.stopwatch import Stopwatch\n",
    "from samples.utils.storage_utils import create_data_file\n",
    "\n",
    "from samples.language.language_native_translator_client import LanguageNativeTranslatorClient"
   ]
  },
  {
   "cell_type": "code",
   "execution_count": null,
   "metadata": {},
   "outputs": [],
   "source": [
    "# Set the working directory to the root of the repo\n",
    "working_dir = os.path.abspath('../../../')\n",
    "settings = AppSettings(dotenv_values(f\"{working_dir}/.env\"))\n",
    "sample_path = f\"{working_dir}/samples/python/translation\"\n",
    "sample_name = \"document-translation-language-native-document\"\n",
    "\n",
    "# Configure the default credential for accessing Azure services using Azure CLI credentials\n",
    "credential = DefaultAzureCredential(\n",
    "    exclude_workload_identity_credential=True,\n",
    "    exclude_developer_cli_credential=True,\n",
    "    exclude_environment_credential=True,\n",
    "    exclude_managed_identity_credential=True,\n",
    "    exclude_powershell_credential=True,\n",
    "    exclude_shared_token_cache_credential=True,\n",
    "    exclude_interactive_browser_credential=True\n",
    ")\n",
    "\n",
    "language_translator_client = LanguageNativeTranslatorClient(\n",
    "    endpoint=settings.azure_ai_services_endpoint,\n",
    "    credential=credential\n",
    ")\n",
    "\n",
    "storage_account_name = settings.azure_storage_account_name\n",
    "\n",
    "blob_service_client = BlobServiceClient(\n",
    "    account_url=f\"https://{storage_account_name}.blob.core.windows.net\",\n",
    "    credential=credential\n",
    ")"
   ]
  },
  {
   "cell_type": "code",
   "execution_count": 3,
   "metadata": {},
   "outputs": [],
   "source": [
    "path = f\"{working_dir}/samples/assets/invoices/\"\n",
    "metadata_fname = \"invoice_6.json\"  # Change this to the file you want to evaluate\n",
    "metadata_fpath = f\"{path}{metadata_fname}\"\n",
    "\n",
    "# Load the metadata from the JSON file\n",
    "with open(metadata_fpath, \"r\") as f:\n",
    "    data = json.load(f)\n",
    "\n",
    "# Extract the PDF file name and path from the metadata\n",
    "pdf_fname = data['fname']\n",
    "pdf_fpath = f\"{path}{pdf_fname}\""
   ]
  },
  {
   "cell_type": "code",
   "execution_count": 4,
   "metadata": {},
   "outputs": [],
   "source": [
    "blob_container_name = \"translation-samples\"\n",
    "input_blob_container_folder = \"raw\"\n",
    "output_blob_container_folder = \"processed\"\n",
    "\n",
    "# Create the sample blob container if it doesn't exist\n",
    "blob_container_client = blob_service_client.get_container_client(blob_container_name)\n",
    "if not blob_container_client.exists():\n",
    "    blob_container_client.create_container()\n",
    "    \n",
    "# Upload the sample PDF file to the blob container in the input folder\n",
    "input_blob_client = blob_container_client.get_blob_client(f\"{input_blob_container_folder}/{pdf_fname}\")\n",
    "\n",
    "with open(pdf_fpath, \"rb\") as data:\n",
    "    input_blob_client.upload_blob(data, overwrite=True)"
   ]
  },
  {
   "cell_type": "code",
   "execution_count": 8,
   "metadata": {},
   "outputs": [],
   "source": [
    "with Stopwatch() as pii_stopwatch:\n",
    "    result = language_translator_client.begin_analyze_document(\n",
    "        analyze_request={ \n",
    "            \"inputs\": [\n",
    "                {\n",
    "                    \"storageType\": \"File\",\n",
    "                    \"source\": {\n",
    "                        \"sourceUrl\": f\"https://{storage_account_name}.blob.core.windows.net/{blob_container_name}/{input_blob_container_folder}/{pdf_fname}\"\n",
    "                    },\n",
    "                    \"targets\": [\n",
    "                        {\n",
    "                            \"targetUrl\": f\"https://{storage_account_name}.blob.core.windows.net/{blob_container_name}/{output_blob_container_folder}/en3_{pdf_fname}\",\n",
    "                            \"language\": \"en\"\n",
    "                        }\n",
    "                    ]\n",
    "                }\n",
    "            ]\n",
    "        })"
   ]
  }
 ],
 "metadata": {
  "kernelspec": {
   "display_name": "Python 3",
   "language": "python",
   "name": "python3"
  },
  "language_info": {
   "codemirror_mode": {
    "name": "ipython",
    "version": 3
   },
   "file_extension": ".py",
   "mimetype": "text/x-python",
   "name": "python",
   "nbconvert_exporter": "python",
   "pygments_lexer": "ipython3",
   "version": "3.12.8"
  }
 },
 "nbformat": 4,
 "nbformat_minor": 2
}
