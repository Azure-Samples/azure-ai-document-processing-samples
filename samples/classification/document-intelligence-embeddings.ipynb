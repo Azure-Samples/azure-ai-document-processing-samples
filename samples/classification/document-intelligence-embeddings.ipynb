{
 "cells": [
  {
   "cell_type": "markdown",
   "metadata": {},
   "source": [
    "# Classification - Azure AI Document Intelligence + Embeddings\n",
    "\n",
    "This sample demonstrates how to classify a document using Azure AI Document Intelligence and text embeddings.\n",
    "\n",
    "![Data Classification](../../images/classification-embeddings.png)\n",
    "\n",
    "This is achieved by the following process:\n",
    "\n",
    "- Define a list of classifications, with descriptions and keywords.\n",
    "- Create text embeddings for each of the classifications.\n",
    "- Analyze a document using Azure AI Document Intelligence's `prebuilt-layout` model to extract the text from each page.\n",
    "- For each page:\n",
    "  - Create text embeddings.\n",
    "  - Compare the embeddings with the embeddings of each classification.\n",
    "  - Assign the page to the classification with the highest similarity that exceeds a given threshold.\n",
    "\n",
    "## Objectives\n",
    "\n",
    "By the end of this sample, you will have learned how to:\n",
    "\n",
    "- Convert text to embeddings using Azure OpenAI's `text-embedding-3-large` model.\n",
    "- Convert a document's pages to Markdown format using Azure AI Document Intelligence.\n",
    "- Use cosine similarity to compare embeddings of classifications with document pages to classify them."
   ]
  },
  {
   "cell_type": "markdown",
   "metadata": {},
   "source": [
    "## Setup"
   ]
  },
  {
   "cell_type": "markdown",
   "metadata": {},
   "source": [
    "### Import modules\n",
    "\n",
    "This sample takes advantage of the following Python dependencies:\n",
    "\n",
    "- **numpy** and **sklearn** for determining the cosine similarity between embeddings.\n",
    "- **azure-ai-documentintelligence** to interface with the Azure AI Document Intelligence API for analyzing documents.\n",
    "- **openai** to interface with the Azure OpenAI API for generating text embeddings.\n",
    "- **azure-identity** to securely authenticate with deployed Azure Services using Microsoft Entra ID credentials.\n",
    "\n",
    "The following local modules are also used:\n",
    "\n",
    "- **modules.app_settings** to access environment variables from the `.env` file.\n",
    "- **modules.classification** to define the classifications.\n",
    "- **modules.comparison** to compare the output of the classification process with expected results.\n",
    "- **modules.document_processing_result** to store the results of the classification process as a file.\n",
    "- **modules.stopwatch** to measure the end-to-end execution time for the classification process."
   ]
  },
  {
   "cell_type": "code",
   "execution_count": 1,
   "metadata": {},
   "outputs": [],
   "source": [
    "import sys\n",
    "sys.path.append('../') # Import local modules\n",
    "\n",
    "from IPython.display import display, Markdown\n",
    "import numpy as np\n",
    "from sklearn.metrics.pairwise import cosine_similarity\n",
    "import os\n",
    "import pandas as pd\n",
    "from dotenv import dotenv_values\n",
    "from azure.ai.documentintelligence import DocumentIntelligenceClient\n",
    "from azure.ai.documentintelligence.models import AnalyzeResult, ContentFormat\n",
    "from openai import AzureOpenAI\n",
    "from azure.identity import DefaultAzureCredential, get_bearer_token_provider\n",
    "\n",
    "from modules.app_settings import AppSettings\n",
    "from modules.classification import Classifications, Classification\n",
    "from modules.comparison import classification_comparison\n",
    "from modules.document_processing_result import DataClassificationResult\n",
    "from modules.stopwatch import Stopwatch"
   ]
  },
  {
   "cell_type": "markdown",
   "metadata": {},
   "source": [
    "### Configure the Azure services\n",
    "\n",
    "To use Azure AI Document Intelligence and Azure OpenAI, their SDKs are used to create client instances using a deployed endpoint and authentication credentials.\n",
    "\n",
    "For this sample, the credentials of the Azure CLI are used to authenticate with the deployed services."
   ]
  },
  {
   "cell_type": "code",
   "execution_count": 2,
   "metadata": {},
   "outputs": [],
   "source": [
    "# Set the working directory to the root of the repo\n",
    "working_dir = os.path.abspath('../../')\n",
    "settings = AppSettings(dotenv_values(f\"{working_dir}/.env\"))\n",
    "\n",
    "# Configure the default credential for accessing Azure services using Azure CLI credentials\n",
    "credential = DefaultAzureCredential(\n",
    "    exclude_workload_identity_credential=True,\n",
    "    exclude_developer_cli_credential=True,\n",
    "    exclude_environment_credential=True,\n",
    "    exclude_managed_identity_credential=True,\n",
    "    exclude_powershell_credential=True,\n",
    "    exclude_shared_token_cache_credential=True,\n",
    "    exclude_interactive_browser_credential=True\n",
    ")\n",
    "\n",
    "openai_token_provider = get_bearer_token_provider(credential, 'https://cognitiveservices.azure.com/.default')\n",
    "\n",
    "openai_client = AzureOpenAI(\n",
    "    azure_endpoint=settings.openai_endpoint,\n",
    "    azure_ad_token_provider=openai_token_provider,\n",
    "    api_version=\"2024-08-01-preview\" # Requires the latest API version for structured outputs.\n",
    ")\n",
    "\n",
    "document_intelligence_client = DocumentIntelligenceClient(\n",
    "    endpoint=settings.ai_services_endpoint,\n",
    "    credential=credential\n",
    ")"
   ]
  },
  {
   "cell_type": "markdown",
   "metadata": {},
   "source": [
    "### Establish the expected output\n",
    "\n",
    "To compare the accuracy of the classification process, the expected output of the classification process has been defined in the following code block based on each page of the [Vehicle Insurance Policy](../assets/VehicleInsurancePolicy.pdf).\n",
    "\n",
    "The expected output has been defined by a human evaluating the document.\n",
    "\n",
    "> **Note**: Only the `page_number` and `classification` are used in the accuracy evaluation."
   ]
  },
  {
   "cell_type": "code",
   "execution_count": 3,
   "metadata": {},
   "outputs": [],
   "source": [
    "pdf_path = f\"{working_dir}/samples/assets/\"\n",
    "pdf_file_name = \"VehicleInsurancePolicy.pdf\"\n",
    "fname = f\"{pdf_path}{pdf_file_name}\"\n",
    "\n",
    "expected = Classifications(classifications=[\n",
    "    Classification(page_number=0, classification=\"Insurance Policy\", similarity=1, all_similarities=[]),\n",
    "    Classification(page_number=1, classification=\"Insurance Policy\", similarity=1, all_similarities=[]),\n",
    "    Classification(page_number=2, classification=\"Insurance Policy\", similarity=1, all_similarities=[]),\n",
    "    Classification(page_number=3, classification=\"Insurance Policy\", similarity=1, all_similarities=[]),\n",
    "    Classification(page_number=4, classification=\"Insurance Policy\", similarity=1, all_similarities=[]),\n",
    "    Classification(page_number=5, classification=\"Insurance Certificate\", similarity=1, all_similarities=[]),\n",
    "    Classification(page_number=6, classification=\"Terms and Conditions\", similarity=1, all_similarities=[]),\n",
    "    Classification(page_number=7, classification=\"Terms and Conditions\", similarity=1, all_similarities=[]),\n",
    "    Classification(page_number=8, classification=\"Terms and Conditions\", similarity=1, all_similarities=[]),\n",
    "    Classification(page_number=9, classification=\"Terms and Conditions\", similarity=1, all_similarities=[]),\n",
    "    Classification(page_number=10, classification=\"Terms and Conditions\", similarity=1, all_similarities=[]),\n",
    "    Classification(page_number=11, classification=\"Terms and Conditions\", similarity=1, all_similarities=[]),\n",
    "    Classification(page_number=12, classification=\"Terms and Conditions\", similarity=1, all_similarities=[])\n",
    "])"
   ]
  },
  {
   "cell_type": "markdown",
   "metadata": {},
   "source": [
    "## Define classifications\n",
    "\n",
    "The following code block defines the classifications for a document. Each classification has a name, description, and keywords that will be used to generate embeddings and compare similarity with each page of the document.\n",
    "\n",
    "> **Note**, the classifications have been defined based on expected content in a specific type of document, in this example, [the Vehicle Insurance Policy](../assets/VehicleInsurancePolicy.pdf)."
   ]
  },
  {
   "cell_type": "code",
   "execution_count": 4,
   "metadata": {},
   "outputs": [],
   "source": [
    "classifications = [\n",
    "    {\n",
    "        \"classification\": \"Insurance Policy\",\n",
    "        \"description\": \"Specific information related to an insurance policy, such as coverage, limits, premiums, and terms, often used for reference or clarification purposes.\",\n",
    "        \"keywords\": [\n",
    "            \"cover type\",\n",
    "            \"effective date\",\n",
    "            \"expiry date\",\n",
    "            \"excesses\",\n",
    "            \"premium\",\n",
    "            \"policy number\",\n",
    "        ]\n",
    "    },\n",
    "    {\n",
    "        \"classification\": \"Insurance Certificate\",\n",
    "        \"description\": \"A document that serves as proof of insurance coverage, often required for legal, regulatory, or contractual purposes.\",\n",
    "        \"keywords\": [\n",
    "            \"certificate\",\n",
    "            \"proof\",\n",
    "            \"coverage\",\n",
    "            \"liability\",\n",
    "            \"endorsement\",\n",
    "            \"declaration\",\n",
    "        ]\n",
    "    },\n",
    "    {\n",
    "        \"classification\": \"Terms and Conditions\",\n",
    "        \"description\": \"The rules, requirements, or obligations that govern an agreement or contract, often related to insurance policies, financial products, or legal documents.\",\n",
    "        \"keywords\": [\n",
    "            \"legal\",\n",
    "            \"statements\",\n",
    "            \"terms\",\n",
    "            \"conditions\",\n",
    "            \"rules\",\n",
    "            \"requirements\",\n",
    "            \"obligations\",\n",
    "            \"agreement\",\n",
    "            \"responsibilities\",\n",
    "            \"payment\",\n",
    "            \"renewal\",\n",
    "            \"cancellation\",\n",
    "            \"what's covered\",\n",
    "            \"what's not covered\",\n",
    "            \"exclusions\",\n",
    "            \"limitations\",\n",
    "            \"exceptions\",\n",
    "            \"restrictions\",\n",
    "        ]\n",
    "    }\n",
    "]"
   ]
  },
  {
   "cell_type": "markdown",
   "metadata": {},
   "source": [
    "## Convert the document pages to Markdown\n",
    "\n",
    "To classify the document pages using embeddings, the text from each page must first be extracted.\n",
    "\n",
    "The following code block converts the document pages to Markdown format using Azure AI Document Intelligence's `prebuilt-layout` model.\n",
    "\n",
    "For the purposes of this sample, we will be classifying each page. The benefit of using Azure AI Document Intelligence for this extraction is that it provides a page-by-page analysis result of the document."
   ]
  },
  {
   "cell_type": "code",
   "execution_count": 5,
   "metadata": {},
   "outputs": [],
   "source": [
    "with Stopwatch() as di_stopwatch:\n",
    "    with open(fname, \"rb\") as f:\n",
    "        poller = document_intelligence_client.begin_analyze_document(\n",
    "            \"prebuilt-layout\",\n",
    "            analyze_request=f,\n",
    "            output_content_format=ContentFormat.MARKDOWN,\n",
    "            content_type=\"application/pdf\"\n",
    "        )\n",
    "        \n",
    "    result: AnalyzeResult = poller.result()\n",
    "\n",
    "pages_content = []\n",
    "for page in result.pages:\n",
    "    # Extract the entire content for each page of the document based on the span offsets and lengths\n",
    "    content = result.content[page.spans[0]['offset']: page.spans[0]['offset'] + page.spans[0]['length']]\n",
    "    pages_content.append(content)"
   ]
  },
  {
   "cell_type": "markdown",
   "metadata": {},
   "source": [
    "## Create embeddings\n",
    "\n",
    "With the text extracted from the document and the classifications defined, the next step is to create embeddings for each page and classification."
   ]
  },
  {
   "cell_type": "markdown",
   "metadata": {},
   "source": [
    "### Retrieving embeddings for text\n",
    "\n",
    "The following helper function retrieves embeddings for a given piece of text using Azure OpenAI's `text-embedding-3-large` model."
   ]
  },
  {
   "cell_type": "code",
   "execution_count": 6,
   "metadata": {},
   "outputs": [],
   "source": [
    "def get_embedding(text: str):\n",
    "    response = openai_client.embeddings.create(\n",
    "        input=text,\n",
    "        model=settings.text_embedding_model_deployment_name\n",
    "    )\n",
    "    embedding = response.data[0].embedding\n",
    "    return embedding"
   ]
  },
  {
   "cell_type": "markdown",
   "metadata": {},
   "source": [
    "### Convert the classifications to embeddings\n",
    "\n",
    "The following code block takes each classification and generates the embeddings for the keywords."
   ]
  },
  {
   "cell_type": "code",
   "execution_count": 7,
   "metadata": {},
   "outputs": [],
   "source": [
    "with Stopwatch() as ce_stopwatch:\n",
    "    for classification in classifications:\n",
    "        combined_text = f\"{' '.join(classification['keywords'])}\"\n",
    "        classification['embedding'] = get_embedding(combined_text)"
   ]
  },
  {
   "cell_type": "markdown",
   "metadata": {},
   "source": [
    "### Convert the document pages to embeddings\n",
    "\n",
    "The following code block takes each page of the document and generates the embeddings for the text."
   ]
  },
  {
   "cell_type": "code",
   "execution_count": 8,
   "metadata": {},
   "outputs": [],
   "source": [
    "with Stopwatch() as de_stopwatch:\n",
    "    page_embeddings = []\n",
    "    for idx, text in enumerate(pages_content):\n",
    "        embedding = get_embedding(text)\n",
    "        page_embeddings.append(embedding)"
   ]
  },
  {
   "cell_type": "markdown",
   "metadata": {},
   "source": [
    "## Classify the document pages\n",
    "\n",
    "The following code block runs the classification process using cosine similarity to compare the embeddings of the document pages with the embeddings of the predefined categories.\n",
    "\n",
    "It performs the following steps iteratively for each page in the document:\n",
    "\n",
    "1. Calculates the cosine similarity between the embeddings of the page and the matrix of embeddings of the predefined categories.\n",
    "2. Finds the best match for the page based on the maximum cosine similarity score.\n",
    "3. If the cosine similarity score is above a certain threshold, the page is classified under the best match category. Otherwise, the page is classified as \"Unclassified\"."
   ]
  },
  {
   "cell_type": "code",
   "execution_count": 9,
   "metadata": {},
   "outputs": [],
   "source": [
    "similarity_threshold = 0.4\n",
    "\n",
    "classification_embeddings = [cls['embedding'] for cls in classifications]\n",
    "classification_matrix = np.array(classification_embeddings)\n",
    "\n",
    "with Stopwatch() as classify_stopwatch:\n",
    "    document_classifications = Classifications(classifications=[])\n",
    "    for idx, page_emb in enumerate(page_embeddings):\n",
    "        if not page_emb:\n",
    "            classification = \"Unclassified\"\n",
    "            similarity = 0.0\n",
    "        else:\n",
    "            page_vector = np.array(page_emb).reshape(1, -1)\n",
    "            similarities = cosine_similarity(page_vector, classification_matrix)[0]\n",
    "            best_match_idx = np.argmax(similarities)\n",
    "            best_similarity = similarities[best_match_idx]\n",
    "            all_similarities: list[dict[str,str]] = []\n",
    "            for cls, sim in zip(classifications, similarities):\n",
    "                all_similarities.append({\n",
    "                    \"classification\": cls['classification'],\n",
    "                    \"similarity\": str(sim)\n",
    "                })\n",
    "\n",
    "            if best_similarity >= similarity_threshold:\n",
    "                classification = classifications[best_match_idx]['classification']\n",
    "            else:\n",
    "                classification = \"Unclassified\"\n",
    "                \n",
    "        document_classifications.classifications.append(\n",
    "            Classification(\n",
    "                page_number=idx,\n",
    "                classification=classification,\n",
    "                similarity=best_similarity,\n",
    "                all_similarities=all_similarities\n",
    "            )\n",
    "        )"
   ]
  },
  {
   "cell_type": "markdown",
   "metadata": {},
   "source": [
    "## Calculate the accuracy\n",
    "\n",
    "The following code block calculates the accuracy of the classification process by comparing the actual classifications with the predicted classifications."
   ]
  },
  {
   "cell_type": "code",
   "execution_count": 10,
   "metadata": {},
   "outputs": [],
   "source": [
    "accuracy = dict()\n",
    "\n",
    "for idx, classification in enumerate(document_classifications.classifications):\n",
    "    page_number = classification.page_number\n",
    "    expected_classification = expected.get_classification(page_number).classification\n",
    "    actual_classification = classification.classification\n",
    "    accuracy[page_number] = 1 if expected_classification == actual_classification else 0\n",
    "    \n",
    "overall = sum(accuracy.values()) / len(accuracy)\n",
    "accuracy['overall'] = overall"
   ]
  },
  {
   "cell_type": "markdown",
   "metadata": {},
   "source": [
    "## Visualize the outputs\n",
    "\n",
    "To provide context for the execution of the code, the following code blocks visualize the outputs of the classification process.\n",
    "\n",
    "This includes:\n",
    "\n",
    "- The accuracy of the classification process comparing the expected output with the result of comparing the embeddings.\n",
    "- The execution time of the end-to-end process.\n",
    "- The classification results for each page in the document.\n",
    "\n",
    "### Understanding Similarity\n",
    "\n",
    "Cosine similarity is a metric used to measure how similar two vectors are. Embeddings are numerical representations of text. By converting a document page and classification keywords to embeddings, we can compare the similarity between the two using this technique.\n",
    "\n",
    "Similarity scores close to 1 indicate that the two vectors share similar characteristics, while scores closer to 0 or negative values indicate that the two vectors are dissimilar."
   ]
  },
  {
   "cell_type": "code",
   "execution_count": 11,
   "metadata": {},
   "outputs": [
    {
     "data": {
      "text/markdown": [
       "<table>\n",
       "<thead>\n",
       "<tr><th>Accuracy  </th><th>Execution Time  </th><th>Document Intelligence Execution Time  </th><th>Classification Embedding Execution Time  </th><th>Document Embedding Execution Time  </th><th>Classification Execution Time  </th></tr>\n",
       "</thead>\n",
       "<tbody>\n",
       "<tr><td>92.31%    </td><td>11.17 seconds   </td><td>7.41 seconds                          </td><td>1.70 seconds                             </td><td>2.02 seconds                       </td><td>0.04 seconds                   </td></tr>\n",
       "</tbody>\n",
       "</table>"
      ],
      "text/plain": [
       "<IPython.core.display.Markdown object>"
      ]
     },
     "metadata": {},
     "output_type": "display_data"
    },
    {
     "data": {
      "text/markdown": [
       "<table>\n",
       "<thead>\n",
       "<tr><th style=\"text-align: right;\">  Page</th><th>Expected             </th><th>Extracted                                              </th><th style=\"text-align: right;\">  Similarity</th><th>Matches                                                                                                                                                        </th></tr>\n",
       "</thead>\n",
       "<tbody>\n",
       "<tr><td style=\"text-align: right;\">     0</td><td>Insurance Policy     </td><td><span style='color: green'>Insurance Policy</span>     </td><td style=\"text-align: right;\">    0.499674</td><td><ul><li>Insurance Policy (0.49967448413024956)</li><li>Insurance Certificate (0.42930679934653765)</li><li>Terms and Conditions (0.37564145464816273)</li></ul></td></tr>\n",
       "<tr><td style=\"text-align: right;\">     1</td><td>Insurance Policy     </td><td><span style='color: green'>Insurance Policy</span>     </td><td style=\"text-align: right;\">    0.492551</td><td><ul><li>Insurance Policy (0.492550682114909)</li><li>Insurance Certificate (0.43398913025203145)</li><li>Terms and Conditions (0.404896770185204)</li></ul>    </td></tr>\n",
       "<tr><td style=\"text-align: right;\">     2</td><td>Insurance Policy     </td><td><span style='color: green'>Insurance Policy</span>     </td><td style=\"text-align: right;\">    0.478154</td><td><ul><li>Insurance Policy (0.4781539768108446)</li><li>Insurance Certificate (0.4355942432519841)</li><li>Terms and Conditions (0.3689413542285723)</li></ul>   </td></tr>\n",
       "<tr><td style=\"text-align: right;\">     3</td><td>Insurance Policy     </td><td><span style='color: red'>Unclassified</span>           </td><td style=\"text-align: right;\">    0.39564 </td><td><ul><li>Insurance Policy (0.39564022820051725)</li><li>Terms and Conditions (0.35477255739672475)</li><li>Insurance Certificate (0.34029757817106654)</li></ul></td></tr>\n",
       "<tr><td style=\"text-align: right;\">     4</td><td>Insurance Policy     </td><td><span style='color: green'>Insurance Policy</span>     </td><td style=\"text-align: right;\">    0.602353</td><td><ul><li>Insurance Policy (0.6023526579770556)</li><li>Insurance Certificate (0.43507389038041244)</li><li>Terms and Conditions (0.43269067427502883)</li></ul> </td></tr>\n",
       "<tr><td style=\"text-align: right;\">     5</td><td>Insurance Certificate</td><td><span style='color: green'>Insurance Certificate</span></td><td style=\"text-align: right;\">    0.526395</td><td><ul><li>Insurance Certificate (0.5263946839733032)</li><li>Insurance Policy (0.5116703812992802)</li><li>Terms and Conditions (0.4119173918990154)</li></ul>   </td></tr>\n",
       "<tr><td style=\"text-align: right;\">     6</td><td>Terms and Conditions </td><td><span style='color: green'>Terms and Conditions</span> </td><td style=\"text-align: right;\">    0.512304</td><td><ul><li>Terms and Conditions (0.5123037092284444)</li><li>Insurance Policy (0.4364133997063372)</li><li>Insurance Certificate (0.40406005318387517)</li></ul>  </td></tr>\n",
       "<tr><td style=\"text-align: right;\">     7</td><td>Terms and Conditions </td><td><span style='color: green'>Terms and Conditions</span> </td><td style=\"text-align: right;\">    0.529807</td><td><ul><li>Terms and Conditions (0.529807463777394)</li><li>Insurance Policy (0.47225913160981425)</li><li>Insurance Certificate (0.4313313331404175)</li></ul>   </td></tr>\n",
       "<tr><td style=\"text-align: right;\">     8</td><td>Terms and Conditions </td><td><span style='color: green'>Terms and Conditions</span> </td><td style=\"text-align: right;\">    0.467829</td><td><ul><li>Terms and Conditions (0.46782884412542797)</li><li>Insurance Policy (0.42621188856260067)</li><li>Insurance Certificate (0.37135628647491326)</li></ul></td></tr>\n",
       "<tr><td style=\"text-align: right;\">     9</td><td>Terms and Conditions </td><td><span style='color: green'>Terms and Conditions</span> </td><td style=\"text-align: right;\">    0.481846</td><td><ul><li>Terms and Conditions (0.481846340542209)</li><li>Insurance Certificate (0.440268346375272)</li><li>Insurance Policy (0.42257533753316334)</li></ul>    </td></tr>\n",
       "<tr><td style=\"text-align: right;\">    10</td><td>Terms and Conditions </td><td><span style='color: green'>Terms and Conditions</span> </td><td style=\"text-align: right;\">    0.479737</td><td><ul><li>Terms and Conditions (0.47973712095188187)</li><li>Insurance Policy (0.43987104749822503)</li><li>Insurance Certificate (0.4188467103428988)</li></ul> </td></tr>\n",
       "<tr><td style=\"text-align: right;\">    11</td><td>Terms and Conditions </td><td><span style='color: green'>Terms and Conditions</span> </td><td style=\"text-align: right;\">    0.501895</td><td><ul><li>Terms and Conditions (0.5018953040109185)</li><li>Insurance Policy (0.4833041785380461)</li><li>Insurance Certificate (0.43905074983717396)</li></ul>  </td></tr>\n",
       "<tr><td style=\"text-align: right;\">    12</td><td>Terms and Conditions </td><td><span style='color: green'>Terms and Conditions</span> </td><td style=\"text-align: right;\">    0.546613</td><td><ul><li>Terms and Conditions (0.5466127859591476)</li><li>Insurance Policy (0.47031919426961744)</li><li>Insurance Certificate (0.4167836286559835)</li></ul>  </td></tr>\n",
       "</tbody>\n",
       "</table>"
      ],
      "text/plain": [
       "<IPython.core.display.Markdown object>"
      ]
     },
     "metadata": {},
     "output_type": "display_data"
    }
   ],
   "source": [
    "# Gets the total execution time of the classification process.\n",
    "total_elapsed = di_stopwatch.elapsed + ce_stopwatch.elapsed + de_stopwatch.elapsed + classify_stopwatch.elapsed\n",
    "\n",
    "# Save the output of the data classification result.\n",
    "classification_result = DataClassificationResult(\n",
    "    classification=document_classifications.to_dict(),\n",
    "    accuracy=accuracy,\n",
    "    execution_time=total_elapsed\n",
    ")\n",
    "\n",
    "with open(f\"{working_dir}/samples/classification/document-intelligence-embeddings.{pdf_file_name}.json\", \"w\") as f:\n",
    "    f.write(classification_result.to_json(indent=4))\n",
    "\n",
    "# Display the outputs of the classification process.\n",
    "df = pd.DataFrame([\n",
    "    {\n",
    "        \"Accuracy\": f\"{accuracy['overall'] * 100:.2f}%\",\n",
    "        \"Execution Time\": f\"{total_elapsed:.2f} seconds\",\n",
    "        \"Document Intelligence Execution Time\": f\"{di_stopwatch.elapsed:.2f} seconds\",\n",
    "        \"Classification Embedding Execution Time\": f\"{ce_stopwatch.elapsed:.2f} seconds\",\n",
    "        \"Document Embedding Execution Time\": f\"{de_stopwatch.elapsed:.2f} seconds\",\n",
    "        \"Classification Execution Time\": f\"{classify_stopwatch.elapsed:.2f} seconds\"\n",
    "    }\n",
    "])\n",
    "\n",
    "display(Markdown(df.to_markdown(index=False, tablefmt='unsafehtml')))\n",
    "display(Markdown(classification_comparison(expected, document_classifications)))"
   ]
  }
 ],
 "metadata": {
  "kernelspec": {
   "display_name": "Python 3",
   "language": "python",
   "name": "python3"
  },
  "language_info": {
   "codemirror_mode": {
    "name": "ipython",
    "version": 3
   },
   "file_extension": ".py",
   "mimetype": "text/x-python",
   "name": "python",
   "nbconvert_exporter": "python",
   "pygments_lexer": "ipython3",
   "version": "3.12.7"
  }
 },
 "nbformat": 4,
 "nbformat_minor": 2
}
