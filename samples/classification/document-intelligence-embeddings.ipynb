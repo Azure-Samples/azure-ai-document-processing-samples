{
 "cells": [
  {
   "cell_type": "markdown",
   "metadata": {},
   "source": [
    "# Classification - Azure AI Document Intelligence + Embeddings\n",
    "\n",
    "This sample demonstrates how to use embeddings for a defined set of categories to classify documents to compare similarity with the embeddings of a given document's pages.\n",
    "\n",
    "## Objectives\n",
    "\n",
    "By the end of this sample, you will have learned how to:\n",
    "\n",
    "- Convert a predefined set of categories to embeddings using Azure OpenAI's `text-embedding-3-large` model.\n",
    "- Convert a document's pages to Markdown format using Azure AI Document Intelligence.\n",
    "- Compare the embeddings of the document's pages with the embeddings of the predefined categories to classify the document."
   ]
  },
  {
   "cell_type": "markdown",
   "metadata": {},
   "source": [
    "## Setup"
   ]
  },
  {
   "cell_type": "code",
   "execution_count": 94,
   "metadata": {},
   "outputs": [],
   "source": [
    "import sys\n",
    "sys.path.append('../')\n",
    "\n",
    "from IPython.display import display, Markdown\n",
    "\n",
    "import numpy as np\n",
    "from sklearn.metrics.pairwise import cosine_similarity\n",
    "import os\n",
    "from dotenv import dotenv_values\n",
    "from azure.ai.documentintelligence import DocumentIntelligenceClient\n",
    "from azure.ai.documentintelligence.models import AnalyzeResult, ContentFormat\n",
    "import json\n",
    "from openai import AzureOpenAI\n",
    "from azure.identity import DefaultAzureCredential, get_bearer_token_provider\n",
    "from modules.app_settings import AppSettings\n",
    "from modules.stopwatch import Stopwatch"
   ]
  },
  {
   "cell_type": "code",
   "execution_count": 95,
   "metadata": {},
   "outputs": [],
   "source": [
    "# Set the working directory to the root of the repo\n",
    "working_dir = os.path.abspath('../../')\n",
    "settings = AppSettings(dotenv_values(f\"{working_dir}/.env\"))\n",
    "\n",
    "# Configure the default credential for accessing Azure services using Azure CLI credentials\n",
    "credential = DefaultAzureCredential(\n",
    "    exclude_workload_identity_credential=True,\n",
    "    exclude_developer_cli_credential=True,\n",
    "    exclude_environment_credential=True,\n",
    "    exclude_managed_identity_credential=True,\n",
    "    exclude_powershell_credential=True,\n",
    "    exclude_shared_token_cache_credential=True,\n",
    "    exclude_interactive_browser_credential=True\n",
    ")\n",
    "\n",
    "openai_token_provider = get_bearer_token_provider(credential, 'https://cognitiveservices.azure.com/.default')\n",
    "\n",
    "openai_client = AzureOpenAI(\n",
    "    azure_endpoint=settings.openai_endpoint,\n",
    "    azure_ad_token_provider=openai_token_provider,\n",
    "    api_version=\"2024-08-01-preview\"\n",
    ")\n",
    "\n",
    "document_intelligence_client = DocumentIntelligenceClient(\n",
    "    endpoint=settings.ai_services_endpoint,\n",
    "    credential=credential\n",
    ")"
   ]
  },
  {
   "cell_type": "markdown",
   "metadata": {},
   "source": [
    "## Establish the classifications\n",
    "\n",
    "The following code block contains the classification definitions for a document. The classifications have been defined based on expected content in a specific type of document, in this example, insurance documents."
   ]
  },
  {
   "cell_type": "code",
   "execution_count": 96,
   "metadata": {},
   "outputs": [],
   "source": [
    "pdf_path = f\"{working_dir}/samples/assets/\"\n",
    "pdf_file_name = \"VehicleInsurancePolicy.pdf\"\n",
    "\n",
    "classifications = [\n",
    "    {\n",
    "        \"classification\": \"Insurance Correspondence\",\n",
    "        \"description\": \"An insurance communication exchanged between individuals, organizations, or parties, typically in written or electronic form, often used for record-keeping or official purposes.\",\n",
    "        \"keywords\": [\n",
    "            \"letter\",\n",
    "            \"communication\",\n",
    "            \"email\",\n",
    "            \"fax\",\n",
    "            \"letterhead\",\n",
    "        ]\n",
    "    },\n",
    "    {\n",
    "        \"classification\": \"Contact Information\",\n",
    "        \"description\": \"Personal or organizational details that can be used to contact or identify individuals or entities, often used for communication or reference purposes.\",\n",
    "        \"keywords\": [\n",
    "            \"policyholder\",\n",
    "            \"your address\",\n",
    "            \"email address\",\n",
    "            \"phone number\",\n",
    "        ]\n",
    "    },\n",
    "    {\n",
    "        \"classification\": \"Policy Details\",\n",
    "        \"description\": \"Specific information related to an insurance policy, such as coverage, limits, premiums, and terms, often used for reference or clarification purposes.\",\n",
    "        \"keywords\": [\n",
    "            \"cover type\",\n",
    "            \"effective date\",\n",
    "            \"excesses\",\n",
    "            \"schedule\",\n",
    "        ]\n",
    "    },\n",
    "    {\n",
    "        \"classification\": \"Insurance Certificate\",\n",
    "        \"description\": \"A document that serves as proof of insurance coverage, often required for legal, regulatory, or contractual purposes.\",\n",
    "        \"keywords\": [\n",
    "            \"certificate\",\n",
    "            \"proof\",\n",
    "            \"coverage\",\n",
    "            \"liability\",\n",
    "            \"endorsement\",\n",
    "            \"declaration\",\n",
    "        ]\n",
    "    },\n",
    "    {\n",
    "        \"classification\": \"Terms and Conditions\",\n",
    "        \"description\": \"The rules, requirements, or obligations that govern an agreement or contract, often related to insurance policies, financial products, or legal documents.\",\n",
    "        \"keywords\": [\n",
    "            \"legal\",\n",
    "            \"statements\",\n",
    "            \"terms\",\n",
    "            \"conditions\",\n",
    "            \"rules\",\n",
    "            \"requirements\",\n",
    "            \"obligations\",\n",
    "            \"agreement\",\n",
    "            \"responsibilities\",\n",
    "            \"payment\",\n",
    "            \"renewal\",\n",
    "            \"cancellation\",\n",
    "            \"what's covered\",\n",
    "        ]\n",
    "    }\n",
    "]"
   ]
  },
  {
   "cell_type": "markdown",
   "metadata": {},
   "source": [
    "## Convert the document pages to Markdown\n",
    "\n",
    "The following code block converts the document pages to Markdown format using Azure AI Document Intelligence. \n",
    "\n",
    "In this example, we will be creating embeddings per page. The benefit of using Azure AI Document Intelligence for this extraction is that it provides a page-by-page analysis result of the document."
   ]
  },
  {
   "cell_type": "code",
   "execution_count": 97,
   "metadata": {},
   "outputs": [],
   "source": [
    "fname = f\"{pdf_path}{pdf_file_name}\"\n",
    "\n",
    "with open(fname, \"rb\") as f:\n",
    "    poller = document_intelligence_client.begin_analyze_document(\n",
    "        \"prebuilt-layout\",\n",
    "        analyze_request=f,\n",
    "        output_content_format=ContentFormat.MARKDOWN,\n",
    "        content_type=\"application/pdf\"\n",
    "    )\n",
    "    \n",
    "result: AnalyzeResult = poller.result()\n",
    "\n",
    "pages = []\n",
    "for page in result.pages:\n",
    "    content = result.content[page.spans[0]['offset']: page.spans[0]['offset'] + page.spans[0]['length']]\n",
    "    pages.append(content)"
   ]
  },
  {
   "cell_type": "markdown",
   "metadata": {},
   "source": [
    "## Prepare the embeddings\n",
    "\n",
    "The following code blocks prepare the embeddings for the classifications and the document pages using Azure OpenAI's `text-embedding-3-large` model."
   ]
  },
  {
   "cell_type": "code",
   "execution_count": 98,
   "metadata": {},
   "outputs": [],
   "source": [
    "def get_embedding(text: str):\n",
    "    response = openai_client.embeddings.create(\n",
    "        input=text,\n",
    "        model=settings.text_embedding_model_deployment_name\n",
    "    )\n",
    "    embedding = response.data[0].embedding\n",
    "    return embedding"
   ]
  },
  {
   "cell_type": "markdown",
   "metadata": {},
   "source": [
    "### Convert the classifications to embeddings"
   ]
  },
  {
   "cell_type": "code",
   "execution_count": 99,
   "metadata": {},
   "outputs": [],
   "source": [
    "for classification in classifications:\n",
    "    combined_text = f\"{classification['classification']} {' '.join(classification['keywords'])}\"\n",
    "    classification['embedding'] = get_embedding(combined_text)"
   ]
  },
  {
   "cell_type": "markdown",
   "metadata": {},
   "source": [
    "### Convert the document pages to embeddings"
   ]
  },
  {
   "cell_type": "code",
   "execution_count": 100,
   "metadata": {},
   "outputs": [],
   "source": [
    "page_embeddings = []\n",
    "for idx, text in enumerate(pages):\n",
    "    embedding = get_embedding(text)\n",
    "    page_embeddings.append(embedding)"
   ]
  },
  {
   "cell_type": "markdown",
   "metadata": {},
   "source": [
    "## Classify the document pages\n",
    "\n",
    "The following code block executes the classification process using cosine similarity to compare the embeddings of the document pages with the embeddings of the predefined categories.\n",
    "\n",
    "It performs the following steps iteratively for each page in the document:\n",
    "\n",
    "1. Calculates the cosine similarity between the embeddings of the page and the matrix of embeddings of the predefined categories.\n",
    "2. Finds the best match for the page based on the maximum cosine similarity score.\n",
    "3. If the cosine similarity score is above a certain threshold, the page is classified under the best match category. Otherwise, the page is classified as \"Unclassified\"."
   ]
  },
  {
   "cell_type": "code",
   "execution_count": 101,
   "metadata": {},
   "outputs": [],
   "source": [
    "similarity_threshold = 0.4\n",
    "\n",
    "classification_embeddings = [cls['embedding'] for cls in classifications]\n",
    "classification_matrix = np.array(classification_embeddings)\n",
    "\n",
    "document_classifications = []\n",
    "for idx, page_emb in enumerate(page_embeddings):\n",
    "    if not page_emb:\n",
    "        classification = \"Unclassified\"\n",
    "        similarity = 0.0\n",
    "    else:\n",
    "        page_vector = np.array(page_emb).reshape(1, -1)\n",
    "        similarities = cosine_similarity(page_vector, classification_matrix)[0]\n",
    "        best_match_idx = np.argmax(similarities)\n",
    "        best_similarity = similarities[best_match_idx]\n",
    "        if best_similarity >= similarity_threshold:\n",
    "            best_classification = classifications[best_match_idx]['classification']\n",
    "            classification = best_classification\n",
    "            similarity = best_similarity\n",
    "            all_similarities = list(zip([cls['classification'] for cls in classifications], similarities))\n",
    "        else:\n",
    "            classification = \"Unclassified\"\n",
    "            similarity = best_similarity\n",
    "            all_similarities = list(zip([cls['classification'] for cls in classifications], similarities))\n",
    "    document_classifications.append({\n",
    "        \"page_number\": idx + 1,\n",
    "        \"classification\": classification,\n",
    "        \"similarity\": f\"{round(similarity * 100)}%\",\n",
    "        \"all_similarities\": [(cls, f\"{round(similarity * 100)}%\") for cls, similarity in all_similarities]\n",
    "    })"
   ]
  },
  {
   "cell_type": "markdown",
   "metadata": {},
   "source": [
    "## Visualize the outputs\n",
    "\n",
    "To provide context for the execution of the code, the following code blocks visualize the outputs of the classification process.\n",
    "\n",
    "This includes:\n",
    "- The classification results for each page in the document."
   ]
  },
  {
   "cell_type": "code",
   "execution_count": null,
   "metadata": {},
   "outputs": [],
   "source": [
    "# Display the outputs of the classification process.\n",
    "display(Markdown(f\"### Document Classifications:\"))\n",
    "for page in document_classifications:\n",
    "    display(Markdown(f\"#### Page {page['page_number']}\"))\n",
    "    display(Markdown(f\"**Classification:** {page['classification']}\"))\n",
    "    display(Markdown(f\"**All Similarities:** {page['all_similarities']}\"))"
   ]
  }
 ],
 "metadata": {
  "kernelspec": {
   "display_name": "Python 3",
   "language": "python",
   "name": "python3"
  },
  "language_info": {
   "codemirror_mode": {
    "name": "ipython",
    "version": 3
   },
   "file_extension": ".py",
   "mimetype": "text/x-python",
   "name": "python",
   "nbconvert_exporter": "python",
   "pygments_lexer": "ipython3",
   "version": "3.12.6"
  }
 },
 "nbformat": 4,
 "nbformat_minor": 2
}
