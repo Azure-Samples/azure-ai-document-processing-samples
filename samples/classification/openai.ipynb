{
 "cells": [
  {
   "cell_type": "markdown",
   "metadata": {},
   "source": [
    "# Classification - Azure OpenAI GPT-4o with Vision\n",
    "\n",
    "This sample demonstrates how to classify a document using Azure OpenAI's GPT-4o model with vision capabilities.\n",
    "\n",
    "![Data Classification](../../images/classification-openai.png)\n",
    "\n",
    "This is achieved by the following process:\n",
    "\n",
    "- Define a list of classifications, with descriptions and keywords.\n",
    "- Construct a system prompt that defines the instruction for classifying document pages.\n",
    "- Construct a user prompt that includes the defined classifications, and each document page as an base64 encoded image.\n",
    "- Use the Azure OpenAI chat completions API with the GPT-4o model to generate a classification for each document page as a structured output.\n",
    "\n",
    "## Objectives\n",
    "\n",
    "By the end of this sample, you will have learned how to:\n",
    "\n",
    "- Convert a document into a set of base64 encoded images for processing by GPT-4o.\n",
    "- Use prompt engineering techniques to instruct GPT-4o to classify a document's pages into predefined categories."
   ]
  },
  {
   "cell_type": "markdown",
   "metadata": {},
   "source": [
    "## Setup"
   ]
  },
  {
   "cell_type": "markdown",
   "metadata": {},
   "source": [
    "### Import modules\n",
    "\n",
    "This sample takes advantage of the following Python dependencies:\n",
    "\n",
    "- **pdf2image** for converting a PDF file into a set of images per page.\n",
    "- **openai** to interface with the Azure OpenAI chat completions API to generate structured classification outputs using the GPT-4o model.\n",
    "- **azure-identity** to securely authenticate with deployed Azure Services using Microsoft Entra ID credentials.\n",
    "\n",
    "The following local modules are also used:\n",
    "\n",
    "- **modules.app_settings** to access environment variables from the `.env` file.\n",
    "- **modules.classification** to define the classifications.\n",
    "- **modules.comparison** to compare the output of the classification process with expected results.\n",
    "- **modules.document_processing_result** to store the results of the classification process as a file.\n",
    "- **modules.openai_confidence** to calculate the confidence of the classification process based on the `logprobs` response from the API request.\n",
    "- **modules.stopwatch** to measure the end-to-end execution time for the classification process."
   ]
  },
  {
   "cell_type": "code",
   "execution_count": 1,
   "metadata": {},
   "outputs": [],
   "source": [
    "import sys\n",
    "sys.path.append('../') # Import local modules\n",
    "\n",
    "from IPython.display import display, Markdown\n",
    "import os\n",
    "import pandas as pd\n",
    "from dotenv import dotenv_values\n",
    "from pdf2image import convert_from_bytes\n",
    "import base64\n",
    "import io\n",
    "import json\n",
    "from openai import AzureOpenAI\n",
    "from azure.identity import DefaultAzureCredential, get_bearer_token_provider\n",
    "\n",
    "from modules.app_settings import AppSettings\n",
    "from modules.classification import Classifications, Classification\n",
    "from modules.comparison import classification_comparison\n",
    "from modules.document_processing_result import DataClassificationResult\n",
    "from modules.openai_confidence import evaluate_confidence\n",
    "from modules.stopwatch import Stopwatch"
   ]
  },
  {
   "cell_type": "markdown",
   "metadata": {},
   "source": [
    "### Configure the Azure services\n",
    "\n",
    "To use Azure OpenAI, the SDK is used to create a client instance using a deployed endpoint and authentication credentials.\n",
    "\n",
    "For this sample, the credentials of the Azure CLI are used to authenticate with the deployed services."
   ]
  },
  {
   "cell_type": "code",
   "execution_count": 2,
   "metadata": {},
   "outputs": [],
   "source": [
    "# Set the working directory to the root of the repo\n",
    "working_dir = os.path.abspath('../../')\n",
    "settings = AppSettings(dotenv_values(f\"{working_dir}/.env\"))\n",
    "\n",
    "# Configure the default credential for accessing Azure services using Azure CLI credentials\n",
    "credential = DefaultAzureCredential(\n",
    "    exclude_workload_identity_credential=True,\n",
    "    exclude_developer_cli_credential=True,\n",
    "    exclude_environment_credential=True,\n",
    "    exclude_managed_identity_credential=True,\n",
    "    exclude_powershell_credential=True,\n",
    "    exclude_shared_token_cache_credential=True,\n",
    "    exclude_interactive_browser_credential=True\n",
    ")\n",
    "\n",
    "openai_token_provider = get_bearer_token_provider(credential, 'https://cognitiveservices.azure.com/.default')\n",
    "\n",
    "openai_client = AzureOpenAI(\n",
    "    azure_endpoint=settings.openai_endpoint,\n",
    "    azure_ad_token_provider=openai_token_provider,\n",
    "    api_version=\"2024-08-01-preview\" # Requires the latest API version for structured outputs.\n",
    ")"
   ]
  },
  {
   "cell_type": "markdown",
   "metadata": {},
   "source": [
    "### Establish the expected output\n",
    "\n",
    "To compare the accuracy of the classification process, the expected output of the classification process has been defined in the following code block based on each page of the [Vehicle Insurance Policy](../assets/VehicleInsurancePolicy.pdf).\n",
    "\n",
    "The expected output has been defined by a human evaluating the document.\n",
    "\n",
    "> **Note**: Only the `page_number` and `classification` are used in the accuracy evaluation."
   ]
  },
  {
   "cell_type": "code",
   "execution_count": 3,
   "metadata": {},
   "outputs": [],
   "source": [
    "pdf_path = f\"{working_dir}/samples/assets/\"\n",
    "pdf_file_name = \"VehicleInsurancePolicy.pdf\"\n",
    "fname = f\"{pdf_path}{pdf_file_name}\"\n",
    "\n",
    "expected = Classifications(classifications=[\n",
    "    Classification(page_number=1, classification=\"Insurance Policy\", similarity=1, all_similarities=[]),\n",
    "    Classification(page_number=2, classification=\"Insurance Policy\", similarity=1, all_similarities=[]),\n",
    "    Classification(page_number=3, classification=\"Insurance Policy\", similarity=1, all_similarities=[]),\n",
    "    Classification(page_number=4, classification=\"Insurance Policy\", similarity=1, all_similarities=[]),\n",
    "    Classification(page_number=5, classification=\"Insurance Policy\", similarity=1, all_similarities=[]),\n",
    "    Classification(page_number=6, classification=\"Insurance Certificate\", similarity=1, all_similarities=[]),\n",
    "    Classification(page_number=7, classification=\"Terms and Conditions\", similarity=1, all_similarities=[]),\n",
    "    Classification(page_number=8, classification=\"Terms and Conditions\", similarity=1, all_similarities=[]),\n",
    "    Classification(page_number=9, classification=\"Terms and Conditions\", similarity=1, all_similarities=[]),\n",
    "    Classification(page_number=10, classification=\"Terms and Conditions\", similarity=1, all_similarities=[]),\n",
    "    Classification(page_number=11, classification=\"Terms and Conditions\", similarity=1, all_similarities=[]),\n",
    "    Classification(page_number=12, classification=\"Terms and Conditions\", similarity=1, all_similarities=[]),\n",
    "    Classification(page_number=13, classification=\"Terms and Conditions\", similarity=1, all_similarities=[])\n",
    "])"
   ]
  },
  {
   "cell_type": "markdown",
   "metadata": {},
   "source": [
    "## Define classifications\n",
    "\n",
    "The following code block defines the classifications for a document. Each classification has a name, description, and keywords that will be used to classify the document's pages.\n",
    "\n",
    "> **Note**, the classifications have been defined based on expected content in a specific type of document, in this example, [the Vehicle Insurance Policy](../assets/VehicleInsurancePolicy.pdf)."
   ]
  },
  {
   "cell_type": "code",
   "execution_count": 4,
   "metadata": {},
   "outputs": [],
   "source": [
    "classifications = [\n",
    "    {\n",
    "        \"classification\": \"Insurance Policy\",\n",
    "        \"description\": \"Specific information related to an insurance policy, such as coverage, limits, premiums, and terms, often used for reference or clarification purposes.\",\n",
    "        \"keywords\": [\n",
    "            \"cover type\",\n",
    "            \"effective date\",\n",
    "            \"expiry date\",\n",
    "            \"excesses\",\n",
    "            \"premium\",\n",
    "            \"policy number\",\n",
    "        ]\n",
    "    },\n",
    "    {\n",
    "        \"classification\": \"Insurance Certificate\",\n",
    "        \"description\": \"A document that serves as proof of insurance coverage, often required for legal, regulatory, or contractual purposes.\",\n",
    "        \"keywords\": [\n",
    "            \"certificate\",\n",
    "            \"proof\",\n",
    "            \"coverage\",\n",
    "            \"liability\",\n",
    "            \"endorsement\",\n",
    "            \"declaration\",\n",
    "        ]\n",
    "    },\n",
    "    {\n",
    "        \"classification\": \"Terms and Conditions\",\n",
    "        \"description\": \"The rules, requirements, or obligations that govern an agreement or contract, often related to insurance policies, financial products, or legal documents.\",\n",
    "        \"keywords\": [\n",
    "            \"legal\",\n",
    "            \"statements\",\n",
    "            \"terms\",\n",
    "            \"conditions\",\n",
    "            \"rules\",\n",
    "            \"requirements\",\n",
    "            \"obligations\",\n",
    "            \"agreement\",\n",
    "            \"responsibilities\",\n",
    "            \"payment\",\n",
    "            \"renewal\",\n",
    "            \"cancellation\",\n",
    "            \"what's covered\",\n",
    "            \"what's not covered\",\n",
    "            \"exclusions\",\n",
    "            \"limitations\",\n",
    "            \"exceptions\",\n",
    "            \"restrictions\",\n",
    "        ]\n",
    "    }\n",
    "]"
   ]
  },
  {
   "cell_type": "markdown",
   "metadata": {},
   "source": [
    "## Classify the document pages\n",
    "\n",
    "The following code block runs the classification process using Azure OpenAI's GPT-4o model using vision capabilities.\n",
    "\n",
    "It performs the following steps:\n",
    "\n",
    "1. Get the document bytes from the provided file path. _Note: In this example, we are processing a local document, however, you can use any document storage location of your choice, such as Azure Blob Storage._\n",
    "2. Use pdf2image to convert the document to a list of images per page as base64 strings.\n",
    "3. Use Azure OpenAI's GPT-4o model and the classification definitions to provide a classification for each page of the document."
   ]
  },
  {
   "cell_type": "code",
   "execution_count": 5,
   "metadata": {},
   "outputs": [],
   "source": [
    "# Prepare the user content for the OpenAI API including the classifications and the document page images.\n",
    "user_content = []\n",
    "user_content.append({\n",
    "    \"type\": \"text\",\n",
    "    \"text\": f\"\"\"Classifications:\n",
    "    \n",
    "    {json.dumps(classifications)}\n",
    "    \"\"\"\n",
    "})\n",
    "\n",
    "with Stopwatch() as image_stopwatch:\n",
    "    document_bytes = open(fname, \"rb\").read()\n",
    "    pages = convert_from_bytes(document_bytes)\n",
    "    for page in pages:\n",
    "        byteIO = io.BytesIO()\n",
    "        page.save(byteIO, format='PNG')\n",
    "        base64_data = base64.b64encode(byteIO.getvalue()).decode('utf-8')\n",
    "        \n",
    "        user_content.append({\n",
    "            \"type\": \"image_url\",\n",
    "            \"image_url\": {\n",
    "                \"url\": f\"data:image/png;base64,{base64_data}\"\n",
    "            }\n",
    "        })\n",
    "    \n",
    "with Stopwatch() as oai_stopwatch:\n",
    "    completion = openai_client.beta.chat.completions.parse(\n",
    "        model=settings.gpt4o_model_deployment_name,\n",
    "        messages=[\n",
    "            {\n",
    "                \"role\": \"system\",\n",
    "                \"content\": f\"\"\"Using the classifications provided, classify each page of the following document into one of the classifications. \n",
    "                - If a page contains multiple classifications, choose the most relevant one. \n",
    "                - If a page does not fit any of the classifications, use the classification 'Unclassified'.\"\"\",\n",
    "            },\n",
    "            {\n",
    "                \"role\": \"user\",\n",
    "                \"content\": user_content\n",
    "            }\n",
    "        ],\n",
    "        response_format=Classifications,\n",
    "        max_tokens=4096,\n",
    "        temperature=0.1,\n",
    "        top_p=0.1,\n",
    "        logprobs=True # Enabled to determine the confidence of the response.\n",
    "    )"
   ]
  },
  {
   "cell_type": "code",
   "execution_count": 6,
   "metadata": {},
   "outputs": [],
   "source": [
    "# Gets the parsed Classifications object from the completion response.\n",
    "document_classifications = completion.choices[0].message.parsed"
   ]
  },
  {
   "cell_type": "markdown",
   "metadata": {},
   "source": [
    "## Calculate the accuracy\n",
    "\n",
    "The following code block calculates the accuracy of the classification process by comparing the actual classifications with the predicted classifications."
   ]
  },
  {
   "cell_type": "code",
   "execution_count": 7,
   "metadata": {},
   "outputs": [],
   "source": [
    "accuracy = dict()\n",
    "\n",
    "for idx, classification in enumerate(document_classifications.classifications):\n",
    "    page_number = classification.page_number\n",
    "    expected_classification = expected.get_classification(page_number).classification\n",
    "    actual_classification = classification.classification\n",
    "    accuracy[page_number] = 1 if expected_classification == actual_classification else 0\n",
    "    \n",
    "overall = sum(accuracy.values()) / len(accuracy)\n",
    "accuracy['overall'] = overall"
   ]
  },
  {
   "cell_type": "markdown",
   "metadata": {},
   "source": [
    "## Visualize the outputs\n",
    "\n",
    "To provide context for the execution of the code, the following code blocks visualize the outputs of the classification process.\n",
    "\n",
    "This includes:\n",
    "\n",
    "- The accuracy of the classification process comparing the expected output with the output generated by Azure OpenAI's GPT-4o model.\n",
    "- The confidence score of the classification process based on the log probability of the predicted classification.\n",
    "- The execution time of the end-to-end process.\n",
    "- The total number of tokens consumed by the GPT-4o model.\n",
    "- The classification results for each page of the document.\n",
    "\n",
    "### Understanding Accuracy vs Confidence\n",
    "\n",
    "When using AI to classify data, both confidence and accuracy are essential for different but complementary reasons.\n",
    "\n",
    "- **Accuracy** measures how close the AI model's output is to a ground truth or expected output. It reflects how well the model's predictions align with reality.\n",
    "  - Accuracy ensures consistency in the classification process, which is crucial for downstream tasks using the data.\n",
    "- **Confidence** represents the AI model's internal assessment of how certain it is about its predictions.\n",
    "  - Confidence indicates that the model is certain about its predictions, which can be a useful indicator for human reviewers to step in for manual verification.\n",
    "\n",
    "High accuracy and high confidence are ideal, but in practice, there is often a trade-off between the two. While accuracy cannot always be self-assessed, confidence scores can and should be used to prioritize manual verification of low-confidence predictions."
   ]
  },
  {
   "cell_type": "code",
   "execution_count": 8,
   "metadata": {},
   "outputs": [
    {
     "data": {
      "text/markdown": [
       "<table>\n",
       "<thead>\n",
       "<tr><th>Accuracy  </th><th>Confidence  </th><th>Execution Time  </th><th>Image Pre-processing Execution Time  </th><th>OpenAI Execution Time  </th><th style=\"text-align: right;\">  Prompt Tokens</th><th style=\"text-align: right;\">  Completion Tokens</th></tr>\n",
       "</thead>\n",
       "<tbody>\n",
       "<tr><td>100.00%   </td><td>99.48%      </td><td>16.86 seconds   </td><td>5.34 seconds                         </td><td>11.52 seconds          </td><td style=\"text-align: right;\">           8652</td><td style=\"text-align: right;\">                143</td></tr>\n",
       "</tbody>\n",
       "</table>"
      ],
      "text/plain": [
       "<IPython.core.display.Markdown object>"
      ]
     },
     "metadata": {},
     "output_type": "display_data"
    },
    {
     "data": {
      "text/markdown": [
       "<table>\n",
       "<thead>\n",
       "<tr><th style=\"text-align: right;\">  Page</th><th>Expected             </th><th>Extracted                                              </th><th style=\"text-align: right;\">  Confidence</th></tr>\n",
       "</thead>\n",
       "<tbody>\n",
       "<tr><td style=\"text-align: right;\">     1</td><td>Insurance Policy     </td><td><span style='color: green'>Insurance Policy</span>     </td><td style=\"text-align: right;\">    0.999808</td></tr>\n",
       "<tr><td style=\"text-align: right;\">     2</td><td>Insurance Policy     </td><td><span style='color: green'>Insurance Policy</span>     </td><td style=\"text-align: right;\">    0.999998</td></tr>\n",
       "<tr><td style=\"text-align: right;\">     3</td><td>Insurance Policy     </td><td><span style='color: green'>Insurance Policy</span>     </td><td style=\"text-align: right;\">    0.999955</td></tr>\n",
       "<tr><td style=\"text-align: right;\">     4</td><td>Insurance Policy     </td><td><span style='color: green'>Insurance Policy</span>     </td><td style=\"text-align: right;\">    0.999519</td></tr>\n",
       "<tr><td style=\"text-align: right;\">     5</td><td>Insurance Policy     </td><td><span style='color: green'>Insurance Policy</span>     </td><td style=\"text-align: right;\">    0.997948</td></tr>\n",
       "<tr><td style=\"text-align: right;\">     6</td><td>Insurance Certificate</td><td><span style='color: green'>Insurance Certificate</span></td><td style=\"text-align: right;\">    0.991253</td></tr>\n",
       "<tr><td style=\"text-align: right;\">     7</td><td>Terms and Conditions </td><td><span style='color: green'>Terms and Conditions</span> </td><td style=\"text-align: right;\">    0.963077</td></tr>\n",
       "<tr><td style=\"text-align: right;\">     8</td><td>Terms and Conditions </td><td><span style='color: green'>Terms and Conditions</span> </td><td style=\"text-align: right;\">    0.985762</td></tr>\n",
       "<tr><td style=\"text-align: right;\">     9</td><td>Terms and Conditions </td><td><span style='color: green'>Terms and Conditions</span> </td><td style=\"text-align: right;\">    0.99906 </td></tr>\n",
       "<tr><td style=\"text-align: right;\">    10</td><td>Terms and Conditions </td><td><span style='color: green'>Terms and Conditions</span> </td><td style=\"text-align: right;\">    0.998795</td></tr>\n",
       "<tr><td style=\"text-align: right;\">    11</td><td>Terms and Conditions </td><td><span style='color: green'>Terms and Conditions</span> </td><td style=\"text-align: right;\">    0.99927 </td></tr>\n",
       "<tr><td style=\"text-align: right;\">    12</td><td>Terms and Conditions </td><td><span style='color: green'>Terms and Conditions</span> </td><td style=\"text-align: right;\">    0.997452</td></tr>\n",
       "<tr><td style=\"text-align: right;\">    13</td><td>Terms and Conditions </td><td><span style='color: green'>Terms and Conditions</span> </td><td style=\"text-align: right;\">  nan       </td></tr>\n",
       "</tbody>\n",
       "</table>"
      ],
      "text/plain": [
       "<IPython.core.display.Markdown object>"
      ]
     },
     "metadata": {},
     "output_type": "display_data"
    }
   ],
   "source": [
    "# Determines the confidence of the classifications using the log probabilities of the completion response.\n",
    "confidence = evaluate_confidence(document_classifications.to_dict(), completion.choices[0])\n",
    "\n",
    "# Gets the total execution time of the classification process.\n",
    "total_elapsed = image_stopwatch.elapsed + oai_stopwatch.elapsed\n",
    "\n",
    "# Gets the prompt tokens and completion tokens from the completion response.\n",
    "prompt_tokens = completion.usage.prompt_tokens\n",
    "completion_tokens = completion.usage.completion_tokens\n",
    "\n",
    "# Save the output of the data classification result.\n",
    "classification_result = DataClassificationResult(\n",
    "    classification=document_classifications.to_dict(),\n",
    "    accuracy=accuracy,\n",
    "    execution_time=total_elapsed\n",
    ")\n",
    "\n",
    "with open(f\"{working_dir}/samples/classification/openai.{pdf_file_name}.json\", \"w\") as f:\n",
    "    f.write(classification_result.to_json(indent=4))\n",
    "\n",
    "# Display the outputs of the classification process.\n",
    "df = pd.DataFrame([\n",
    "    {\n",
    "        \"Accuracy\": f\"{accuracy['overall'] * 100:.2f}%\",\n",
    "        \"Confidence\": f\"{confidence['_overall'] * 100:.2f}%\",\n",
    "        \"Execution Time\": f\"{total_elapsed:.2f} seconds\",\n",
    "        \"Image Pre-processing Execution Time\": f\"{image_stopwatch.elapsed:.2f} seconds\",\n",
    "        \"OpenAI Execution Time\": f\"{oai_stopwatch.elapsed:.2f} seconds\",\n",
    "        \"Prompt Tokens\": prompt_tokens,\n",
    "        \"Completion Tokens\": completion_tokens\n",
    "    }\n",
    "])\n",
    "\n",
    "display(Markdown(df.to_markdown(index=False, tablefmt='unsafehtml')))\n",
    "display(Markdown(classification_comparison(expected, document_classifications, confidence)))"
   ]
  }
 ],
 "metadata": {
  "kernelspec": {
   "display_name": "Python 3",
   "language": "python",
   "name": "python3"
  },
  "language_info": {
   "codemirror_mode": {
    "name": "ipython",
    "version": 3
   },
   "file_extension": ".py",
   "mimetype": "text/x-python",
   "name": "python",
   "nbconvert_exporter": "python",
   "pygments_lexer": "ipython3",
   "version": "3.12.7"
  }
 },
 "nbformat": 4,
 "nbformat_minor": 2
}
